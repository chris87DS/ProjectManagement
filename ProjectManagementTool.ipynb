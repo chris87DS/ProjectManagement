{
 "cells": [
  {
   "cell_type": "markdown",
   "metadata": {},
   "source": [
    "# Project Management"
   ]
  },
  {
   "cell_type": "markdown",
   "metadata": {},
   "source": [
    "## Internals"
   ]
  },
  {
   "cell_type": "code",
   "execution_count": 1,
   "metadata": {
    "collapsed": true
   },
   "outputs": [],
   "source": [
    "import pandas as pd\n",
    "import datetime as dt\n",
    "import numpy as np\n",
    "import IPython.display as dis"
   ]
  },
  {
   "cell_type": "markdown",
   "metadata": {},
   "source": [
    "### Param"
   ]
  },
  {
   "cell_type": "code",
   "execution_count": 69,
   "metadata": {
    "collapsed": false
   },
   "outputs": [],
   "source": [
    "_pathTasks='tasksProjet.csv'\n",
    "_pathAvail='availReel.csv'\n",
    "_ProjectStartDate = dt.datetime(year=2016,month=11,day=21)\n",
    "_1DayTimeDelta = dt.timedelta(1)"
   ]
  },
  {
   "cell_type": "markdown",
   "metadata": {},
   "source": [
    "### Load data"
   ]
  },
  {
   "cell_type": "code",
   "execution_count": 362,
   "metadata": {
    "collapsed": false
   },
   "outputs": [],
   "source": [
    "_TaskHeaders = ['TaskId','Subject','Name','WorkLoad','Who','StartDate','EndDate','Priority','PredecessorTaskId']\n",
    "\n",
    "def LoadTask(path):\n",
    "        data = pd.read_csv(path, header=0,names=_TaskHeaders, dtype={'PredecessorTaskId':object},delimiter=';',decimal=',')\n",
    "        data.StartDate = pd.to_datetime(data.StartDate)\n",
    "        data.EndDate = pd.to_datetime(data.EndDate)\n",
    "        data.index=data.TaskId\n",
    "        if len(data)!=len(data.TaskId.unique()):\n",
    "            raise Exception ('Tasks Id is not unique')\n",
    "        return data\n",
    "def LoadAvailability(path):\n",
    "    '''\n",
    "    This function load an availability matrix\n",
    "    '''\n",
    "    availCSV = pd.read_csv(path)\n",
    "    availCSV.Date = pd.to_datetime(availCSV.Date)\n",
    "    availCSV.sort_values(inplace=True,by='Date')\n",
    "    return availCSV\n",
    "    "
   ]
  },
  {
   "cell_type": "markdown",
   "metadata": {},
   "source": [
    "### Save"
   ]
  },
  {
   "cell_type": "code",
   "execution_count": 4,
   "metadata": {
    "collapsed": true
   },
   "outputs": [],
   "source": [
    "def SaveData(data,path):\n",
    "    data.to_csv(path)"
   ]
  },
  {
   "cell_type": "markdown",
   "metadata": {},
   "source": [
    "### Domain\n",
    "* Find tasks of a personn\n",
    "* Order tasks by priority then ID (just in case)\n",
    "* Compute end dates\n",
    "    * Find previous task of person and previous task id\n",
    "    * Based on the max start date and workload, iterate to see the day when the task will be finised\n"
   ]
  },
  {
   "cell_type": "code",
   "execution_count": 5,
   "metadata": {
    "collapsed": false
   },
   "outputs": [],
   "source": [
    "def FindPreviousTaskOfSomeone(tasks, current):\n",
    "    '''\n",
    "    Find the previous task in order of doing\n",
    "    Expects an order tasks pandas by priority desc and taskid \n",
    "    '''\n",
    "    whosTasks = FindTasksOfSomeone(tasks,current.Who)    \n",
    "    prevTasks= whosTasks.loc[:current.TaskId]\n",
    "    if len(prevTasks)<2 :\n",
    "        return None\n",
    "    else :\n",
    "        return prevTasks.iloc[-2]\n",
    "    \n",
    "    "
   ]
  },
  {
   "cell_type": "code",
   "execution_count": 6,
   "metadata": {
    "collapsed": false
   },
   "outputs": [],
   "source": [
    "def FindTasksOfSomeone(tasks, who):\n",
    "    return tasks[tasks.Who==who]\n",
    "def FindTaskById(tasks, taskid):\n",
    "    return tasks.loc[int(taskid)]\n",
    "def OrderTaskByPriority(tasks):\n",
    "    return tasks.sort_values(by=['Priority','TaskId'], ascending=[False,True])"
   ]
  },
  {
   "cell_type": "code",
   "execution_count": 29,
   "metadata": {
    "collapsed": false
   },
   "outputs": [],
   "source": [
    "def InitEmptyOccupation(avail,startDate, endDate):\n",
    "    users = avail.Who.unique()\n",
    "    duration = (endDate-startDate).days\n",
    "    return pd.DataFrame(data=np.zeros(shape=(duration,len(users)), dtype=np.int32),\\\n",
    "                        columns=users,\\\n",
    "                        index=np.arange(startDate,endDate, dtype='datetime64[D]'))"
   ]
  },
  {
   "cell_type": "code",
   "execution_count": 104,
   "metadata": {
    "collapsed": false
   },
   "outputs": [],
   "source": [
    "def ComputeEndDate(availability, task):\n",
    "    '''\n",
    "    Compute the end date based on the occupation of someone, a start date and a duration\n",
    "    '''    \n",
    "    availWho = availability[(availability.Who==task.Who) & (availability.Date>=task.StartDate)]  \n",
    "    currentOccupation = 0\n",
    "    endDate=None    \n",
    "    for index,item in availWho.iterrows():\n",
    "        currentOccupation=currentOccupation+item.Available\n",
    "        #print 'Task %s with workload %s at Date %s & occupation %s' %(task.TaskId,task.WorkLoad, item.Date, currentOccupation)\n",
    "        if(float(currentOccupation)>=float(task.WorkLoad)):\n",
    "            endDate=item.Date\n",
    "            break;\n",
    "    if(endDate==None):\n",
    "        raise Exception('Task cannot be ended',task)\n",
    "    return endDate\n",
    "        "
   ]
  },
  {
   "cell_type": "code",
   "execution_count": 9,
   "metadata": {
    "collapsed": true
   },
   "outputs": [],
   "source": [
    "def SetOccupiedBy(occupation,task):\n",
    "    occupation.loc[task.StartDate:task.EndDate,task.Who]=task.TaskId"
   ]
  },
  {
   "cell_type": "code",
   "execution_count": 89,
   "metadata": {
    "collapsed": false
   },
   "outputs": [],
   "source": [
    "def OrderTasksByPriorityAndPredecessor(tasks):\n",
    "    tasks = OrderTaskByPriority(tasks)\n",
    "    indexTasks = tasks.TaskId.tolist()\n",
    "    #print indexTasks\n",
    "    '''\n",
    "        While on the number of element\n",
    "            If has predecessor\n",
    "                Get its location \n",
    "                If bigger > cursor --> move after  (check if last item)          \n",
    "            If moved : do not move cursor\n",
    "            Else : next item\n",
    "        '''\n",
    "    lItems = len(indexTasks)\n",
    "    cursor = 0\n",
    "    moved = False \n",
    "    listOfMoved = []\n",
    "    while (cursor<lItems):  \n",
    "        taskI = tasks.loc[indexTasks[cursor]]\n",
    "        moved=False\n",
    "        #print '  Current task %s at position %s has predecessor %s'%(taskI.TaskId,cursor,taskI.PredecessorTaskId)\n",
    "        if (pd.isnull(taskI.PredecessorTaskId)==False) :\n",
    "            predecIdx = indexTasks.index(int(taskI.PredecessorTaskId))    \n",
    "            #print '  Predecessor %s is at position %s' %(taskI.PredecessorTaskId,predecIdx)\n",
    "            if(predecIdx>cursor):\n",
    "                #print '  Task %s with position %s must be moved after task %s at position %s' \\\n",
    "                #    %(taskI.TaskId,cursor,taskI.PredecessorTaskId,predecIdx)\n",
    "                #Check if this task has already been moved, if yes we have a cycle\n",
    "                if(taskI.TaskId in listOfMoved):\n",
    "                    raise Exception('There is a cycle between tasks found on ',taskI.TaskId)\n",
    "                listOfMoved.append(taskI.TaskId)\n",
    "                indexTasks.pop(cursor)\n",
    "                #print '  Popped %s' %(indexTasks)\n",
    "                Moved=True\n",
    "                cursor -=1\n",
    "                if(predecIdx==lItems-1):\n",
    "                    indexTasks.append(taskI.TaskId)\n",
    "                else:\n",
    "                    indexTasks.insert(predecIdx,taskI.TaskId)\n",
    "        if moved==False:\n",
    "                cursor +=1\n",
    "        #print '  %s' %(indexTasks)\n",
    "    return tasks.loc[indexTasks]"
   ]
  },
  {
   "cell_type": "code",
   "execution_count": 209,
   "metadata": {
    "collapsed": false
   },
   "outputs": [],
   "source": [
    "def ComputeOccupation(avail,tasks):\n",
    "    '''\n",
    "    Computer the tasks start and end date based on \n",
    "    \n",
    "    1. Order of computation is based on the priority and PredecessorTaskId\n",
    "        First the algorithm order by priority then check the predecessors \n",
    "    and moves each row just after its predecessor if it is before\n",
    "        The algorithm will however detect incorrect cases :\n",
    "    When it parcours the tasks, it checks if the PredecessorTaskId task has a end date. \n",
    "            If not, sends an error. \n",
    "            If yes uses the maximum between the previous task of the person and the predecessor\n",
    "    2. By personn iterate over its tasks and compute the dates \n",
    "        2.1 If first task : prevStartDate=_projectStartDate\n",
    "            else prevStartDate=previous.EndDate+1 (we cheat and say one task per day!)\n",
    "        2.2 Check the predecessor end date : \n",
    "            If predecessor.EndDate = NaT --> exception (cycle)\n",
    "        2.3 Take the max between both\n",
    "        2.4 Compute the end date, set it and the occupation matrix\n",
    "    '''\n",
    "    \n",
    "    lastEndDates = pd.Series(data=np.empty(len(_avail.Who.unique())),index=_avail.Who.unique())\n",
    "    lastEndDates[:]=_ProjectStartDate\n",
    "    orderedTasks = OrderTasksByPriorityAndPredecessor(tasks)\n",
    "    for currtask in orderedTasks.itertuples():\n",
    "        #print 'The current task is : %s' %(currtask.Index)        \n",
    "        previousEndDate=_ProjectStartDate-_1DayTimeDelta\n",
    "        predecessorTaskEndDate=_ProjectStartDate-_1DayTimeDelta\n",
    "        \n",
    "        #When did the last task finished\n",
    "        previousTasks = FindPreviousTaskOfSomeone(tasks, currtask)  \n",
    "        if(type(previousTasks)=='pandas.core.series.Series'):\n",
    "            previousEndDate=previousTasks.EndDate\n",
    "            if pd.isnull(previousEndDate):\n",
    "                raise Exception('Couldn''t find the end date of the previous task',currtask.TaskId)\n",
    "\n",
    "        #When did the predecessor finished if there is one\n",
    "        if(pd.isnull(currtask.PredecessorTaskId)==False):            \n",
    "            predecessorTask = FindTaskById(orderedTasks, currtask.PredecessorTaskId)\n",
    "            #print '   %s %s' %(predecessorTask.TaskId, predecessorTask.EndDate)\n",
    "            predecessorTaskEndDate=predecessorTask.EndDate\n",
    "            if pd.isnull(predecessorTaskEndDate):\n",
    "                raise Exception('Couldn''t find the end date of the predecessor task',currtask.TaskId)\n",
    "        latestDate = max(predecessorTaskEndDate,previousEndDate,lastEndDates[currtask.Who])\n",
    "        \n",
    "        #The task start the next day of the previous\n",
    "        orderedTasks.loc[currtask.Index,'StartDate']=latestDate+_1DayTimeDelta\n",
    "        foundEndDate=ComputeEndDate(avail,orderedTasks.loc[currtask.Index])\n",
    "        orderedTasks.loc[currtask.Index,'EndDate'] = foundEndDate\n",
    "        lastEndDates[currtask.Who]=foundEndDate\n",
    "        '''print 'Dates from %s to %s '%(orderedTasks.loc[currtask.Index,'StartDate'],\\\n",
    "                                      orderedTasks.loc[currtask.Index,'EndDate'])'''\n",
    "    return orderedTasks\n",
    "        \n",
    "\n",
    "    "
   ]
  },
  {
   "cell_type": "code",
   "execution_count": 12,
   "metadata": {
    "collapsed": false
   },
   "outputs": [],
   "source": [
    "def FillAllOccupationFromTasks(tasks):\n",
    "    occupation = InitEmptyOccupation(_avail,_ProjectStartDate,_ProjectStartDate+dt.timedelta(365))\n",
    "    for task in tasks.itertuples():\n",
    "        SetOccupiedBy(occupation,task)\n",
    "    return occupation"
   ]
  },
  {
   "cell_type": "markdown",
   "metadata": {},
   "source": [
    "#### Presentation"
   ]
  },
  {
   "cell_type": "code",
   "execution_count": 354,
   "metadata": {
    "collapsed": false
   },
   "outputs": [],
   "source": [
    "def DrawGant(tasks,idHtml,GroupByPerson=True):\n",
    "    '''\n",
    "    Send the javascript necessary to draw the chart\n",
    "    GroupByPersonn = true display the gant for by person, otherwise by subject\n",
    "    '''\n",
    "    if GroupByPerson:\n",
    "        tableCreation = \"\"\"var dataTable = new google.visualization.DataTable();\n",
    "\n",
    "        dataTable.addColumn({ type: 'string', id: 'Subject' });\n",
    "        dataTable.addColumn({ type: 'string', id: 'Name' });\n",
    "        dataTable.addColumn({'type': 'string', 'role': 'tooltip', 'p': {'html': true}})\n",
    "        dataTable.addColumn({ type: 'date', id: 'Start' });\n",
    "        dataTable.addColumn({ type: 'date', id: 'End' });        \n",
    "        \"\"\"\n",
    "    else: \n",
    "        tableCreation = \"\"\"var dataTable = new google.visualization.DataTable();\n",
    "\n",
    "        dataTable.addColumn({ type: 'string', id: 'Subject' });\n",
    "        dataTable.addColumn({ type: 'string', id: 'Name' });\n",
    "        dataTable.addColumn({'type': 'string', 'role': 'tooltip', 'p': {'html': true}})\n",
    "        dataTable.addColumn({ type: 'date', id: 'Start' });\n",
    "        dataTable.addColumn({ type: 'date', id: 'End' });\n",
    "        \"\"\"\n",
    "    def PrintToolTipHtml(task):\n",
    "        return '''createCustomHTMLContent('%s','%s','%s','%s','%s','%s','%s')'''%(task.Subject.replace(\"'\", \"\\\\'\"),\\\n",
    "                                                                              task.Name.replace(\"'\", \"\\\\'\"),\\\n",
    "                                                              task.StartDate.date(),task.EndDate.date(),task.WorkLoad,\\\n",
    "                                                              task.Who,task.PredecessorTaskId)\n",
    "    def PrintDate(date):\n",
    "        return 'new Date(%s,%s,%s)'%(date.year,date.month-1,date.day)\n",
    "    table=''\n",
    "    for gt in tasks.itertuples():\n",
    "        if GroupByPerson:\n",
    "            table = table + \"\"\"['{}','{}',{},{},{}],\n",
    "        \"\"\".format(gt.Who.replace(\"'\", \"\\\\'\"),gt.Name.replace(\"'\", \"\\\\'\"),\\\n",
    "                   PrintToolTipHtml(gt),\\\n",
    "                   #'test',\n",
    "                   PrintDate(gt.StartDate),PrintDate(gt.EndDate+_1DayTimeDelta)) \n",
    "        else:\n",
    "            table = table + \"\"\"['{}','{}',{},{},{}],\n",
    "        \"\"\".format(gt.Subject.replace(\"'\", \"\\\\'\"),\\\n",
    "                   gt.Name.replace(\"'\", \"\\\\'\"),\\\n",
    "                   PrintToolTipHtml(gt),\\\n",
    "                   #'test',\n",
    "                   PrintDate(gt.StartDate),PrintDate(gt.EndDate+_1DayTimeDelta)) \n",
    "        #The end date is one day later otherwise it stops at 0:00 leaving a day gap\n",
    "    #print 'google.visualization.arrayToDataTable([{}])'.format(table)\n",
    "    js = \"\"\"google.charts.load(\"current\", {{packages:[\"timeline\"]}});\n",
    "        google.charts.setOnLoadCallback(drawChart);\n",
    "         function drawChart() {{\n",
    "            var container = document.getElementById('{}');\n",
    "            var chart = new google.visualization.Timeline(container);\n",
    "            {}\n",
    "            dataTable.addRows([{}]);\n",
    "            var options = {{\n",
    "              timeline: {{ }},\n",
    "              tooltip: {{isHtml: true}},\n",
    "         }};\n",
    "\n",
    "         chart.draw(dataTable, options);\n",
    "         }}\n",
    "         \n",
    "         function createCustomHTMLContent(subject,name,start,end, workload, who, predecessor) {{\n",
    "             return '<div style=\"padding:5px 5px 5px 5px;\">'+\n",
    "             '<h3>'+subject+'<h3/>'+\n",
    "             '<h4>'+name+'</h4>'+             \n",
    "             '<ul><li>'+who+'</li>'+\n",
    "             '<li><strong>From</strong> '+start+' <strong>To</strong> '+end+'</li>'+\n",
    "             '<li><strong>WorkLoad</strong> '+workload+'</li>'+\n",
    "             '<li><strong>Predecessor</strong> '+predecessor+''+\n",
    "             '</ul>'+\n",
    "             '</div>'\n",
    "              }}\n",
    "        \n",
    "        \"\"\".format(idHtml,tableCreation,table)\n",
    "    #print js\n",
    "    return dis.Javascript(js)"
   ]
  },
  {
   "cell_type": "markdown",
   "metadata": {},
   "source": [
    "## Load Data"
   ]
  },
  {
   "cell_type": "code",
   "execution_count": 377,
   "metadata": {
    "collapsed": false
   },
   "outputs": [],
   "source": [
    "_tasks = LoadTask(_pathTasks)\n",
    "_avail = LoadAvailability(_pathAvail)\n",
    "_tasks = ComputeOccupation(_avail,_tasks)"
   ]
  },
  {
   "cell_type": "code",
   "execution_count": 147,
   "metadata": {
    "collapsed": false
   },
   "outputs": [
    {
     "data": {
      "text/html": [
       "<script type=\"text/javascript\" src=\"https://www.gstatic.com/charts/loader.js\"></script>"
      ],
      "text/plain": [
       "<IPython.core.display.HTML object>"
      ]
     },
     "metadata": {},
     "output_type": "display_data"
    }
   ],
   "source": [
    "%%html\n",
    "<script type=\"text/javascript\" src=\"https://www.gstatic.com/charts/loader.js\"></script>"
   ]
  },
  {
   "cell_type": "code",
   "execution_count": 261,
   "metadata": {
    "collapsed": false,
    "scrolled": false
   },
   "outputs": [
    {
     "data": {
      "text/html": [
       "\n",
       "       <div id=\"timeline\" style=\"height: 650px;width: 5000px\"></div>\n",
       "   "
      ],
      "text/plain": [
       "<IPython.core.display.HTML object>"
      ]
     },
     "metadata": {},
     "output_type": "display_data"
    }
   ],
   "source": [
    "%%html\n",
    "\n",
    "       <div id=\"timeline\" style=\"height: 650px;width: 5000px\"></div>\n",
    "   "
   ]
  },
  {
   "cell_type": "code",
   "execution_count": 378,
   "metadata": {
    "collapsed": false,
    "scrolled": false
   },
   "outputs": [
    {
     "data": {
      "application/javascript": [
       "google.charts.load(\"current\", {packages:[\"timeline\"]});\n",
       "        google.charts.setOnLoadCallback(drawChart);\n",
       "         function drawChart() {\n",
       "            var container = document.getElementById('timeline');\n",
       "            var chart = new google.visualization.Timeline(container);\n",
       "            var dataTable = new google.visualization.DataTable();\n",
       "\n",
       "        dataTable.addColumn({ type: 'string', id: 'Subject' });\n",
       "        dataTable.addColumn({ type: 'string', id: 'Name' });\n",
       "        dataTable.addColumn({'type': 'string', 'role': 'tooltip', 'p': {'html': true}})\n",
       "        dataTable.addColumn({ type: 'date', id: 'Start' });\n",
       "        dataTable.addColumn({ type: 'date', id: 'End' });\n",
       "        \n",
       "            dataTable.addRows([['Autres Sujets','Dev + UAT',createCustomHTMLContent('Autres Sujets','Dev + UAT','2016-11-22','2016-11-28','3.0','ACH','nan'),new Date(2016,10,22),new Date(2016,10,29)],\n",
       "        ['Lot Reserves','RC - Injecter les donnees en DEV',createCustomHTMLContent('Lot Reserves','RC - Injecter les donnees en DEV','2016-11-22','2016-11-22','1.0','PTI','nan'),new Date(2016,10,22),new Date(2016,10,23)],\n",
       "        ['Chargements initiaux','Agresso',createCustomHTMLContent('Chargements initiaux','Agresso','2016-11-22','2016-12-02','3.0','QPI','nan'),new Date(2016,10,22),new Date(2016,11,3)],\n",
       "        ['BAU','Injection de la cloture',createCustomHTMLContent('BAU','Injection de la cloture','2016-11-23','2016-11-23','1.0','PTI','nan'),new Date(2016,10,23),new Date(2016,10,24)],\n",
       "        ['Chargements initiaux','Vie',createCustomHTMLContent('Chargements initiaux','Vie','2016-11-24','2016-12-20','15.0','PTI','nan'),new Date(2016,10,24),new Date(2016,11,21)],\n",
       "        ['Lot Reserves','RC - Developper les flux datamarts',createCustomHTMLContent('Lot Reserves','RC - Developper les flux datamarts','2016-11-23','2016-11-23','1.0','DEL','4'),new Date(2016,10,23),new Date(2016,10,24)],\n",
       "        ['Scoring','Preparation et Deploiement en UAT',createCustomHTMLContent('Scoring','Preparation et Deploiement en UAT','2016-11-22','2016-11-30','2.0','CGA','nan'),new Date(2016,10,22),new Date(2016,11,1)],\n",
       "        ['Scoring','Chargement datamart en UAT',createCustomHTMLContent('Scoring','Chargement datamart en UAT','2016-12-01','2016-12-12','2.0','CGA','39'),new Date(2016,11,1),new Date(2016,11,13)],\n",
       "        ['Scoring','Creation univers scoring',createCustomHTMLContent('Scoring','Creation univers scoring','2016-12-13','2016-12-13','1.0','EGA','40'),new Date(2016,11,13),new Date(2016,11,14)],\n",
       "        ['Scoring','Creation rapports scoring',createCustomHTMLContent('Scoring','Creation rapports scoring','2016-12-14','2016-12-16','2.0','MWA','41'),new Date(2016,11,14),new Date(2016,11,17)],\n",
       "        ['Scoring','Validation rapports scoring',createCustomHTMLContent('Scoring','Validation rapports scoring','2016-12-17','2016-12-20','2.0','MWA','42'),new Date(2016,11,17),new Date(2016,11,21)],\n",
       "        ['Scoring','Analyse des erreurs',createCustomHTMLContent('Scoring','Analyse des erreurs','2016-12-21','2016-12-28','2.0','CGA','43'),new Date(2016,11,21),new Date(2016,11,29)],\n",
       "        ['Scoring','Preparation et deploiement en production univers et rapports',createCustomHTMLContent('Scoring','Preparation et deploiement en production univers et rapports','2016-12-29','2017-01-02','1.0','CGA','44'),new Date(2016,11,29),new Date(2017,0,3)],\n",
       "        ['Scoring','Preparation et deploiement en production datamart',createCustomHTMLContent('Scoring','Preparation et deploiement en production datamart','2017-01-03','2017-01-09','1.0','CGA','45'),new Date(2017,0,3),new Date(2017,0,10)],\n",
       "        ['PM','PM',createCustomHTMLContent('PM','PM','2016-11-22','2017-09-21','110.0','PM','nan'),new Date(2016,10,22),new Date(2017,8,22)],\n",
       "        ['Sprint','Preparation de l\\'environnement',createCustomHTMLContent('Sprint','Preparation de l\\'environnement','2016-11-29','2016-12-01','2.0','ACH','nan'),new Date(2016,10,29),new Date(2016,11,2)],\n",
       "        ['Lot Reserves','DMG - Developpement des adaptations',createCustomHTMLContent('Lot Reserves','DMG - Developpement des adaptations','2016-11-24','2016-11-25','2.0','DEL','4'),new Date(2016,10,24),new Date(2016,10,26)],\n",
       "        ['Lot Reserves','RA - Developpement des adaptations',createCustomHTMLContent('Lot Reserves','RA - Developpement des adaptations','2016-11-26','2016-11-29','2.0','DEL','4'),new Date(2016,10,26),new Date(2016,10,30)],\n",
       "        ['Sprint','Preparation deploiement en UAT',createCustomHTMLContent('Sprint','Preparation deploiement en UAT','2016-12-02','2016-12-06','2.0','ACH','5'),new Date(2016,11,2),new Date(2016,11,7)],\n",
       "        ['Sprint','Deployer en UAT et injecter les donnees',createCustomHTMLContent('Sprint','Deployer en UAT et injecter les donnees','2016-12-07','2016-12-13','3.0','ACH','7'),new Date(2016,11,7),new Date(2016,11,14)],\n",
       "        ['Sprint','Support UAT',createCustomHTMLContent('Sprint','Support UAT','2016-12-14','2016-12-20','3.0','ACH','8'),new Date(2016,11,14),new Date(2016,11,21)],\n",
       "        ['Lot Reserves','RC - Adapter l\\'univers',createCustomHTMLContent('Lot Reserves','RC - Adapter l\\'univers','2016-12-14','2016-12-14','1.0','EGA','5'),new Date(2016,11,14),new Date(2016,11,15)],\n",
       "        ['Lot Reserves','RC - Tester et valider',createCustomHTMLContent('Lot Reserves','RC - Tester et valider','2016-11-24','2016-12-02','4.0','LZI','5'),new Date(2016,10,24),new Date(2016,11,3)],\n",
       "        ['Lot Reserves','RA - Adaptation univers',createCustomHTMLContent('Lot Reserves','RA - Adaptation univers','2016-12-15','2016-12-16','2.0','EGA','3'),new Date(2016,11,15),new Date(2016,11,17)],\n",
       "        ['Lot Reserves','RA - Tester et valider Corporate',createCustomHTMLContent('Lot Reserves','RA - Tester et valider Corporate','2016-11-30','2016-12-05','3.0','SLA','3'),new Date(2016,10,30),new Date(2016,11,6)],\n",
       "        ['Lot Reserves','RA - Tester et valider Invest',createCustomHTMLContent('Lot Reserves','RA - Tester et valider Invest','2016-11-30','2016-12-05','3.0','AHI','3'),new Date(2016,10,30),new Date(2016,11,6)],\n",
       "        ['Lot Reserves','RA - Tester et valider Classique',createCustomHTMLContent('Lot Reserves','RA - Tester et valider Classique','2016-11-30','2016-12-05','3.0','OGO','3'),new Date(2016,10,30),new Date(2016,11,6)],\n",
       "        ['Lot Reserves','DMG - Creation univers',createCustomHTMLContent('Lot Reserves','DMG - Creation univers','2016-12-17','2016-12-23','5.0','EGA','2'),new Date(2016,11,17),new Date(2016,11,24)],\n",
       "        ['Lot Reserves','DMG - Tester et valider (definir methode)',createCustomHTMLContent('Lot Reserves','DMG - Tester et valider (definir methode)','2016-12-06','2016-12-22','10.0','SLA','2'),new Date(2016,11,6),new Date(2016,11,23)],\n",
       "        ['BAU','BAU',createCustomHTMLContent('BAU','BAU','2016-11-22','2017-09-21','175.0','BAU','nan'),new Date(2016,10,22),new Date(2017,8,22)],\n",
       "        ['EDB','Gouvernance et fonctionnement en 2017',createCustomHTMLContent('EDB','Gouvernance et fonctionnement en 2017','2016-11-22','2016-11-22','1.0','OVA','nan'),new Date(2016,10,22),new Date(2016,10,23)],\n",
       "        ['BAU','Mouvements non visibles hors octobre 2016',createCustomHTMLContent('BAU','Mouvements non visibles hors octobre 2016','2016-12-03','2017-01-06','10.0','QPI','nan'),new Date(2016,11,3),new Date(2017,0,7)],\n",
       "        ['Sprint','Deployer en production',createCustomHTMLContent('Sprint','Deployer en production','2016-12-21','2016-12-21','1.0','PTI','10'),new Date(2016,11,21),new Date(2016,11,22)],\n",
       "        ['BAU','Support au metier 2016',createCustomHTMLContent('BAU','Support au metier 2016','2016-12-22','2016-12-29','5.0','PTI','nan'),new Date(2016,11,22),new Date(2016,11,30)],\n",
       "        ['Datamart comptabilite','Contenu fichier mapping compte',createCustomHTMLContent('Datamart comptabilite','Contenu fichier mapping compte','2016-12-24','2016-12-27','2.0','EGA','nan'),new Date(2016,11,24),new Date(2016,11,28)],\n",
       "        ['CR','Adaptation framework data quality - besoins (a analyser)',createCustomHTMLContent('CR','Adaptation framework data quality - besoins (a analyser)','2016-12-28','2016-12-29','2.0','EGA','nan'),new Date(2016,11,28),new Date(2016,11,30)],\n",
       "        ['CR','Adaptation framework data quality - technique (a analyser)',createCustomHTMLContent('CR','Adaptation framework data quality - technique (a analyser)','2016-12-30','2017-02-14','20.0','ACH','34'),new Date(2016,11,30),new Date(2017,1,15)],\n",
       "        ['CR','Adaptation framework data quality - tests (a analyser)',createCustomHTMLContent('CR','Adaptation framework data quality - tests (a analyser)','2017-02-15','2017-02-16','2.0','EGA','58'),new Date(2017,1,15),new Date(2017,1,17)],\n",
       "        ['CR','Mise a jour des fichiers referentiels (a analyser)',createCustomHTMLContent('CR','Mise a jour des fichiers referentiels (a analyser)','2017-02-17','2017-02-23','5.0','EGA','nan'),new Date(2017,1,17),new Date(2017,1,24)],\n",
       "        ['CR','Injection des nouveaux referentiels',createCustomHTMLContent('CR','Injection des nouveaux referentiels','2017-02-24','2017-02-27','1.0','PTI','37'),new Date(2017,1,24),new Date(2017,1,28)],\n",
       "        ['BAU','Operationnalisation dqi, kpi etc',createCustomHTMLContent('BAU','Operationnalisation dqi, kpi etc','2017-02-15','2017-03-09','10.0','ACH','11'),new Date(2017,1,15),new Date(2017,2,10)],\n",
       "        ['Rapports initiaux','Developpement des rapports',createCustomHTMLContent('Rapports initiaux','Developpement des rapports','2016-12-21','2016-12-29','5.0','MWA','nan'),new Date(2016,11,21),new Date(2016,11,30)],\n",
       "        ['Rapports initiaux','Extractions de comparaison',createCustomHTMLContent('Rapports initiaux','Extractions de comparaison','2017-02-28','2017-03-07','5.0','PTI','nan'),new Date(2017,1,28),new Date(2017,2,8)],\n",
       "        ['Rapports initiaux','Analyse des erreurs',createCustomHTMLContent('Rapports initiaux','Analyse des erreurs','2017-03-08','2017-03-15','5.0','PTI','51'),new Date(2017,2,8),new Date(2017,2,16)],\n",
       "        ['Rapports initiaux','Corrections',createCustomHTMLContent('Rapports initiaux','Corrections','2017-03-16','2017-04-11','15.0','PTI','52'),new Date(2017,2,16),new Date(2017,3,12)],\n",
       "        ['Rapports initiaux','Preparation et deploiement UAT',createCustomHTMLContent('Rapports initiaux','Preparation et deploiement UAT','2017-04-12','2017-04-18','4.0','PTI','53'),new Date(2017,3,12),new Date(2017,3,19)],\n",
       "        ['Rapports initiaux','Support UAT',createCustomHTMLContent('Rapports initiaux','Support UAT','2017-04-19','2017-04-26','5.0','PTI','54'),new Date(2017,3,19),new Date(2017,3,27)],\n",
       "        ['Rapports initiaux','Deploiement production',createCustomHTMLContent('Rapports initiaux','Deploiement production','2017-04-27','2017-04-27','1.0','PTI','55'),new Date(2017,3,27),new Date(2017,3,28)],\n",
       "        ['BAU','Gestion des droits d\\'acces',createCustomHTMLContent('BAU','Gestion des droits d\\'acces','2017-01-10','2017-01-23','3.0','CGA','nan'),new Date(2017,0,10),new Date(2017,0,24)],\n",
       "        ['CR','Prestations hors systeme sources (a analyser)',createCustomHTMLContent('CR','Prestations hors systeme sources (a analyser)','2017-04-28','2017-05-24','15.0','PTI','nan'),new Date(2017,3,28),new Date(2017,4,25)],\n",
       "        ['CR','Reprise historique (version d\\'un record)',createCustomHTMLContent('CR','Reprise historique (version d\\'un record)','2017-01-24','2017-06-12','30.0','CGA','nan'),new Date(2017,0,24),new Date(2017,5,13)],\n",
       "        ['BAU','Primes techniques (inventaires, commerciales...) erronees',createCustomHTMLContent('BAU','Primes techniques (inventaires, commerciales...) erronees','2017-03-10','2017-04-03','10.0','ACH','nan'),new Date(2017,2,10),new Date(2017,3,4)],\n",
       "        ['BAU','Issue comptabilite',createCustomHTMLContent('BAU','Issue comptabilite','2017-05-25','2017-06-12','10.0','PTI','nan'),new Date(2017,4,25),new Date(2017,5,13)],\n",
       "        ['CR','DQI',createCustomHTMLContent('CR','DQI','2017-06-13','2017-09-28','62.5','PTI','nan'),new Date(2017,5,13),new Date(2017,8,29)],\n",
       "        ['BAU','Formation SAP BO administration',createCustomHTMLContent('BAU','Formation SAP BO administration','2017-06-13','2017-07-05','5.0','CGA','nan'),new Date(2017,5,13),new Date(2017,6,6)],\n",
       "        ['IT','Merge framework',createCustomHTMLContent('IT','Merge framework','2017-07-06','2017-08-21','10.0','CGA','nan'),new Date(2017,6,6),new Date(2017,7,22)],\n",
       "        ['CR','KPI AXA',createCustomHTMLContent('CR','KPI AXA','2017-04-04','2017-08-21','60.0','ACH','nan'),new Date(2017,3,4),new Date(2017,7,22)],\n",
       "        ['BAU','Validation fonctionnelle des chargements',createCustomHTMLContent('BAU','Validation fonctionnelle des chargements','2017-09-29','2017-10-25','15.0','PTI','nan'),new Date(2017,8,29),new Date(2017,9,26)],\n",
       "        ['BAU','Formalisation EX RM WIN AIX',createCustomHTMLContent('BAU','Formalisation EX RM WIN AIX','2017-08-22','2017-08-28','3.0','ACH','nan'),new Date(2017,7,22),new Date(2017,7,29)],\n",
       "        ['BAU','automatisation de l\\'injection des clotures',createCustomHTMLContent('BAU','automatisation de l\\'injection des clotures','2017-08-29','2017-10-02','15.0','ACH','18'),new Date(2017,7,29),new Date(2017,9,3)],\n",
       "        ]);\n",
       "            var options = {\n",
       "              timeline: { },\n",
       "              tooltip: {isHtml: true},\n",
       "         };\n",
       "\n",
       "         chart.draw(dataTable, options);\n",
       "         }\n",
       "         \n",
       "         function createCustomHTMLContent(subject,name,start,end, workload, who, predecessor) {\n",
       "             return '<div style=\"padding:5px 5px 5px 5px;\">'+\n",
       "             '<h3>'+subject+'<h3/>'+\n",
       "             '<h4>'+name+'</h4>'+             \n",
       "             '<ul><li>'+who+'</li>'+\n",
       "             '<li><strong>From</strong> '+start+' <strong>To</strong> '+end+'</li>'+\n",
       "             '<li><strong>WorkLoad</strong> '+workload+'</li>'+\n",
       "             '<li><strong>Predecessor</strong> '+predecessor+''+\n",
       "             '</ul>'+\n",
       "             '</div>'\n",
       "              }\n",
       "        \n",
       "        "
      ],
      "text/plain": [
       "<IPython.core.display.Javascript object>"
      ]
     },
     "execution_count": 378,
     "metadata": {},
     "output_type": "execute_result"
    }
   ],
   "source": [
    "DrawGant(_tasks,'timeline',False)"
   ]
  },
  {
   "cell_type": "code",
   "execution_count": 352,
   "metadata": {
    "collapsed": false
   },
   "outputs": [
    {
     "data": {
      "text/html": [
       "\n",
       "       <div id=\"timeline2\" style=\"height: 650px;width: 5000px\"></div>"
      ],
      "text/plain": [
       "<IPython.core.display.HTML object>"
      ]
     },
     "metadata": {},
     "output_type": "display_data"
    }
   ],
   "source": [
    "%%html\n",
    "\n",
    "       <div id=\"timeline2\" style=\"height: 650px;width: 5000px\"></div>"
   ]
  },
  {
   "cell_type": "code",
   "execution_count": 379,
   "metadata": {
    "collapsed": false
   },
   "outputs": [
    {
     "data": {
      "application/javascript": [
       "google.charts.load(\"current\", {packages:[\"timeline\"]});\n",
       "        google.charts.setOnLoadCallback(drawChart);\n",
       "         function drawChart() {\n",
       "            var container = document.getElementById('timeline2');\n",
       "            var chart = new google.visualization.Timeline(container);\n",
       "            var dataTable = new google.visualization.DataTable();\n",
       "\n",
       "        dataTable.addColumn({ type: 'string', id: 'Subject' });\n",
       "        dataTable.addColumn({ type: 'string', id: 'Name' });\n",
       "        dataTable.addColumn({'type': 'string', 'role': 'tooltip', 'p': {'html': true}})\n",
       "        dataTable.addColumn({ type: 'date', id: 'Start' });\n",
       "        dataTable.addColumn({ type: 'date', id: 'End' });        \n",
       "        \n",
       "            dataTable.addRows([['ACH','Dev + UAT',createCustomHTMLContent('Autres Sujets','Dev + UAT','2016-11-22','2016-11-28','3.0','ACH','nan'),new Date(2016,10,22),new Date(2016,10,29)],\n",
       "        ['PTI','RC - Injecter les donnees en DEV',createCustomHTMLContent('Lot Reserves','RC - Injecter les donnees en DEV','2016-11-22','2016-11-22','1.0','PTI','nan'),new Date(2016,10,22),new Date(2016,10,23)],\n",
       "        ['QPI','Agresso',createCustomHTMLContent('Chargements initiaux','Agresso','2016-11-22','2016-12-02','3.0','QPI','nan'),new Date(2016,10,22),new Date(2016,11,3)],\n",
       "        ['PTI','Injection de la cloture',createCustomHTMLContent('BAU','Injection de la cloture','2016-11-23','2016-11-23','1.0','PTI','nan'),new Date(2016,10,23),new Date(2016,10,24)],\n",
       "        ['PTI','Vie',createCustomHTMLContent('Chargements initiaux','Vie','2016-11-24','2016-12-20','15.0','PTI','nan'),new Date(2016,10,24),new Date(2016,11,21)],\n",
       "        ['DEL','RC - Developper les flux datamarts',createCustomHTMLContent('Lot Reserves','RC - Developper les flux datamarts','2016-11-23','2016-11-23','1.0','DEL','4'),new Date(2016,10,23),new Date(2016,10,24)],\n",
       "        ['CGA','Preparation et Deploiement en UAT',createCustomHTMLContent('Scoring','Preparation et Deploiement en UAT','2016-11-22','2016-11-30','2.0','CGA','nan'),new Date(2016,10,22),new Date(2016,11,1)],\n",
       "        ['CGA','Chargement datamart en UAT',createCustomHTMLContent('Scoring','Chargement datamart en UAT','2016-12-01','2016-12-12','2.0','CGA','39'),new Date(2016,11,1),new Date(2016,11,13)],\n",
       "        ['EGA','Creation univers scoring',createCustomHTMLContent('Scoring','Creation univers scoring','2016-12-13','2016-12-13','1.0','EGA','40'),new Date(2016,11,13),new Date(2016,11,14)],\n",
       "        ['MWA','Creation rapports scoring',createCustomHTMLContent('Scoring','Creation rapports scoring','2016-12-14','2016-12-16','2.0','MWA','41'),new Date(2016,11,14),new Date(2016,11,17)],\n",
       "        ['MWA','Validation rapports scoring',createCustomHTMLContent('Scoring','Validation rapports scoring','2016-12-17','2016-12-20','2.0','MWA','42'),new Date(2016,11,17),new Date(2016,11,21)],\n",
       "        ['CGA','Analyse des erreurs',createCustomHTMLContent('Scoring','Analyse des erreurs','2016-12-21','2016-12-28','2.0','CGA','43'),new Date(2016,11,21),new Date(2016,11,29)],\n",
       "        ['CGA','Preparation et deploiement en production univers et rapports',createCustomHTMLContent('Scoring','Preparation et deploiement en production univers et rapports','2016-12-29','2017-01-02','1.0','CGA','44'),new Date(2016,11,29),new Date(2017,0,3)],\n",
       "        ['CGA','Preparation et deploiement en production datamart',createCustomHTMLContent('Scoring','Preparation et deploiement en production datamart','2017-01-03','2017-01-09','1.0','CGA','45'),new Date(2017,0,3),new Date(2017,0,10)],\n",
       "        ['PM','PM',createCustomHTMLContent('PM','PM','2016-11-22','2017-09-21','110.0','PM','nan'),new Date(2016,10,22),new Date(2017,8,22)],\n",
       "        ['ACH','Preparation de l\\'environnement',createCustomHTMLContent('Sprint','Preparation de l\\'environnement','2016-11-29','2016-12-01','2.0','ACH','nan'),new Date(2016,10,29),new Date(2016,11,2)],\n",
       "        ['DEL','DMG - Developpement des adaptations',createCustomHTMLContent('Lot Reserves','DMG - Developpement des adaptations','2016-11-24','2016-11-25','2.0','DEL','4'),new Date(2016,10,24),new Date(2016,10,26)],\n",
       "        ['DEL','RA - Developpement des adaptations',createCustomHTMLContent('Lot Reserves','RA - Developpement des adaptations','2016-11-26','2016-11-29','2.0','DEL','4'),new Date(2016,10,26),new Date(2016,10,30)],\n",
       "        ['ACH','Preparation deploiement en UAT',createCustomHTMLContent('Sprint','Preparation deploiement en UAT','2016-12-02','2016-12-06','2.0','ACH','5'),new Date(2016,11,2),new Date(2016,11,7)],\n",
       "        ['ACH','Deployer en UAT et injecter les donnees',createCustomHTMLContent('Sprint','Deployer en UAT et injecter les donnees','2016-12-07','2016-12-13','3.0','ACH','7'),new Date(2016,11,7),new Date(2016,11,14)],\n",
       "        ['ACH','Support UAT',createCustomHTMLContent('Sprint','Support UAT','2016-12-14','2016-12-20','3.0','ACH','8'),new Date(2016,11,14),new Date(2016,11,21)],\n",
       "        ['EGA','RC - Adapter l\\'univers',createCustomHTMLContent('Lot Reserves','RC - Adapter l\\'univers','2016-12-14','2016-12-14','1.0','EGA','5'),new Date(2016,11,14),new Date(2016,11,15)],\n",
       "        ['LZI','RC - Tester et valider',createCustomHTMLContent('Lot Reserves','RC - Tester et valider','2016-11-24','2016-12-02','4.0','LZI','5'),new Date(2016,10,24),new Date(2016,11,3)],\n",
       "        ['EGA','RA - Adaptation univers',createCustomHTMLContent('Lot Reserves','RA - Adaptation univers','2016-12-15','2016-12-16','2.0','EGA','3'),new Date(2016,11,15),new Date(2016,11,17)],\n",
       "        ['SLA','RA - Tester et valider Corporate',createCustomHTMLContent('Lot Reserves','RA - Tester et valider Corporate','2016-11-30','2016-12-05','3.0','SLA','3'),new Date(2016,10,30),new Date(2016,11,6)],\n",
       "        ['AHI','RA - Tester et valider Invest',createCustomHTMLContent('Lot Reserves','RA - Tester et valider Invest','2016-11-30','2016-12-05','3.0','AHI','3'),new Date(2016,10,30),new Date(2016,11,6)],\n",
       "        ['OGO','RA - Tester et valider Classique',createCustomHTMLContent('Lot Reserves','RA - Tester et valider Classique','2016-11-30','2016-12-05','3.0','OGO','3'),new Date(2016,10,30),new Date(2016,11,6)],\n",
       "        ['EGA','DMG - Creation univers',createCustomHTMLContent('Lot Reserves','DMG - Creation univers','2016-12-17','2016-12-23','5.0','EGA','2'),new Date(2016,11,17),new Date(2016,11,24)],\n",
       "        ['SLA','DMG - Tester et valider (definir methode)',createCustomHTMLContent('Lot Reserves','DMG - Tester et valider (definir methode)','2016-12-06','2016-12-22','10.0','SLA','2'),new Date(2016,11,6),new Date(2016,11,23)],\n",
       "        ['BAU','BAU',createCustomHTMLContent('BAU','BAU','2016-11-22','2017-09-21','175.0','BAU','nan'),new Date(2016,10,22),new Date(2017,8,22)],\n",
       "        ['OVA','Gouvernance et fonctionnement en 2017',createCustomHTMLContent('EDB','Gouvernance et fonctionnement en 2017','2016-11-22','2016-11-22','1.0','OVA','nan'),new Date(2016,10,22),new Date(2016,10,23)],\n",
       "        ['QPI','Mouvements non visibles hors octobre 2016',createCustomHTMLContent('BAU','Mouvements non visibles hors octobre 2016','2016-12-03','2017-01-06','10.0','QPI','nan'),new Date(2016,11,3),new Date(2017,0,7)],\n",
       "        ['PTI','Deployer en production',createCustomHTMLContent('Sprint','Deployer en production','2016-12-21','2016-12-21','1.0','PTI','10'),new Date(2016,11,21),new Date(2016,11,22)],\n",
       "        ['PTI','Support au metier 2016',createCustomHTMLContent('BAU','Support au metier 2016','2016-12-22','2016-12-29','5.0','PTI','nan'),new Date(2016,11,22),new Date(2016,11,30)],\n",
       "        ['EGA','Contenu fichier mapping compte',createCustomHTMLContent('Datamart comptabilite','Contenu fichier mapping compte','2016-12-24','2016-12-27','2.0','EGA','nan'),new Date(2016,11,24),new Date(2016,11,28)],\n",
       "        ['EGA','Adaptation framework data quality - besoins (a analyser)',createCustomHTMLContent('CR','Adaptation framework data quality - besoins (a analyser)','2016-12-28','2016-12-29','2.0','EGA','nan'),new Date(2016,11,28),new Date(2016,11,30)],\n",
       "        ['ACH','Adaptation framework data quality - technique (a analyser)',createCustomHTMLContent('CR','Adaptation framework data quality - technique (a analyser)','2016-12-30','2017-02-14','20.0','ACH','34'),new Date(2016,11,30),new Date(2017,1,15)],\n",
       "        ['EGA','Adaptation framework data quality - tests (a analyser)',createCustomHTMLContent('CR','Adaptation framework data quality - tests (a analyser)','2017-02-15','2017-02-16','2.0','EGA','58'),new Date(2017,1,15),new Date(2017,1,17)],\n",
       "        ['EGA','Mise a jour des fichiers referentiels (a analyser)',createCustomHTMLContent('CR','Mise a jour des fichiers referentiels (a analyser)','2017-02-17','2017-02-23','5.0','EGA','nan'),new Date(2017,1,17),new Date(2017,1,24)],\n",
       "        ['PTI','Injection des nouveaux referentiels',createCustomHTMLContent('CR','Injection des nouveaux referentiels','2017-02-24','2017-02-27','1.0','PTI','37'),new Date(2017,1,24),new Date(2017,1,28)],\n",
       "        ['ACH','Operationnalisation dqi, kpi etc',createCustomHTMLContent('BAU','Operationnalisation dqi, kpi etc','2017-02-15','2017-03-09','10.0','ACH','11'),new Date(2017,1,15),new Date(2017,2,10)],\n",
       "        ['MWA','Developpement des rapports',createCustomHTMLContent('Rapports initiaux','Developpement des rapports','2016-12-21','2016-12-29','5.0','MWA','nan'),new Date(2016,11,21),new Date(2016,11,30)],\n",
       "        ['PTI','Extractions de comparaison',createCustomHTMLContent('Rapports initiaux','Extractions de comparaison','2017-02-28','2017-03-07','5.0','PTI','nan'),new Date(2017,1,28),new Date(2017,2,8)],\n",
       "        ['PTI','Analyse des erreurs',createCustomHTMLContent('Rapports initiaux','Analyse des erreurs','2017-03-08','2017-03-15','5.0','PTI','51'),new Date(2017,2,8),new Date(2017,2,16)],\n",
       "        ['PTI','Corrections',createCustomHTMLContent('Rapports initiaux','Corrections','2017-03-16','2017-04-11','15.0','PTI','52'),new Date(2017,2,16),new Date(2017,3,12)],\n",
       "        ['PTI','Preparation et deploiement UAT',createCustomHTMLContent('Rapports initiaux','Preparation et deploiement UAT','2017-04-12','2017-04-18','4.0','PTI','53'),new Date(2017,3,12),new Date(2017,3,19)],\n",
       "        ['PTI','Support UAT',createCustomHTMLContent('Rapports initiaux','Support UAT','2017-04-19','2017-04-26','5.0','PTI','54'),new Date(2017,3,19),new Date(2017,3,27)],\n",
       "        ['PTI','Deploiement production',createCustomHTMLContent('Rapports initiaux','Deploiement production','2017-04-27','2017-04-27','1.0','PTI','55'),new Date(2017,3,27),new Date(2017,3,28)],\n",
       "        ['CGA','Gestion des droits d\\'acces',createCustomHTMLContent('BAU','Gestion des droits d\\'acces','2017-01-10','2017-01-23','3.0','CGA','nan'),new Date(2017,0,10),new Date(2017,0,24)],\n",
       "        ['PTI','Prestations hors systeme sources (a analyser)',createCustomHTMLContent('CR','Prestations hors systeme sources (a analyser)','2017-04-28','2017-05-24','15.0','PTI','nan'),new Date(2017,3,28),new Date(2017,4,25)],\n",
       "        ['CGA','Reprise historique (version d\\'un record)',createCustomHTMLContent('CR','Reprise historique (version d\\'un record)','2017-01-24','2017-06-12','30.0','CGA','nan'),new Date(2017,0,24),new Date(2017,5,13)],\n",
       "        ['ACH','Primes techniques (inventaires, commerciales...) erronees',createCustomHTMLContent('BAU','Primes techniques (inventaires, commerciales...) erronees','2017-03-10','2017-04-03','10.0','ACH','nan'),new Date(2017,2,10),new Date(2017,3,4)],\n",
       "        ['PTI','Issue comptabilite',createCustomHTMLContent('BAU','Issue comptabilite','2017-05-25','2017-06-12','10.0','PTI','nan'),new Date(2017,4,25),new Date(2017,5,13)],\n",
       "        ['PTI','DQI',createCustomHTMLContent('CR','DQI','2017-06-13','2017-09-28','62.5','PTI','nan'),new Date(2017,5,13),new Date(2017,8,29)],\n",
       "        ['CGA','Formation SAP BO administration',createCustomHTMLContent('BAU','Formation SAP BO administration','2017-06-13','2017-07-05','5.0','CGA','nan'),new Date(2017,5,13),new Date(2017,6,6)],\n",
       "        ['CGA','Merge framework',createCustomHTMLContent('IT','Merge framework','2017-07-06','2017-08-21','10.0','CGA','nan'),new Date(2017,6,6),new Date(2017,7,22)],\n",
       "        ['ACH','KPI AXA',createCustomHTMLContent('CR','KPI AXA','2017-04-04','2017-08-21','60.0','ACH','nan'),new Date(2017,3,4),new Date(2017,7,22)],\n",
       "        ['PTI','Validation fonctionnelle des chargements',createCustomHTMLContent('BAU','Validation fonctionnelle des chargements','2017-09-29','2017-10-25','15.0','PTI','nan'),new Date(2017,8,29),new Date(2017,9,26)],\n",
       "        ['ACH','Formalisation EX RM WIN AIX',createCustomHTMLContent('BAU','Formalisation EX RM WIN AIX','2017-08-22','2017-08-28','3.0','ACH','nan'),new Date(2017,7,22),new Date(2017,7,29)],\n",
       "        ['ACH','automatisation de l\\'injection des clotures',createCustomHTMLContent('BAU','automatisation de l\\'injection des clotures','2017-08-29','2017-10-02','15.0','ACH','18'),new Date(2017,7,29),new Date(2017,9,3)],\n",
       "        ]);\n",
       "            var options = {\n",
       "              timeline: { },\n",
       "              tooltip: {isHtml: true},\n",
       "         };\n",
       "\n",
       "         chart.draw(dataTable, options);\n",
       "         }\n",
       "         \n",
       "         function createCustomHTMLContent(subject,name,start,end, workload, who, predecessor) {\n",
       "             return '<div style=\"padding:5px 5px 5px 5px;\">'+\n",
       "             '<h3>'+subject+'<h3/>'+\n",
       "             '<h4>'+name+'</h4>'+             \n",
       "             '<ul><li>'+who+'</li>'+\n",
       "             '<li><strong>From</strong> '+start+' <strong>To</strong> '+end+'</li>'+\n",
       "             '<li><strong>WorkLoad</strong> '+workload+'</li>'+\n",
       "             '<li><strong>Predecessor</strong> '+predecessor+''+\n",
       "             '</ul>'+\n",
       "             '</div>'\n",
       "              }\n",
       "        \n",
       "        "
      ],
      "text/plain": [
       "<IPython.core.display.Javascript object>"
      ]
     },
     "execution_count": 379,
     "metadata": {},
     "output_type": "execute_result"
    }
   ],
   "source": [
    "DrawGant(_tasks,'timeline2',True)"
   ]
  },
  {
   "cell_type": "code",
   "execution_count": 364,
   "metadata": {
    "collapsed": false,
    "scrolled": true
   },
   "outputs": [
    {
     "data": {
      "text/html": [
       "<div>\n",
       "<table border=\"1\" class=\"dataframe\">\n",
       "  <thead>\n",
       "    <tr style=\"text-align: right;\">\n",
       "      <th></th>\n",
       "      <th>TaskId</th>\n",
       "      <th>Subject</th>\n",
       "      <th>Name</th>\n",
       "      <th>WorkLoad</th>\n",
       "      <th>Who</th>\n",
       "      <th>StartDate</th>\n",
       "      <th>EndDate</th>\n",
       "      <th>Priority</th>\n",
       "      <th>PredecessorTaskId</th>\n",
       "    </tr>\n",
       "    <tr>\n",
       "      <th>TaskId</th>\n",
       "      <th></th>\n",
       "      <th></th>\n",
       "      <th></th>\n",
       "      <th></th>\n",
       "      <th></th>\n",
       "      <th></th>\n",
       "      <th></th>\n",
       "      <th></th>\n",
       "      <th></th>\n",
       "    </tr>\n",
       "  </thead>\n",
       "  <tbody>\n",
       "    <tr>\n",
       "      <th>12</th>\n",
       "      <td>12</td>\n",
       "      <td>Telnet taux technique</td>\n",
       "      <td>Dev + UAT</td>\n",
       "      <td>3.0</td>\n",
       "      <td>ACH</td>\n",
       "      <td>2016-11-22</td>\n",
       "      <td>2016-11-28</td>\n",
       "      <td>1100</td>\n",
       "      <td>NaN</td>\n",
       "    </tr>\n",
       "    <tr>\n",
       "      <th>4</th>\n",
       "      <td>4</td>\n",
       "      <td>Lot R�serves</td>\n",
       "      <td>RC - Injecter les donnees en DEV</td>\n",
       "      <td>1.0</td>\n",
       "      <td>PTI</td>\n",
       "      <td>2016-11-22</td>\n",
       "      <td>2016-11-22</td>\n",
       "      <td>1095</td>\n",
       "      <td>NaN</td>\n",
       "    </tr>\n",
       "    <tr>\n",
       "      <th>14</th>\n",
       "      <td>14</td>\n",
       "      <td>Chargements initiaux</td>\n",
       "      <td>Agresso</td>\n",
       "      <td>3.0</td>\n",
       "      <td>QPI</td>\n",
       "      <td>2016-11-22</td>\n",
       "      <td>2016-12-02</td>\n",
       "      <td>1090</td>\n",
       "      <td>NaN</td>\n",
       "    </tr>\n",
       "    <tr>\n",
       "      <th>31</th>\n",
       "      <td>31</td>\n",
       "      <td>BAU</td>\n",
       "      <td>Injection de la cloture</td>\n",
       "      <td>1.0</td>\n",
       "      <td>PTI</td>\n",
       "      <td>2016-11-23</td>\n",
       "      <td>2016-11-23</td>\n",
       "      <td>1087</td>\n",
       "      <td>NaN</td>\n",
       "    </tr>\n",
       "    <tr>\n",
       "      <th>15</th>\n",
       "      <td>15</td>\n",
       "      <td>Chargements initiaux</td>\n",
       "      <td>Vie</td>\n",
       "      <td>15.0</td>\n",
       "      <td>PTI</td>\n",
       "      <td>2016-11-24</td>\n",
       "      <td>2016-12-20</td>\n",
       "      <td>1085</td>\n",
       "      <td>NaN</td>\n",
       "    </tr>\n",
       "    <tr>\n",
       "      <th>5</th>\n",
       "      <td>5</td>\n",
       "      <td>Lot R�serves</td>\n",
       "      <td>RC - Developper les flux datamarts</td>\n",
       "      <td>1.0</td>\n",
       "      <td>DEL</td>\n",
       "      <td>2016-11-23</td>\n",
       "      <td>2016-11-23</td>\n",
       "      <td>1075</td>\n",
       "      <td>4</td>\n",
       "    </tr>\n",
       "    <tr>\n",
       "      <th>39</th>\n",
       "      <td>39</td>\n",
       "      <td>Scoring</td>\n",
       "      <td>Preparation et Deploiement en UAT</td>\n",
       "      <td>2.0</td>\n",
       "      <td>CGA</td>\n",
       "      <td>2016-11-22</td>\n",
       "      <td>2016-11-30</td>\n",
       "      <td>1070</td>\n",
       "      <td>NaN</td>\n",
       "    </tr>\n",
       "    <tr>\n",
       "      <th>40</th>\n",
       "      <td>40</td>\n",
       "      <td>Scoring</td>\n",
       "      <td>Chargement datamart en UAT</td>\n",
       "      <td>2.0</td>\n",
       "      <td>CGA</td>\n",
       "      <td>2016-12-01</td>\n",
       "      <td>2016-12-12</td>\n",
       "      <td>1060</td>\n",
       "      <td>39</td>\n",
       "    </tr>\n",
       "    <tr>\n",
       "      <th>41</th>\n",
       "      <td>41</td>\n",
       "      <td>Scoring</td>\n",
       "      <td>Creation univers scoring</td>\n",
       "      <td>1.0</td>\n",
       "      <td>EGA</td>\n",
       "      <td>2016-12-13</td>\n",
       "      <td>2016-12-13</td>\n",
       "      <td>1050</td>\n",
       "      <td>40</td>\n",
       "    </tr>\n",
       "    <tr>\n",
       "      <th>42</th>\n",
       "      <td>42</td>\n",
       "      <td>Scoring</td>\n",
       "      <td>Creation rapports scoring</td>\n",
       "      <td>2.0</td>\n",
       "      <td>MWA</td>\n",
       "      <td>2016-12-14</td>\n",
       "      <td>2016-12-16</td>\n",
       "      <td>1040</td>\n",
       "      <td>41</td>\n",
       "    </tr>\n",
       "  </tbody>\n",
       "</table>\n",
       "</div>"
      ],
      "text/plain": [
       "        TaskId                Subject                                Name  \\\n",
       "TaskId                                                                      \n",
       "12          12  Telnet taux technique                           Dev + UAT   \n",
       "4            4           Lot R�serves    RC - Injecter les donnees en DEV   \n",
       "14          14   Chargements initiaux                             Agresso   \n",
       "31          31                    BAU             Injection de la cloture   \n",
       "15          15   Chargements initiaux                                 Vie   \n",
       "5            5           Lot R�serves  RC - Developper les flux datamarts   \n",
       "39          39                Scoring   Preparation et Deploiement en UAT   \n",
       "40          40                Scoring          Chargement datamart en UAT   \n",
       "41          41                Scoring            Creation univers scoring   \n",
       "42          42                Scoring           Creation rapports scoring   \n",
       "\n",
       "        WorkLoad  Who  StartDate    EndDate  Priority PredecessorTaskId  \n",
       "TaskId                                                                   \n",
       "12           3.0  ACH 2016-11-22 2016-11-28      1100               NaN  \n",
       "4            1.0  PTI 2016-11-22 2016-11-22      1095               NaN  \n",
       "14           3.0  QPI 2016-11-22 2016-12-02      1090               NaN  \n",
       "31           1.0  PTI 2016-11-23 2016-11-23      1087               NaN  \n",
       "15          15.0  PTI 2016-11-24 2016-12-20      1085               NaN  \n",
       "5            1.0  DEL 2016-11-23 2016-11-23      1075                 4  \n",
       "39           2.0  CGA 2016-11-22 2016-11-30      1070               NaN  \n",
       "40           2.0  CGA 2016-12-01 2016-12-12      1060                39  \n",
       "41           1.0  EGA 2016-12-13 2016-12-13      1050                40  \n",
       "42           2.0  MWA 2016-12-14 2016-12-16      1040                41  "
      ]
     },
     "execution_count": 364,
     "metadata": {},
     "output_type": "execute_result"
    }
   ],
   "source": [
    "_tasks.head(10)"
   ]
  },
  {
   "cell_type": "code",
   "execution_count": 222,
   "metadata": {
    "collapsed": false,
    "scrolled": false
   },
   "outputs": [
    {
     "data": {
      "text/html": [
       "<div>\n",
       "<table border=\"1\" class=\"dataframe\">\n",
       "  <thead>\n",
       "    <tr style=\"text-align: right;\">\n",
       "      <th></th>\n",
       "      <th>TaskId</th>\n",
       "      <th>Subject</th>\n",
       "      <th>Name</th>\n",
       "      <th>WorkLoad</th>\n",
       "      <th>Who</th>\n",
       "      <th>StartDate</th>\n",
       "      <th>EndDate</th>\n",
       "      <th>Priority</th>\n",
       "      <th>PredecessorTaskId</th>\n",
       "    </tr>\n",
       "    <tr>\n",
       "      <th>TaskId</th>\n",
       "      <th></th>\n",
       "      <th></th>\n",
       "      <th></th>\n",
       "      <th></th>\n",
       "      <th></th>\n",
       "      <th></th>\n",
       "      <th></th>\n",
       "      <th></th>\n",
       "      <th></th>\n",
       "    </tr>\n",
       "  </thead>\n",
       "  <tbody>\n",
       "    <tr>\n",
       "      <th>12</th>\n",
       "      <td>12</td>\n",
       "      <td>Telnet taux technique</td>\n",
       "      <td>Dev + UAT</td>\n",
       "      <td>3.0</td>\n",
       "      <td>ACH</td>\n",
       "      <td>2016-11-22</td>\n",
       "      <td>2016-11-28</td>\n",
       "      <td>1100</td>\n",
       "      <td>NaN</td>\n",
       "    </tr>\n",
       "    <tr>\n",
       "      <th>13</th>\n",
       "      <td>13</td>\n",
       "      <td>Sprint</td>\n",
       "      <td>Preparation de l'environnement</td>\n",
       "      <td>2.0</td>\n",
       "      <td>ACH</td>\n",
       "      <td>2016-11-29</td>\n",
       "      <td>2016-12-01</td>\n",
       "      <td>995</td>\n",
       "      <td>NaN</td>\n",
       "    </tr>\n",
       "    <tr>\n",
       "      <th>7</th>\n",
       "      <td>7</td>\n",
       "      <td>Sprint</td>\n",
       "      <td>Preparation deploiement en UAT</td>\n",
       "      <td>2.0</td>\n",
       "      <td>ACH</td>\n",
       "      <td>2016-12-02</td>\n",
       "      <td>2016-12-06</td>\n",
       "      <td>982</td>\n",
       "      <td>5</td>\n",
       "    </tr>\n",
       "    <tr>\n",
       "      <th>8</th>\n",
       "      <td>8</td>\n",
       "      <td>Sprint</td>\n",
       "      <td>Deployer en UAT et injecter les donnees</td>\n",
       "      <td>3.0</td>\n",
       "      <td>ACH</td>\n",
       "      <td>2016-12-07</td>\n",
       "      <td>2016-12-13</td>\n",
       "      <td>980</td>\n",
       "      <td>7</td>\n",
       "    </tr>\n",
       "    <tr>\n",
       "      <th>9</th>\n",
       "      <td>9</td>\n",
       "      <td>Sprint</td>\n",
       "      <td>Support UAT</td>\n",
       "      <td>3.0</td>\n",
       "      <td>ACH</td>\n",
       "      <td>2016-12-14</td>\n",
       "      <td>2016-12-20</td>\n",
       "      <td>970</td>\n",
       "      <td>8</td>\n",
       "    </tr>\n",
       "    <tr>\n",
       "      <th>58</th>\n",
       "      <td>58</td>\n",
       "      <td>CR (a analyser)</td>\n",
       "      <td>Adaptation framework data quality - technique</td>\n",
       "      <td>20.0</td>\n",
       "      <td>ACH</td>\n",
       "      <td>2016-12-21</td>\n",
       "      <td>2017-02-06</td>\n",
       "      <td>780</td>\n",
       "      <td>NaN</td>\n",
       "    </tr>\n",
       "    <tr>\n",
       "      <th>29</th>\n",
       "      <td>29</td>\n",
       "      <td>BAU</td>\n",
       "      <td>Operationnalisation dqi, kpi etc</td>\n",
       "      <td>10.0</td>\n",
       "      <td>ACH</td>\n",
       "      <td>2017-02-07</td>\n",
       "      <td>2017-02-28</td>\n",
       "      <td>700</td>\n",
       "      <td>11</td>\n",
       "    </tr>\n",
       "    <tr>\n",
       "      <th>48</th>\n",
       "      <td>48</td>\n",
       "      <td>Corrections</td>\n",
       "      <td>Primes techniques (inventaires, commerciales.....</td>\n",
       "      <td>10.0</td>\n",
       "      <td>ACH</td>\n",
       "      <td>2017-03-01</td>\n",
       "      <td>2017-03-23</td>\n",
       "      <td>490</td>\n",
       "      <td>NaN</td>\n",
       "    </tr>\n",
       "    <tr>\n",
       "      <th>28</th>\n",
       "      <td>28</td>\n",
       "      <td>DQI</td>\n",
       "      <td>DQI</td>\n",
       "      <td>62.5</td>\n",
       "      <td>ACH</td>\n",
       "      <td>2017-03-24</td>\n",
       "      <td>2017-08-17</td>\n",
       "      <td>475</td>\n",
       "      <td>NaN</td>\n",
       "    </tr>\n",
       "    <tr>\n",
       "      <th>26</th>\n",
       "      <td>26</td>\n",
       "      <td>KPI</td>\n",
       "      <td>KPI AXA</td>\n",
       "      <td>60.0</td>\n",
       "      <td>ACH</td>\n",
       "      <td>2017-08-18</td>\n",
       "      <td>2018-01-04</td>\n",
       "      <td>300</td>\n",
       "      <td>NaN</td>\n",
       "    </tr>\n",
       "    <tr>\n",
       "      <th>18</th>\n",
       "      <td>18</td>\n",
       "      <td>Formalisation EX RM WIN AIX</td>\n",
       "      <td>Formalisation EX RM WIN AIX</td>\n",
       "      <td>3.0</td>\n",
       "      <td>ACH</td>\n",
       "      <td>2018-01-05</td>\n",
       "      <td>2018-01-11</td>\n",
       "      <td>200</td>\n",
       "      <td>NaN</td>\n",
       "    </tr>\n",
       "    <tr>\n",
       "      <th>30</th>\n",
       "      <td>30</td>\n",
       "      <td>BAU</td>\n",
       "      <td>automatisation de l'injection des clotures</td>\n",
       "      <td>15.0</td>\n",
       "      <td>ACH</td>\n",
       "      <td>2018-01-12</td>\n",
       "      <td>2018-02-15</td>\n",
       "      <td>500</td>\n",
       "      <td>18</td>\n",
       "    </tr>\n",
       "  </tbody>\n",
       "</table>\n",
       "</div>"
      ],
      "text/plain": [
       "        TaskId                      Subject  \\\n",
       "TaskId                                        \n",
       "12          12        Telnet taux technique   \n",
       "13          13                       Sprint   \n",
       "7            7                       Sprint   \n",
       "8            8                      Sprint    \n",
       "9            9                       Sprint   \n",
       "58          58              CR (a analyser)   \n",
       "29          29                          BAU   \n",
       "48          48                  Corrections   \n",
       "28          28                          DQI   \n",
       "26          26                          KPI   \n",
       "18          18  Formalisation EX RM WIN AIX   \n",
       "30          30                          BAU   \n",
       "\n",
       "                                                     Name  WorkLoad  Who  \\\n",
       "TaskId                                                                     \n",
       "12                                              Dev + UAT       3.0  ACH   \n",
       "13                         Preparation de l'environnement       2.0  ACH   \n",
       "7                          Preparation deploiement en UAT       2.0  ACH   \n",
       "8                 Deployer en UAT et injecter les donnees       3.0  ACH   \n",
       "9                                             Support UAT       3.0  ACH   \n",
       "58          Adaptation framework data quality - technique      20.0  ACH   \n",
       "29                       Operationnalisation dqi, kpi etc      10.0  ACH   \n",
       "48      Primes techniques (inventaires, commerciales.....      10.0  ACH   \n",
       "28                                                    DQI      62.5  ACH   \n",
       "26                                                KPI AXA      60.0  ACH   \n",
       "18                            Formalisation EX RM WIN AIX       3.0  ACH   \n",
       "30             automatisation de l'injection des clotures      15.0  ACH   \n",
       "\n",
       "        StartDate    EndDate  Priority PredecessorTaskId  \n",
       "TaskId                                                    \n",
       "12     2016-11-22 2016-11-28      1100               NaN  \n",
       "13     2016-11-29 2016-12-01       995               NaN  \n",
       "7      2016-12-02 2016-12-06       982                 5  \n",
       "8      2016-12-07 2016-12-13       980                 7  \n",
       "9      2016-12-14 2016-12-20       970                 8  \n",
       "58     2016-12-21 2017-02-06       780               NaN  \n",
       "29     2017-02-07 2017-02-28       700                11  \n",
       "48     2017-03-01 2017-03-23       490               NaN  \n",
       "28     2017-03-24 2017-08-17       475               NaN  \n",
       "26     2017-08-18 2018-01-04       300               NaN  \n",
       "18     2018-01-05 2018-01-11       200               NaN  \n",
       "30     2018-01-12 2018-02-15       500                18  "
      ]
     },
     "execution_count": 222,
     "metadata": {},
     "output_type": "execute_result"
    }
   ],
   "source": [
    "_tasks[_tasks.Who=='ACH']"
   ]
  },
  {
   "cell_type": "code",
   "execution_count": 218,
   "metadata": {
    "collapsed": false,
    "scrolled": true
   },
   "outputs": [
    {
     "data": {
      "text/html": [
       "<div>\n",
       "<table border=\"1\" class=\"dataframe\">\n",
       "  <thead>\n",
       "    <tr style=\"text-align: right;\">\n",
       "      <th></th>\n",
       "      <th>Who</th>\n",
       "      <th>Date</th>\n",
       "      <th>Available</th>\n",
       "    </tr>\n",
       "  </thead>\n",
       "  <tbody>\n",
       "    <tr>\n",
       "      <th>0</th>\n",
       "      <td>ACH</td>\n",
       "      <td>2016-11-21</td>\n",
       "      <td>1.0</td>\n",
       "    </tr>\n",
       "    <tr>\n",
       "      <th>2020</th>\n",
       "      <td>SLA</td>\n",
       "      <td>2016-11-21</td>\n",
       "      <td>1.0</td>\n",
       "    </tr>\n",
       "    <tr>\n",
       "      <th>3636</th>\n",
       "      <td>PM</td>\n",
       "      <td>2016-11-21</td>\n",
       "      <td>0.0</td>\n",
       "    </tr>\n",
       "    <tr>\n",
       "      <th>1616</th>\n",
       "      <td>MWA</td>\n",
       "      <td>2016-11-21</td>\n",
       "      <td>1.0</td>\n",
       "    </tr>\n",
       "    <tr>\n",
       "      <th>4040</th>\n",
       "      <td>BAU</td>\n",
       "      <td>2016-11-21</td>\n",
       "      <td>1.0</td>\n",
       "    </tr>\n",
       "  </tbody>\n",
       "</table>\n",
       "</div>"
      ],
      "text/plain": [
       "      Who       Date  Available\n",
       "0     ACH 2016-11-21        1.0\n",
       "2020  SLA 2016-11-21        1.0\n",
       "3636   PM 2016-11-21        0.0\n",
       "1616  MWA 2016-11-21        1.0\n",
       "4040  BAU 2016-11-21        1.0"
      ]
     },
     "execution_count": 218,
     "metadata": {},
     "output_type": "execute_result"
    }
   ],
   "source": [
    "_avail.head(5)"
   ]
  },
  {
   "cell_type": "code",
   "execution_count": 203,
   "metadata": {
    "collapsed": false,
    "scrolled": true
   },
   "outputs": [
    {
     "data": {
      "text/html": [
       "<div>\n",
       "<table border=\"1\" class=\"dataframe\">\n",
       "  <thead>\n",
       "    <tr style=\"text-align: right;\">\n",
       "      <th></th>\n",
       "      <th>TaskId</th>\n",
       "      <th>Subject</th>\n",
       "      <th>Name</th>\n",
       "      <th>WorkLoad</th>\n",
       "      <th>Who</th>\n",
       "      <th>StartDate</th>\n",
       "      <th>EndDate</th>\n",
       "      <th>Priority</th>\n",
       "      <th>PredecessorTaskId</th>\n",
       "    </tr>\n",
       "    <tr>\n",
       "      <th>TaskId</th>\n",
       "      <th></th>\n",
       "      <th></th>\n",
       "      <th></th>\n",
       "      <th></th>\n",
       "      <th></th>\n",
       "      <th></th>\n",
       "      <th></th>\n",
       "      <th></th>\n",
       "      <th></th>\n",
       "    </tr>\n",
       "  </thead>\n",
       "  <tbody>\n",
       "    <tr>\n",
       "      <th>16</th>\n",
       "      <td>16</td>\n",
       "      <td>BAU</td>\n",
       "      <td>BAU</td>\n",
       "      <td>90.0</td>\n",
       "      <td>BAU</td>\n",
       "      <td>2016-11-22</td>\n",
       "      <td>2017-04-25</td>\n",
       "      <td>900</td>\n",
       "      <td>NaN</td>\n",
       "    </tr>\n",
       "    <tr>\n",
       "      <th>1</th>\n",
       "      <td>1</td>\n",
       "      <td>PM</td>\n",
       "      <td>PM</td>\n",
       "      <td>55.0</td>\n",
       "      <td>PM</td>\n",
       "      <td>2016-11-22</td>\n",
       "      <td>2017-04-20</td>\n",
       "      <td>999</td>\n",
       "      <td>NaN</td>\n",
       "    </tr>\n",
       "  </tbody>\n",
       "</table>\n",
       "</div>"
      ],
      "text/plain": [
       "        TaskId Subject Name  WorkLoad  Who  StartDate    EndDate  Priority  \\\n",
       "TaskId                                                                       \n",
       "16          16     BAU  BAU      90.0  BAU 2016-11-22 2017-04-25       900   \n",
       "1            1      PM   PM      55.0   PM 2016-11-22 2017-04-20       999   \n",
       "\n",
       "       PredecessorTaskId  \n",
       "TaskId                    \n",
       "16                   NaN  \n",
       "1                    NaN  "
      ]
     },
     "execution_count": 203,
     "metadata": {},
     "output_type": "execute_result"
    }
   ],
   "source": [
    "_tasks.loc[[16,1]]"
   ]
  },
  {
   "cell_type": "markdown",
   "metadata": {
    "collapsed": true
   },
   "source": [
    "# Todo\n",
    "* Create a new html page \n",
    "* Better tooltip (html ?)"
   ]
  },
  {
   "cell_type": "code",
   "execution_count": 183,
   "metadata": {
    "collapsed": false
   },
   "outputs": [
    {
     "name": "stdout",
     "output_type": "stream",
     "text": [
      "Help on built-in function max in module __builtin__:\n",
      "\n",
      "max(...)\n",
      "    max(iterable[, key=func]) -> value\n",
      "    max(a, b, c, ...[, key=func]) -> value\n",
      "    \n",
      "    With a single iterable argument, return its largest item.\n",
      "    With two or more arguments, return the largest argument.\n",
      "\n"
     ]
    }
   ],
   "source": [
    "help(max)"
   ]
  }
 ],
 "metadata": {
  "anaconda-cloud": {},
  "kernelspec": {
   "display_name": "Python [Root]",
   "language": "python",
   "name": "Python [Root]"
  },
  "language_info": {
   "codemirror_mode": {
    "name": "ipython",
    "version": 2
   },
   "file_extension": ".py",
   "mimetype": "text/x-python",
   "name": "python",
   "nbconvert_exporter": "python",
   "pygments_lexer": "ipython2",
   "version": "2.7.12"
  }
 },
 "nbformat": 4,
 "nbformat_minor": 0
}
