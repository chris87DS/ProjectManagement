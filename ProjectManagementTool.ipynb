{
 "cells": [
  {
   "cell_type": "markdown",
   "metadata": {},
   "source": [
    "# Project Management"
   ]
  },
  {
   "cell_type": "markdown",
   "metadata": {},
   "source": [
    "## Internals"
   ]
  },
  {
   "cell_type": "code",
   "execution_count": 3,
   "metadata": {
    "collapsed": true
   },
   "outputs": [],
   "source": [
    "import pandas as pd\n",
    "import datetime as dt\n",
    "import numpy as np\n",
    "import plotly.plotly as py\n",
    "from plotly.tools import FigureFactory as FF"
   ]
  },
  {
   "cell_type": "markdown",
   "metadata": {},
   "source": [
    "### Param"
   ]
  },
  {
   "cell_type": "code",
   "execution_count": 4,
   "metadata": {
    "collapsed": false
   },
   "outputs": [],
   "source": [
    "_pathTasks='tasks.csv'\n",
    "_pathAvail='avail.csv'\n",
    "_ProjectStartDate = dt.datetime(year=2016,month=11,day=21)\n",
    "_1DayTimeDelta = dt.timedelta(1)"
   ]
  },
  {
   "cell_type": "markdown",
   "metadata": {},
   "source": [
    "### Load data"
   ]
  },
  {
   "cell_type": "code",
   "execution_count": 5,
   "metadata": {
    "collapsed": false
   },
   "outputs": [],
   "source": [
    "_TaskHeaders = ['TaskId','Name','WorkLoad','Who','StartDate','EndDate','Priority','PredecessorTaskId']\n",
    "\n",
    "def LoadTask(path):\n",
    "        data = pd.read_csv(path, header=0,names=_TaskHeaders, dtype={'PredecessorTaskId':object})\n",
    "        data.StartDate = pd.to_datetime(data.StartDate)\n",
    "        data.EndDate = pd.to_datetime(data.EndDate)\n",
    "        data.index=data.TaskId\n",
    "        return data\n",
    "def LoadAvailability(path):\n",
    "    '''\n",
    "    This function load an availability matrix\n",
    "    '''\n",
    "    availCSV = pd.read_csv(path)\n",
    "    availCSV.Date = pd.to_datetime(availCSV.Date)\n",
    "    availCSV.sort_values(inplace=True,by='Date')\n",
    "    return availCSV\n",
    "    "
   ]
  },
  {
   "cell_type": "markdown",
   "metadata": {},
   "source": [
    "### Save"
   ]
  },
  {
   "cell_type": "code",
   "execution_count": 6,
   "metadata": {
    "collapsed": true
   },
   "outputs": [],
   "source": [
    "def SaveData(data,path):\n",
    "    data.to_csv(path)"
   ]
  },
  {
   "cell_type": "markdown",
   "metadata": {},
   "source": [
    "### Domain\n",
    "* Find tasks of a personn\n",
    "* Order tasks by priority then ID (just in case)\n",
    "* Compute end dates\n",
    "    * Find previous task of person and previous task id\n",
    "    * Based on the max start date and workload, iterate to see the day when the task will be finised\n"
   ]
  },
  {
   "cell_type": "code",
   "execution_count": 7,
   "metadata": {
    "collapsed": false
   },
   "outputs": [],
   "source": [
    "def FindPreviousTaskOfSomeone(tasks, current):\n",
    "    '''\n",
    "    Find the previous task in order of doing\n",
    "    Expects an order tasks pandas by priority desc and taskid \n",
    "    '''\n",
    "    whosTasks = FindTasksOfSomeone(tasks,current.Who)    \n",
    "    prevTasks= whosTasks.loc[:current.TaskId]\n",
    "    if len(prevTasks)<2 :\n",
    "        return None\n",
    "    else :\n",
    "        return prevTasks.iloc[-2]\n",
    "    \n",
    "    "
   ]
  },
  {
   "cell_type": "code",
   "execution_count": 8,
   "metadata": {
    "collapsed": false
   },
   "outputs": [],
   "source": [
    "def FindTasksOfSomeone(tasks, who):\n",
    "    return tasks[tasks.Who==who]\n",
    "def FindTaskById(tasks, taskid):\n",
    "    return tasks.loc[int(taskid)]\n",
    "def OrderTaskByPriority(tasks):\n",
    "    return tasks.sort_values(by=['Priority','TaskId'], ascending=[False,True])"
   ]
  },
  {
   "cell_type": "code",
   "execution_count": 9,
   "metadata": {
    "collapsed": false
   },
   "outputs": [],
   "source": [
    "def InitEmptyOccupation(avail,startDate, endDate):\n",
    "    users = avail.Who.unique()\n",
    "    duration = (endDate-startDate).days\n",
    "    return pd.DataFrame(data=np.zeros(shape=(duration,len(users)), dtype=np.int32),\\\n",
    "                        columns=users,\\\n",
    "                        index=np.arange(startDate,endDate, dtype='datetime64[D]'))"
   ]
  },
  {
   "cell_type": "code",
   "execution_count": 10,
   "metadata": {
    "collapsed": false
   },
   "outputs": [],
   "source": [
    "def ComputeEndDate(availability, task):\n",
    "    '''\n",
    "    Compute the end date based on the occupation of someone, a start date and a duration\n",
    "    '''    \n",
    "    availWho = availability[(availability.Who==task.Who) & (availability.Date>=task.StartDate)]  \n",
    "    currentOccupation = 0\n",
    "    endDate=None\n",
    "    for index,item in availWho.iterrows():\n",
    "        currentOccupation=currentOccupation+item.Available\n",
    "        #print 'Date %s & occupation %s' %(item, currentOccupation)\n",
    "        if(currentOccupation==task.WorkLoad):\n",
    "            endDate=item.Date\n",
    "            break;\n",
    "    if(endDate==None):\n",
    "        raise Exception('Task cannot be ended',task)\n",
    "    return endDate\n",
    "        "
   ]
  },
  {
   "cell_type": "code",
   "execution_count": 11,
   "metadata": {
    "collapsed": true
   },
   "outputs": [],
   "source": [
    "def SetOccupiedBy(occupation,task):\n",
    "    occupation.loc[task.StartDate:task.EndDate,task.Who]=task.TaskId"
   ]
  },
  {
   "cell_type": "code",
   "execution_count": 12,
   "metadata": {
    "collapsed": false
   },
   "outputs": [],
   "source": [
    "def OrderTasksByPriorityAndPredecessor(tasks):\n",
    "    tasks = OrderTaskByPriority(tasks)\n",
    "    indexTasks = tasks.TaskId.tolist()\n",
    "    #print indexTasks\n",
    "    '''\n",
    "        While on the number of element\n",
    "            If has predecessor\n",
    "                Get its location \n",
    "                If bigger > cursor --> move after  (check if last item)          \n",
    "            If moved : do not move cursor\n",
    "            Else : next item\n",
    "        '''\n",
    "    lItems = len(indexTasks)\n",
    "    cursor = 0\n",
    "    moved = False \n",
    "    listOfMoved = []\n",
    "    while (cursor<lItems):  \n",
    "        taskI = tasks.loc[indexTasks[cursor]]\n",
    "        moved=False\n",
    "        #print '  Current task %s at position %s '%(taskI.TaskId,cursor)\n",
    "        if (pd.isnull(taskI.PredecessorTaskId)==False) :\n",
    "            predecIdx = indexTasks.index(int(taskI.PredecessorTaskId))    \n",
    "            #print '  Predecessor %s is at position %s' %(taskI.PredecessorTaskId,predecIdx)\n",
    "            if(predecIdx>cursor):\n",
    "                #print '  Task %s with position %s must be moved after task %s at position %s' \\\n",
    "                #    %(taskI.TaskId,cursor,taskI.PredecessorTaskId,predecIdx)\n",
    "                #Check if this task has already been moved, if yes we have a cycle\n",
    "                if(taskI.TaskId in listOfMoved):\n",
    "                    raise Exception('There is a cycle between tasks found on ',taskI.TaskId)\n",
    "                listOfMoved.append(taskI.TaskId)\n",
    "                indexTasks.pop(cursor)\n",
    "                #print '  Popped %s' %(indexTasks)\n",
    "                Moved=True\n",
    "                cursor -=1\n",
    "                if(predecIdx==lItems-1):\n",
    "                    indexTasks.append(taskI.TaskId)\n",
    "                else:\n",
    "                    indexTasks.insert(predecIdx,taskI.TaskId)\n",
    "        if moved==False:\n",
    "                cursor +=1\n",
    "        #print '  %s' %(indexTasks)\n",
    "    return tasks.loc[indexTasks]"
   ]
  },
  {
   "cell_type": "code",
   "execution_count": 29,
   "metadata": {
    "collapsed": false
   },
   "outputs": [],
   "source": [
    "def ComputeOccupation(avail,tasks):\n",
    "    '''\n",
    "    Computer the tasks start and end date based on \n",
    "    \n",
    "    1. Order of computation is based on the priority and PredecessorTaskId\n",
    "        First the algorithm order by priority then check the predecessors \n",
    "    and moves each row just after its predecessor if it is before\n",
    "        The algorithm will however detect incorrect cases :\n",
    "    When it parcours the tasks, it checks if the PredecessorTaskId task has a end date. \n",
    "            If not, sends an error. \n",
    "            If yes uses the maximum between the previous task of the person and the predecessor\n",
    "    2. By personn iterate over its tasks and compute the dates \n",
    "        2.1 If first task : prevStartDate=_projectStartDate\n",
    "            else prevStartDate=previous.EndDate+1 (we cheat and say one task per day!)\n",
    "        2.2 Check the predecessor end date : \n",
    "            If predecessor.EndDate = NaT --> exception (cycle)\n",
    "        2.3 Take the max between both\n",
    "        2.4 Compute the end date, set it and the occupation matrix\n",
    "    '''\n",
    "    orderedTasks = OrderTasksByPriorityAndPredecessor(tasks)\n",
    "    for currtask in orderedTasks.itertuples():\n",
    "        #print 'The current task is : %s' %(currtask.Index)        \n",
    "        previousEndDate=_ProjectStartDate-_1DayTimeDelta\n",
    "        predecessorTaskEndDate=_ProjectStartDate-_1DayTimeDelta\n",
    "        \n",
    "        #When did the last task finished\n",
    "        previousTasks = FindPreviousTaskOfSomeone(tasks, currtask)  \n",
    "        if(type(previousTasks)=='pandas.core.series.Series'):\n",
    "            previousEndDate=previousTasks.EndDate\n",
    "            if pd.isnull(previousEndDate):\n",
    "                raise Exception('Couldn''t find the end date of the previous task',currtask.TaskId)\n",
    "\n",
    "        #When did the predecessor finished if there is one\n",
    "        if(pd.isnull(currtask.PredecessorTaskId)==False):            \n",
    "            predecessorTask = FindTaskById(orderedTasks, currtask.PredecessorTaskId)\n",
    "            #print '   %s %s' %(predecessorTask.TaskId, predecessorTask.EndDate)\n",
    "            predecessorTaskEndDate=predecessorTask.EndDate\n",
    "            if pd.isnull(predecessorTaskEndDate):\n",
    "                raise Exception('Couldn''t find the end date of the predecessor task',currtask.TaskId)\n",
    "        latestDate = max(predecessorTaskEndDate,previousEndDate)\n",
    "        \n",
    "        #The task start the next day of the previous\n",
    "        orderedTasks.loc[currtask.Index,'StartDate']=latestDate+_1DayTimeDelta\n",
    "        orderedTasks.loc[currtask.Index,'EndDate'] = ComputeEndDate(avail,orderedTasks.loc[currtask.Index])\n",
    "        '''print 'Dates from %s to %s '%(orderedTasks.loc[currtask.Index,'StartDate'],\\\n",
    "                                      orderedTasks.loc[currtask.Index,'EndDate'])'''\n",
    "    return orderedTasks\n",
    "        \n",
    "\n",
    "    "
   ]
  },
  {
   "cell_type": "code",
   "execution_count": 23,
   "metadata": {
    "collapsed": false
   },
   "outputs": [],
   "source": [
    "def FillAllOccupationFromTasks(tasks):\n",
    "    occupation = InitEmptyOccupation(_avail,_ProjectStartDate,_ProjectStartDate+dt.timedelta(365))\n",
    "    for task in tasks.itertuples():\n",
    "        SetOccupiedBy(occupation,task)\n",
    "    return occupation"
   ]
  },
  {
   "cell_type": "markdown",
   "metadata": {},
   "source": [
    "#### Presentation"
   ]
  },
  {
   "cell_type": "code",
   "execution_count": 46,
   "metadata": {
    "collapsed": true
   },
   "outputs": [],
   "source": [
    "def GetPandaForGantChart(tasks):\n",
    "    pdGant = tasks[['Name','Who','StartDate','EndDate']]\n",
    "    pdGant.columns = ['Task','Resource','Start','Finish']    \n",
    "    pdGant = pdGant.reset_index()\n",
    "    del pdGant['TaskId']\n",
    "    return pdGant"
   ]
  },
  {
   "cell_type": "code",
   "execution_count": 41,
   "metadata": {
    "collapsed": true
   },
   "outputs": [],
   "source": [
    "def DrawGant(gant):\n",
    "    \n"
   ]
  },
  {
   "cell_type": "markdown",
   "metadata": {},
   "source": [
    "## Load Data"
   ]
  },
  {
   "cell_type": "code",
   "execution_count": 31,
   "metadata": {
    "collapsed": false
   },
   "outputs": [],
   "source": [
    "_tasks = LoadTask(_pathTasks)"
   ]
  },
  {
   "cell_type": "code",
   "execution_count": 16,
   "metadata": {
    "collapsed": false,
    "scrolled": false
   },
   "outputs": [],
   "source": [
    "_avail = LoadAvailability(_pathAvail)"
   ]
  },
  {
   "cell_type": "code",
   "execution_count": 17,
   "metadata": {
    "collapsed": false
   },
   "outputs": [
    {
     "data": {
      "text/html": [
       "<div>\n",
       "<table border=\"1\" class=\"dataframe\">\n",
       "  <thead>\n",
       "    <tr style=\"text-align: right;\">\n",
       "      <th></th>\n",
       "      <th>TaskId</th>\n",
       "      <th>Name</th>\n",
       "      <th>WorkLoad</th>\n",
       "      <th>Who</th>\n",
       "      <th>StartDate</th>\n",
       "      <th>EndDate</th>\n",
       "      <th>Priority</th>\n",
       "      <th>PredecessorTaskId</th>\n",
       "    </tr>\n",
       "    <tr>\n",
       "      <th>TaskId</th>\n",
       "      <th></th>\n",
       "      <th></th>\n",
       "      <th></th>\n",
       "      <th></th>\n",
       "      <th></th>\n",
       "      <th></th>\n",
       "      <th></th>\n",
       "      <th></th>\n",
       "    </tr>\n",
       "  </thead>\n",
       "  <tbody>\n",
       "    <tr>\n",
       "      <th>1</th>\n",
       "      <td>1</td>\n",
       "      <td>Test 1</td>\n",
       "      <td>4</td>\n",
       "      <td>CGA</td>\n",
       "      <td>NaT</td>\n",
       "      <td>NaT</td>\n",
       "      <td>150</td>\n",
       "      <td>NaN</td>\n",
       "    </tr>\n",
       "    <tr>\n",
       "      <th>2</th>\n",
       "      <td>2</td>\n",
       "      <td>Test 2</td>\n",
       "      <td>4</td>\n",
       "      <td>CGA</td>\n",
       "      <td>NaT</td>\n",
       "      <td>NaT</td>\n",
       "      <td>130</td>\n",
       "      <td>4</td>\n",
       "    </tr>\n",
       "    <tr>\n",
       "      <th>3</th>\n",
       "      <td>3</td>\n",
       "      <td>Test 3</td>\n",
       "      <td>4</td>\n",
       "      <td>ACH</td>\n",
       "      <td>NaT</td>\n",
       "      <td>NaT</td>\n",
       "      <td>140</td>\n",
       "      <td>2</td>\n",
       "    </tr>\n",
       "    <tr>\n",
       "      <th>4</th>\n",
       "      <td>4</td>\n",
       "      <td>Test 4</td>\n",
       "      <td>4</td>\n",
       "      <td>ACH</td>\n",
       "      <td>NaT</td>\n",
       "      <td>NaT</td>\n",
       "      <td>135</td>\n",
       "      <td>NaN</td>\n",
       "    </tr>\n",
       "  </tbody>\n",
       "</table>\n",
       "</div>"
      ],
      "text/plain": [
       "        TaskId    Name  WorkLoad  Who StartDate EndDate  Priority  \\\n",
       "TaskId                                                              \n",
       "1            1  Test 1         4  CGA       NaT     NaT       150   \n",
       "2            2  Test 2         4  CGA       NaT     NaT       130   \n",
       "3            3  Test 3         4  ACH       NaT     NaT       140   \n",
       "4            4  Test 4         4  ACH       NaT     NaT       135   \n",
       "\n",
       "       PredecessorTaskId  \n",
       "TaskId                    \n",
       "1                    NaN  \n",
       "2                      4  \n",
       "3                      2  \n",
       "4                    NaN  "
      ]
     },
     "execution_count": 17,
     "metadata": {},
     "output_type": "execute_result"
    }
   ],
   "source": [
    "_tasks.head(10)"
   ]
  },
  {
   "cell_type": "code",
   "execution_count": 18,
   "metadata": {
    "collapsed": false
   },
   "outputs": [
    {
     "data": {
      "text/html": [
       "<div>\n",
       "<table border=\"1\" class=\"dataframe\">\n",
       "  <thead>\n",
       "    <tr style=\"text-align: right;\">\n",
       "      <th></th>\n",
       "      <th>Who</th>\n",
       "      <th>Date</th>\n",
       "      <th>Available</th>\n",
       "    </tr>\n",
       "  </thead>\n",
       "  <tbody>\n",
       "    <tr>\n",
       "      <th>0</th>\n",
       "      <td>CGA</td>\n",
       "      <td>2016-11-21</td>\n",
       "      <td>1</td>\n",
       "    </tr>\n",
       "    <tr>\n",
       "      <th>12</th>\n",
       "      <td>ACH</td>\n",
       "      <td>2016-11-21</td>\n",
       "      <td>1</td>\n",
       "    </tr>\n",
       "    <tr>\n",
       "      <th>13</th>\n",
       "      <td>ACH</td>\n",
       "      <td>2016-11-22</td>\n",
       "      <td>0</td>\n",
       "    </tr>\n",
       "    <tr>\n",
       "      <th>1</th>\n",
       "      <td>CGA</td>\n",
       "      <td>2016-11-22</td>\n",
       "      <td>1</td>\n",
       "    </tr>\n",
       "    <tr>\n",
       "      <th>14</th>\n",
       "      <td>ACH</td>\n",
       "      <td>2016-11-23</td>\n",
       "      <td>1</td>\n",
       "    </tr>\n",
       "  </tbody>\n",
       "</table>\n",
       "</div>"
      ],
      "text/plain": [
       "    Who       Date  Available\n",
       "0   CGA 2016-11-21          1\n",
       "12  ACH 2016-11-21          1\n",
       "13  ACH 2016-11-22          0\n",
       "1   CGA 2016-11-22          1\n",
       "14  ACH 2016-11-23          1"
      ]
     },
     "execution_count": 18,
     "metadata": {},
     "output_type": "execute_result"
    }
   ],
   "source": [
    "_avail.head(5)"
   ]
  },
  {
   "cell_type": "code",
   "execution_count": 32,
   "metadata": {
    "collapsed": false
   },
   "outputs": [],
   "source": [
    "_tasks = ComputeOccupation(_avail,_tasks)"
   ]
  },
  {
   "cell_type": "code",
   "execution_count": 33,
   "metadata": {
    "collapsed": false
   },
   "outputs": [
    {
     "data": {
      "text/html": [
       "<div>\n",
       "<table border=\"1\" class=\"dataframe\">\n",
       "  <thead>\n",
       "    <tr style=\"text-align: right;\">\n",
       "      <th></th>\n",
       "      <th>TaskId</th>\n",
       "      <th>Name</th>\n",
       "      <th>WorkLoad</th>\n",
       "      <th>Who</th>\n",
       "      <th>StartDate</th>\n",
       "      <th>EndDate</th>\n",
       "      <th>Priority</th>\n",
       "      <th>PredecessorTaskId</th>\n",
       "    </tr>\n",
       "    <tr>\n",
       "      <th>TaskId</th>\n",
       "      <th></th>\n",
       "      <th></th>\n",
       "      <th></th>\n",
       "      <th></th>\n",
       "      <th></th>\n",
       "      <th></th>\n",
       "      <th></th>\n",
       "      <th></th>\n",
       "    </tr>\n",
       "  </thead>\n",
       "  <tbody>\n",
       "    <tr>\n",
       "      <th>1</th>\n",
       "      <td>1</td>\n",
       "      <td>Test 1</td>\n",
       "      <td>4</td>\n",
       "      <td>CGA</td>\n",
       "      <td>2016-11-21</td>\n",
       "      <td>2016-11-24</td>\n",
       "      <td>150</td>\n",
       "      <td>NaN</td>\n",
       "    </tr>\n",
       "    <tr>\n",
       "      <th>4</th>\n",
       "      <td>4</td>\n",
       "      <td>Test 4</td>\n",
       "      <td>4</td>\n",
       "      <td>ACH</td>\n",
       "      <td>2016-11-21</td>\n",
       "      <td>2016-11-26</td>\n",
       "      <td>135</td>\n",
       "      <td>NaN</td>\n",
       "    </tr>\n",
       "    <tr>\n",
       "      <th>2</th>\n",
       "      <td>2</td>\n",
       "      <td>Test 2</td>\n",
       "      <td>4</td>\n",
       "      <td>CGA</td>\n",
       "      <td>2016-11-27</td>\n",
       "      <td>2016-11-30</td>\n",
       "      <td>130</td>\n",
       "      <td>4</td>\n",
       "    </tr>\n",
       "    <tr>\n",
       "      <th>3</th>\n",
       "      <td>3</td>\n",
       "      <td>Test 3</td>\n",
       "      <td>4</td>\n",
       "      <td>ACH</td>\n",
       "      <td>2016-12-01</td>\n",
       "      <td>2016-12-04</td>\n",
       "      <td>140</td>\n",
       "      <td>2</td>\n",
       "    </tr>\n",
       "  </tbody>\n",
       "</table>\n",
       "</div>"
      ],
      "text/plain": [
       "        TaskId    Name  WorkLoad  Who  StartDate    EndDate  Priority  \\\n",
       "TaskId                                                                  \n",
       "1            1  Test 1         4  CGA 2016-11-21 2016-11-24       150   \n",
       "4            4  Test 4         4  ACH 2016-11-21 2016-11-26       135   \n",
       "2            2  Test 2         4  CGA 2016-11-27 2016-11-30       130   \n",
       "3            3  Test 3         4  ACH 2016-12-01 2016-12-04       140   \n",
       "\n",
       "       PredecessorTaskId  \n",
       "TaskId                    \n",
       "1                    NaN  \n",
       "4                    NaN  \n",
       "2                      4  \n",
       "3                      2  "
      ]
     },
     "execution_count": 33,
     "metadata": {},
     "output_type": "execute_result"
    }
   ],
   "source": [
    "_tasks.head(10)"
   ]
  },
  {
   "cell_type": "code",
   "execution_count": 34,
   "metadata": {
    "collapsed": false
   },
   "outputs": [],
   "source": [
    "_occupation = FillAllOccupationFromTasks(_tasks)"
   ]
  },
  {
   "cell_type": "code",
   "execution_count": 47,
   "metadata": {
    "collapsed": false
   },
   "outputs": [],
   "source": [
    "_gant = GetPandaForGantChart(_tasks)"
   ]
  },
  {
   "cell_type": "code",
   "execution_count": null,
   "metadata": {
    "collapsed": true
   },
   "outputs": [],
   "source": [
    "ComputeOccupation(_avail,_tasks)"
   ]
  },
  {
   "cell_type": "code",
   "execution_count": 57,
   "metadata": {
    "collapsed": false
   },
   "outputs": [
    {
     "data": {
      "text/html": [
       "<script type=\"text/javascript\" src=\"https://www.gstatic.com/charts/loader.js\"></script>\n",
       "       <div id=\"timeline\" style=\"height: 250px;width: 2500px\"></div>\n",
       "   "
      ],
      "text/plain": [
       "<IPython.core.display.HTML object>"
      ]
     },
     "metadata": {},
     "output_type": "display_data"
    }
   ],
   "source": [
    "%%html\n",
    "<script type=\"text/javascript\" src=\"https://www.gstatic.com/charts/loader.js\"></script>\n",
    "       <div id=\"timeline\" style=\"height: 250px;width: 2500px\"></div>\n",
    "   "
   ]
  },
  {
   "cell_type": "code",
   "execution_count": 59,
   "metadata": {
    "collapsed": false
   },
   "outputs": [
    {
     "data": {
      "application/javascript": [
       "  google.charts.load(\"current\", {packages:[\"timeline\"]});\n",
       "  google.charts.setOnLoadCallback(drawChart);\n",
       "  function drawChart() {\n",
       "    var container = document.getElementById('timeline');\n",
       "    var chart = new google.visualization.Timeline(container);\n",
       "    var dataTable = new google.visualization.DataTable();\n",
       "    dataTable.addColumn({ type: 'string', id: 'Term' });\n",
       "    dataTable.addColumn({ type: 'string', id: 'Name' });\n",
       "    dataTable.addColumn({ type: 'date', id: 'Start' });\n",
       "    dataTable.addColumn({ type: 'date', id: 'End' });\n",
       "    dataTable.addRows([\n",
       "      [ '1', 'George Washington', new Date(1789, 3, 30), new Date(1797, 2, 4) ],\n",
       "      [ '2', 'John Adams',        new Date(1797, 2, 4),  new Date(1801, 2, 4) ],\n",
       "      [ '3', 'Thomas Jefferson',  new Date(1801, 2, 4),  new Date(1809, 2, 4) ]]);\n",
       "\n",
       "    var options = {\n",
       "      timeline: { }\n",
       "    };\n",
       "\n",
       "    chart.draw(dataTable, options);\n",
       "  }"
      ],
      "text/plain": [
       "<IPython.core.display.Javascript object>"
      ]
     },
     "metadata": {},
     "output_type": "display_data"
    }
   ],
   "source": [
    "%%javascript\n",
    "  google.charts.load(\"current\", {packages:[\"timeline\"]});\n",
    "  google.charts.setOnLoadCallback(drawChart);\n",
    "  function drawChart() {\n",
    "    var container = document.getElementById('timeline');\n",
    "    var chart = new google.visualization.Timeline(container);\n",
    "    var dataTable = new google.visualization.DataTable();\n",
    "    dataTable.addColumn({ type: 'string', id: 'Term' });\n",
    "    dataTable.addColumn({ type: 'string', id: 'Name' });\n",
    "    dataTable.addColumn({ type: 'date', id: 'Start' });\n",
    "    dataTable.addColumn({ type: 'date', id: 'End' });\n",
    "    dataTable.addRows([\n",
    "      [ '1', 'George Washington', new Date(1789, 3, 30), new Date(1797, 2, 4) ],\n",
    "      [ '2', 'John Adams',        new Date(1797, 2, 4),  new Date(1801, 2, 4) ],\n",
    "      [ '3', 'Thomas Jefferson',  new Date(1801, 2, 4),  new Date(1809, 2, 4) ]]);\n",
    "\n",
    "    var options = {\n",
    "      timeline: { }\n",
    "    };\n",
    "\n",
    "    chart.draw(dataTable, options);\n",
    "  }"
   ]
  },
  {
   "cell_type": "code",
   "execution_count": null,
   "metadata": {
    "collapsed": true
   },
   "outputs": [],
   "source": []
  },
  {
   "cell_type": "code",
   "execution_count": null,
   "metadata": {
    "collapsed": true
   },
   "outputs": [],
   "source": []
  },
  {
   "cell_type": "code",
   "execution_count": null,
   "metadata": {
    "collapsed": true
   },
   "outputs": [],
   "source": []
  },
  {
   "cell_type": "code",
   "execution_count": 33,
   "metadata": {
    "collapsed": false
   },
   "outputs": [],
   "source": [
    "_occupation = InitEmptyOccupation(_avail,_ProjectStartDate,_ProjectStartDate+dt.timedelta(365))"
   ]
  },
  {
   "cell_type": "code",
   "execution_count": null,
   "metadata": {
    "collapsed": true
   },
   "outputs": [],
   "source": []
  },
  {
   "cell_type": "code",
   "execution_count": null,
   "metadata": {
    "collapsed": true
   },
   "outputs": [],
   "source": []
  },
  {
   "cell_type": "code",
   "execution_count": null,
   "metadata": {
    "collapsed": true
   },
   "outputs": [],
   "source": []
  },
  {
   "cell_type": "code",
   "execution_count": null,
   "metadata": {
    "collapsed": true
   },
   "outputs": [],
   "source": []
  },
  {
   "cell_type": "code",
   "execution_count": 44,
   "metadata": {
    "collapsed": false
   },
   "outputs": [
    {
     "data": {
      "text/plain": [
       "1"
      ]
     },
     "execution_count": 44,
     "metadata": {},
     "output_type": "execute_result"
    }
   ],
   "source": [
    "len(_avail.Who.unique())"
   ]
  },
  {
   "cell_type": "code",
   "execution_count": null,
   "metadata": {
    "collapsed": true
   },
   "outputs": [],
   "source": []
  },
  {
   "cell_type": "code",
   "execution_count": null,
   "metadata": {
    "collapsed": true
   },
   "outputs": [],
   "source": []
  },
  {
   "cell_type": "code",
   "execution_count": null,
   "metadata": {
    "collapsed": true
   },
   "outputs": [],
   "source": []
  },
  {
   "cell_type": "code",
   "execution_count": null,
   "metadata": {
    "collapsed": true
   },
   "outputs": [],
   "source": []
  },
  {
   "cell_type": "code",
   "execution_count": null,
   "metadata": {
    "collapsed": true
   },
   "outputs": [],
   "source": []
  },
  {
   "cell_type": "code",
   "execution_count": null,
   "metadata": {
    "collapsed": true
   },
   "outputs": [],
   "source": []
  },
  {
   "cell_type": "code",
   "execution_count": null,
   "metadata": {
    "collapsed": true
   },
   "outputs": [],
   "source": []
  },
  {
   "cell_type": "code",
   "execution_count": null,
   "metadata": {
    "collapsed": true
   },
   "outputs": [],
   "source": []
  },
  {
   "cell_type": "code",
   "execution_count": null,
   "metadata": {
    "collapsed": true
   },
   "outputs": [],
   "source": []
  },
  {
   "cell_type": "code",
   "execution_count": null,
   "metadata": {
    "collapsed": true
   },
   "outputs": [],
   "source": []
  },
  {
   "cell_type": "code",
   "execution_count": null,
   "metadata": {
    "collapsed": true
   },
   "outputs": [],
   "source": []
  },
  {
   "cell_type": "code",
   "execution_count": null,
   "metadata": {
    "collapsed": true
   },
   "outputs": [],
   "source": []
  },
  {
   "cell_type": "code",
   "execution_count": null,
   "metadata": {
    "collapsed": true
   },
   "outputs": [],
   "source": []
  },
  {
   "cell_type": "code",
   "execution_count": null,
   "metadata": {
    "collapsed": true
   },
   "outputs": [],
   "source": []
  },
  {
   "cell_type": "code",
   "execution_count": null,
   "metadata": {
    "collapsed": true
   },
   "outputs": [],
   "source": []
  },
  {
   "cell_type": "code",
   "execution_count": null,
   "metadata": {
    "collapsed": true
   },
   "outputs": [],
   "source": []
  },
  {
   "cell_type": "code",
   "execution_count": 27,
   "metadata": {
    "collapsed": false
   },
   "outputs": [
    {
     "name": "stdout",
     "output_type": "stream",
     "text": [
      "Help on built-in function zeros in module numpy.core.multiarray:\n",
      "\n",
      "zeros(...)\n",
      "    zeros(shape, dtype=float, order='C')\n",
      "    \n",
      "    Return a new array of given shape and type, filled with zeros.\n",
      "    \n",
      "    Parameters\n",
      "    ----------\n",
      "    shape : int or sequence of ints\n",
      "        Shape of the new array, e.g., ``(2, 3)`` or ``2``.\n",
      "    dtype : data-type, optional\n",
      "        The desired data-type for the array, e.g., `numpy.int8`.  Default is\n",
      "        `numpy.float64`.\n",
      "    order : {'C', 'F'}, optional\n",
      "        Whether to store multidimensional data in C- or Fortran-contiguous\n",
      "        (row- or column-wise) order in memory.\n",
      "    \n",
      "    Returns\n",
      "    -------\n",
      "    out : ndarray\n",
      "        Array of zeros with the given shape, dtype, and order.\n",
      "    \n",
      "    See Also\n",
      "    --------\n",
      "    zeros_like : Return an array of zeros with shape and type of input.\n",
      "    ones_like : Return an array of ones with shape and type of input.\n",
      "    empty_like : Return an empty array with shape and type of input.\n",
      "    ones : Return a new array setting values to one.\n",
      "    empty : Return a new uninitialized array.\n",
      "    \n",
      "    Examples\n",
      "    --------\n",
      "    >>> np.zeros(5)\n",
      "    array([ 0.,  0.,  0.,  0.,  0.])\n",
      "    \n",
      "    >>> np.zeros((5,), dtype=np.int)\n",
      "    array([0, 0, 0, 0, 0])\n",
      "    \n",
      "    >>> np.zeros((2, 1))\n",
      "    array([[ 0.],\n",
      "           [ 0.]])\n",
      "    \n",
      "    >>> s = (2,2)\n",
      "    >>> np.zeros(s)\n",
      "    array([[ 0.,  0.],\n",
      "           [ 0.,  0.]])\n",
      "    \n",
      "    >>> np.zeros((2,), dtype=[('x', 'i4'), ('y', 'i4')]) # custom dtype\n",
      "    array([(0, 0), (0, 0)],\n",
      "          dtype=[('x', '<i4'), ('y', '<i4')])\n",
      "\n"
     ]
    }
   ],
   "source": [
    "help (np.zeros)"
   ]
  },
  {
   "cell_type": "code",
   "execution_count": null,
   "metadata": {
    "collapsed": true
   },
   "outputs": [],
   "source": []
  }
 ],
 "metadata": {
  "anaconda-cloud": {},
  "kernelspec": {
   "display_name": "Python [Root]",
   "language": "python",
   "name": "Python [Root]"
  },
  "language_info": {
   "codemirror_mode": {
    "name": "ipython",
    "version": 2
   },
   "file_extension": ".py",
   "mimetype": "text/x-python",
   "name": "python",
   "nbconvert_exporter": "python",
   "pygments_lexer": "ipython2",
   "version": "2.7.12"
  }
 },
 "nbformat": 4,
 "nbformat_minor": 0
}
