{
 "cells": [
  {
   "cell_type": "markdown",
   "metadata": {},
   "source": [
    "# Project Management"
   ]
  },
  {
   "cell_type": "markdown",
   "metadata": {},
   "source": [
    "### Param"
   ]
  },
  {
   "cell_type": "code",
   "execution_count": 52,
   "metadata": {
    "collapsed": true
   },
   "outputs": [],
   "source": [
    "_pathTasks='tasks.csv'\n",
    "_pathAvail='avail.csv'"
   ]
  },
  {
   "cell_type": "markdown",
   "metadata": {},
   "source": [
    "## Internals"
   ]
  },
  {
   "cell_type": "code",
   "execution_count": 3,
   "metadata": {
    "collapsed": true
   },
   "outputs": [],
   "source": [
    "import pandas as pd\n",
    "import datetime as dt"
   ]
  },
  {
   "cell_type": "markdown",
   "metadata": {},
   "source": [
    "### Load data"
   ]
  },
  {
   "cell_type": "code",
   "execution_count": 82,
   "metadata": {
    "collapsed": false
   },
   "outputs": [],
   "source": [
    "_TaskHeaders = ['TaskId','Name','WorkLoad','Who','StartDate','EndDate','Priority']\n",
    "\n",
    "def LoadTask(path):\n",
    "        data = pd.read_csv(path, header=0,names=_TaskHeaders)\n",
    "        data.index=data.TaskId\n",
    "        return data\n",
    "def LoadAvailability(path):\n",
    "    '''\n",
    "    This function load an availability matrix \n",
    "    header : who, dates+\n",
    "    It expects first column to be who, the other columns availabity per day in terme of days\n",
    "    '''\n",
    "    availCSV = pd.read_csv(path)\n",
    "    datesHeaders = availCSV.columns[1:]    \n",
    "    cols = ['Who']\n",
    "    cols.append([dt.datetime.strptime(date, '%d/%m/%Y').date() for date in datesHeaders])\n",
    "    availCSV.columns =cols\n",
    "    return availCSV\n",
    "    "
   ]
  },
  {
   "cell_type": "markdown",
   "metadata": {},
   "source": [
    "### Save"
   ]
  },
  {
   "cell_type": "code",
   "execution_count": null,
   "metadata": {
    "collapsed": true
   },
   "outputs": [],
   "source": [
    "def SaveData(data,path):\n",
    "    data.to_csv(path)"
   ]
  },
  {
   "cell_type": "markdown",
   "metadata": {},
   "source": [
    "### Domain\n",
    "* Find tasks of a personn\n",
    "* Order tasks by priority then ID (just in case)\n",
    "* Compute end dates\n",
    "    * Find previous task of personn\n",
    "    * Based on a start date and workload, compute end date"
   ]
  },
  {
   "cell_type": "code",
   "execution_count": 122,
   "metadata": {
    "collapsed": false
   },
   "outputs": [],
   "source": [
    "def FindPreviousTaskOfSomeone(tasks, current):\n",
    "    '''\n",
    "    Find the previous task\n",
    "    Expects an order tasks pandas by priority desc and taskid \n",
    "    '''\n",
    "    whosTasks = FindTasksOfSomeone(tasks,current.Who)    \n",
    "    prevTasks= whosTasks.loc[:current.TaskId]\n",
    "    if len(prevTasks)<2 :\n",
    "        return None\n",
    "    else :\n",
    "        return prevTasks.iloc[-2]\n",
    "    \n",
    "    "
   ]
  },
  {
   "cell_type": "code",
   "execution_count": 61,
   "metadata": {
    "collapsed": true
   },
   "outputs": [],
   "source": [
    "def FindTasksOfSomeone(tasks, who):\n",
    "    return tasks[tasks.Who==who]\n",
    "def FindTaskIdById(tasks, taskid):\n",
    "    return tasks[tasks.TaskId=taskid].head()\n",
    "def OrderTaskByPriority(tasks):\n",
    "    return tasks.sort_values(by=['Priority','TaskId'], ascending=[False,True])"
   ]
  },
  {
   "cell_type": "markdown",
   "metadata": {},
   "source": [
    "## Load Data"
   ]
  },
  {
   "cell_type": "code",
   "execution_count": 97,
   "metadata": {
    "collapsed": false
   },
   "outputs": [],
   "source": [
    "_tasks = LoadTask(_pathTasks)"
   ]
  },
  {
   "cell_type": "code",
   "execution_count": 54,
   "metadata": {
    "collapsed": false,
    "scrolled": false
   },
   "outputs": [],
   "source": [
    "_avail = LoadAvailability(_pathAvail)"
   ]
  },
  {
   "cell_type": "code",
   "execution_count": 98,
   "metadata": {
    "collapsed": false
   },
   "outputs": [
    {
     "data": {
      "text/html": [
       "<div>\n",
       "<table border=\"1\" class=\"dataframe\">\n",
       "  <thead>\n",
       "    <tr style=\"text-align: right;\">\n",
       "      <th></th>\n",
       "      <th>TaskId</th>\n",
       "      <th>Name</th>\n",
       "      <th>WorkLoad</th>\n",
       "      <th>Who</th>\n",
       "      <th>StartDate</th>\n",
       "      <th>EndDate</th>\n",
       "      <th>Priority</th>\n",
       "    </tr>\n",
       "    <tr>\n",
       "      <th>TaskId</th>\n",
       "      <th></th>\n",
       "      <th></th>\n",
       "      <th></th>\n",
       "      <th></th>\n",
       "      <th></th>\n",
       "      <th></th>\n",
       "      <th></th>\n",
       "    </tr>\n",
       "  </thead>\n",
       "  <tbody>\n",
       "    <tr>\n",
       "      <th>1</th>\n",
       "      <td>1</td>\n",
       "      <td>Test 1</td>\n",
       "      <td>4</td>\n",
       "      <td>CGA</td>\n",
       "      <td>NaN</td>\n",
       "      <td>NaN</td>\n",
       "      <td>150</td>\n",
       "    </tr>\n",
       "    <tr>\n",
       "      <th>2</th>\n",
       "      <td>2</td>\n",
       "      <td>Test 2</td>\n",
       "      <td>4</td>\n",
       "      <td>CGA</td>\n",
       "      <td>NaN</td>\n",
       "      <td>NaN</td>\n",
       "      <td>130</td>\n",
       "    </tr>\n",
       "    <tr>\n",
       "      <th>3</th>\n",
       "      <td>3</td>\n",
       "      <td>Test 3</td>\n",
       "      <td>4</td>\n",
       "      <td>ACH</td>\n",
       "      <td>NaN</td>\n",
       "      <td>NaN</td>\n",
       "      <td>140</td>\n",
       "    </tr>\n",
       "  </tbody>\n",
       "</table>\n",
       "</div>"
      ],
      "text/plain": [
       "        TaskId    Name  WorkLoad  Who  StartDate  EndDate  Priority\n",
       "TaskId                                                             \n",
       "1            1  Test 1         4  CGA        NaN      NaN       150\n",
       "2            2  Test 2         4  CGA        NaN      NaN       130\n",
       "3            3  Test 3         4  ACH        NaN      NaN       140"
      ]
     },
     "execution_count": 98,
     "metadata": {},
     "output_type": "execute_result"
    }
   ],
   "source": [
    "_tasks.head(10)"
   ]
  },
  {
   "cell_type": "code",
   "execution_count": 56,
   "metadata": {
    "collapsed": false
   },
   "outputs": [
    {
     "data": {
      "text/html": [
       "<div>\n",
       "<table border=\"1\" class=\"dataframe\">\n",
       "  <thead>\n",
       "    <tr style=\"text-align: right;\">\n",
       "      <th></th>\n",
       "      <th>Who</th>\n",
       "      <th>(2016-05-01,)</th>\n",
       "    </tr>\n",
       "  </thead>\n",
       "  <tbody>\n",
       "    <tr>\n",
       "      <th>0</th>\n",
       "      <td>'CGA'</td>\n",
       "      <td>1</td>\n",
       "    </tr>\n",
       "  </tbody>\n",
       "</table>\n",
       "</div>"
      ],
      "text/plain": [
       "     Who  (2016-05-01,)\n",
       "0  'CGA'              1"
      ]
     },
     "execution_count": 56,
     "metadata": {},
     "output_type": "execute_result"
    }
   ],
   "source": [
    "_avail.head(1)"
   ]
  },
  {
   "cell_type": "code",
   "execution_count": 99,
   "metadata": {
    "collapsed": false
   },
   "outputs": [
    {
     "data": {
      "text/html": [
       "<div>\n",
       "<table border=\"1\" class=\"dataframe\">\n",
       "  <thead>\n",
       "    <tr style=\"text-align: right;\">\n",
       "      <th></th>\n",
       "      <th>TaskId</th>\n",
       "      <th>Name</th>\n",
       "      <th>WorkLoad</th>\n",
       "      <th>Who</th>\n",
       "      <th>StartDate</th>\n",
       "      <th>EndDate</th>\n",
       "      <th>Priority</th>\n",
       "    </tr>\n",
       "    <tr>\n",
       "      <th>TaskId</th>\n",
       "      <th></th>\n",
       "      <th></th>\n",
       "      <th></th>\n",
       "      <th></th>\n",
       "      <th></th>\n",
       "      <th></th>\n",
       "      <th></th>\n",
       "    </tr>\n",
       "  </thead>\n",
       "  <tbody>\n",
       "    <tr>\n",
       "      <th>1</th>\n",
       "      <td>1</td>\n",
       "      <td>Test 1</td>\n",
       "      <td>4</td>\n",
       "      <td>CGA</td>\n",
       "      <td>NaN</td>\n",
       "      <td>NaN</td>\n",
       "      <td>150</td>\n",
       "    </tr>\n",
       "    <tr>\n",
       "      <th>3</th>\n",
       "      <td>3</td>\n",
       "      <td>Test 3</td>\n",
       "      <td>4</td>\n",
       "      <td>ACH</td>\n",
       "      <td>NaN</td>\n",
       "      <td>NaN</td>\n",
       "      <td>140</td>\n",
       "    </tr>\n",
       "    <tr>\n",
       "      <th>2</th>\n",
       "      <td>2</td>\n",
       "      <td>Test 2</td>\n",
       "      <td>4</td>\n",
       "      <td>CGA</td>\n",
       "      <td>NaN</td>\n",
       "      <td>NaN</td>\n",
       "      <td>130</td>\n",
       "    </tr>\n",
       "  </tbody>\n",
       "</table>\n",
       "</div>"
      ],
      "text/plain": [
       "        TaskId    Name  WorkLoad  Who  StartDate  EndDate  Priority\n",
       "TaskId                                                             \n",
       "1            1  Test 1         4  CGA        NaN      NaN       150\n",
       "3            3  Test 3         4  ACH        NaN      NaN       140\n",
       "2            2  Test 2         4  CGA        NaN      NaN       130"
      ]
     },
     "execution_count": 99,
     "metadata": {},
     "output_type": "execute_result"
    }
   ],
   "source": [
    "_tasks = OrderTaskByPriority(_tasks)\n",
    "_tasks.head(10)"
   ]
  },
  {
   "cell_type": "code",
   "execution_count": 100,
   "metadata": {
    "collapsed": false
   },
   "outputs": [
    {
     "data": {
      "text/html": [
       "<div>\n",
       "<table border=\"1\" class=\"dataframe\">\n",
       "  <thead>\n",
       "    <tr style=\"text-align: right;\">\n",
       "      <th></th>\n",
       "      <th>TaskId</th>\n",
       "      <th>Name</th>\n",
       "      <th>WorkLoad</th>\n",
       "      <th>Who</th>\n",
       "      <th>StartDate</th>\n",
       "      <th>EndDate</th>\n",
       "      <th>Priority</th>\n",
       "    </tr>\n",
       "    <tr>\n",
       "      <th>TaskId</th>\n",
       "      <th></th>\n",
       "      <th></th>\n",
       "      <th></th>\n",
       "      <th></th>\n",
       "      <th></th>\n",
       "      <th></th>\n",
       "      <th></th>\n",
       "    </tr>\n",
       "  </thead>\n",
       "  <tbody>\n",
       "    <tr>\n",
       "      <th>1</th>\n",
       "      <td>1</td>\n",
       "      <td>Test 1</td>\n",
       "      <td>4</td>\n",
       "      <td>CGA</td>\n",
       "      <td>NaN</td>\n",
       "      <td>NaN</td>\n",
       "      <td>150</td>\n",
       "    </tr>\n",
       "    <tr>\n",
       "      <th>2</th>\n",
       "      <td>2</td>\n",
       "      <td>Test 2</td>\n",
       "      <td>4</td>\n",
       "      <td>CGA</td>\n",
       "      <td>NaN</td>\n",
       "      <td>NaN</td>\n",
       "      <td>130</td>\n",
       "    </tr>\n",
       "  </tbody>\n",
       "</table>\n",
       "</div>"
      ],
      "text/plain": [
       "        TaskId    Name  WorkLoad  Who  StartDate  EndDate  Priority\n",
       "TaskId                                                             \n",
       "1            1  Test 1         4  CGA        NaN      NaN       150\n",
       "2            2  Test 2         4  CGA        NaN      NaN       130"
      ]
     },
     "execution_count": 100,
     "metadata": {},
     "output_type": "execute_result"
    }
   ],
   "source": [
    "whosTasks = FindTasksOfSomeone(_tasks,'CGA')    \n",
    "whosTasks.head(10)"
   ]
  },
  {
   "cell_type": "code",
   "execution_count": 109,
   "metadata": {
    "collapsed": false
   },
   "outputs": [
    {
     "data": {
      "text/html": [
       "<div>\n",
       "<table border=\"1\" class=\"dataframe\">\n",
       "  <thead>\n",
       "    <tr style=\"text-align: right;\">\n",
       "      <th></th>\n",
       "      <th>TaskId</th>\n",
       "      <th>Name</th>\n",
       "      <th>WorkLoad</th>\n",
       "      <th>Who</th>\n",
       "      <th>StartDate</th>\n",
       "      <th>EndDate</th>\n",
       "      <th>Priority</th>\n",
       "    </tr>\n",
       "    <tr>\n",
       "      <th>TaskId</th>\n",
       "      <th></th>\n",
       "      <th></th>\n",
       "      <th></th>\n",
       "      <th></th>\n",
       "      <th></th>\n",
       "      <th></th>\n",
       "      <th></th>\n",
       "    </tr>\n",
       "  </thead>\n",
       "  <tbody>\n",
       "    <tr>\n",
       "      <th>3</th>\n",
       "      <td>3</td>\n",
       "      <td>Test 3</td>\n",
       "      <td>4</td>\n",
       "      <td>ACH</td>\n",
       "      <td>NaN</td>\n",
       "      <td>NaN</td>\n",
       "      <td>140</td>\n",
       "    </tr>\n",
       "  </tbody>\n",
       "</table>\n",
       "</div>"
      ],
      "text/plain": [
       "        TaskId    Name  WorkLoad  Who  StartDate  EndDate  Priority\n",
       "TaskId                                                             \n",
       "3            3  Test 3         4  ACH        NaN      NaN       140"
      ]
     },
     "execution_count": 109,
     "metadata": {},
     "output_type": "execute_result"
    }
   ],
   "source": [
    "_tasks.loc[:3].tail(1)"
   ]
  },
  {
   "cell_type": "code",
   "execution_count": 124,
   "metadata": {
    "collapsed": false
   },
   "outputs": [
    {
     "data": {
      "text/plain": [
       "TaskId            3\n",
       "Name         Test 3\n",
       "WorkLoad          4\n",
       "Who             ACH\n",
       "StartDate       NaN\n",
       "EndDate         NaN\n",
       "Priority        140\n",
       "Name: 3, dtype: object"
      ]
     },
     "execution_count": 124,
     "metadata": {},
     "output_type": "execute_result"
    }
   ],
   "source": [
    "_tasks.iloc[1]"
   ]
  },
  {
   "cell_type": "code",
   "execution_count": 126,
   "metadata": {
    "collapsed": false
   },
   "outputs": [],
   "source": [
    "FindPreviousTaskOfSomeone(_tasks,_tasks.iloc[1])"
   ]
  }
 ],
 "metadata": {
  "anaconda-cloud": {},
  "kernelspec": {
   "display_name": "Python [Root]",
   "language": "python",
   "name": "Python [Root]"
  },
  "language_info": {
   "codemirror_mode": {
    "name": "ipython",
    "version": 2
   },
   "file_extension": ".py",
   "mimetype": "text/x-python",
   "name": "python",
   "nbconvert_exporter": "python",
   "pygments_lexer": "ipython2",
   "version": "2.7.12"
  }
 },
 "nbformat": 4,
 "nbformat_minor": 0
}
