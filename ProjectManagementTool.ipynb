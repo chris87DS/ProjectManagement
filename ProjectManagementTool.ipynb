{
 "cells": [
  {
   "cell_type": "markdown",
   "metadata": {},
   "source": [
    "# Project Management"
   ]
  },
  {
   "cell_type": "markdown",
   "metadata": {},
   "source": [
    "## Internals"
   ]
  },
  {
   "cell_type": "code",
   "execution_count": 1,
   "metadata": {
    "collapsed": true
   },
   "outputs": [],
   "source": [
    "import pandas as pd\n",
    "import datetime as dt\n",
    "import numpy as np\n",
    "import IPython.display as dis"
   ]
  },
  {
   "cell_type": "markdown",
   "metadata": {},
   "source": [
    "### Param"
   ]
  },
  {
   "cell_type": "code",
   "execution_count": 2,
   "metadata": {
    "collapsed": false
   },
   "outputs": [],
   "source": [
    "_pathTasks='tasksProjet.csv'\n",
    "_pathAvail='availReel.csv'\n",
    "_ProjectStartDate = dt.datetime(year=2016,month=11,day=21)\n",
    "_1DayTimeDelta = dt.timedelta(1)"
   ]
  },
  {
   "cell_type": "markdown",
   "metadata": {},
   "source": [
    "### Load data"
   ]
  },
  {
   "cell_type": "code",
   "execution_count": 3,
   "metadata": {
    "collapsed": false
   },
   "outputs": [],
   "source": [
    "_TaskHeaders = ['TaskId','Subject','Name','WorkLoad','Who','StartDate','EndDate','Priority','PredecessorTaskId']\n",
    "\n",
    "def LoadTask(path):\n",
    "        data = pd.read_csv(path, header=0,names=_TaskHeaders, dtype={'PredecessorTaskId':object},delimiter=';',decimal=',')\n",
    "        data.StartDate = pd.to_datetime(data.StartDate)\n",
    "        data.EndDate = pd.to_datetime(data.EndDate)\n",
    "        data.index=data.TaskId\n",
    "        if len(data)!=len(data.TaskId.unique()):\n",
    "            raise Exception ('Tasks Id is not unique')\n",
    "        return data\n",
    "def LoadAvailability(path):\n",
    "    '''\n",
    "    This function load an availability matrix\n",
    "    '''\n",
    "    availCSV = pd.read_csv(path)\n",
    "    availCSV.Date = pd.to_datetime(availCSV.Date)\n",
    "    availCSV.sort_values(inplace=True,by='Date')\n",
    "    return availCSV\n",
    "    "
   ]
  },
  {
   "cell_type": "markdown",
   "metadata": {},
   "source": [
    "### Save"
   ]
  },
  {
   "cell_type": "code",
   "execution_count": 4,
   "metadata": {
    "collapsed": true
   },
   "outputs": [],
   "source": [
    "def SaveData(data,path):\n",
    "    data.to_csv(path)"
   ]
  },
  {
   "cell_type": "markdown",
   "metadata": {},
   "source": [
    "### Domain\n",
    "* Find tasks of a personn\n",
    "* Order tasks by priority then ID (just in case)\n",
    "* Compute end dates\n",
    "    * Find previous task of person and previous task id\n",
    "    * Based on the max start date and workload, iterate to see the day when the task will be finised\n"
   ]
  },
  {
   "cell_type": "code",
   "execution_count": 5,
   "metadata": {
    "collapsed": false
   },
   "outputs": [],
   "source": [
    "def FindPreviousTaskOfSomeone(tasks, current):\n",
    "    '''\n",
    "    Find the previous task in order of doing\n",
    "    Expects an order tasks pandas by priority desc and taskid \n",
    "    '''\n",
    "    whosTasks = FindTasksOfSomeone(tasks,current.Who)    \n",
    "    prevTasks= whosTasks.loc[:current.TaskId]\n",
    "    if len(prevTasks)<2 :\n",
    "        return None\n",
    "    else :\n",
    "        return prevTasks.iloc[-2]\n",
    "    \n",
    "    "
   ]
  },
  {
   "cell_type": "code",
   "execution_count": 6,
   "metadata": {
    "collapsed": false
   },
   "outputs": [],
   "source": [
    "def FindTasksOfSomeone(tasks, who):\n",
    "    return tasks[tasks.Who==who]\n",
    "def FindTaskById(tasks, taskid):\n",
    "    return tasks.loc[int(taskid)]\n",
    "def OrderTaskByPriority(tasks):\n",
    "    return tasks.sort_values(by=['Priority','TaskId'], ascending=[False,True])"
   ]
  },
  {
   "cell_type": "code",
   "execution_count": 7,
   "metadata": {
    "collapsed": false
   },
   "outputs": [],
   "source": [
    "def InitEmptyOccupation(avail,startDate, endDate):\n",
    "    users = avail.Who.unique()\n",
    "    duration = (endDate-startDate).days\n",
    "    return pd.DataFrame(data=np.zeros(shape=(duration,len(users)), dtype=np.int32),\\\n",
    "                        columns=users,\\\n",
    "                        index=np.arange(startDate,endDate, dtype='datetime64[D]'))"
   ]
  },
  {
   "cell_type": "code",
   "execution_count": 8,
   "metadata": {
    "collapsed": false
   },
   "outputs": [],
   "source": [
    "def ComputeEndDate(availability, task):\n",
    "    '''\n",
    "    Compute the end date based on the occupation of someone, a start date and a duration\n",
    "    '''    \n",
    "    availWho = availability[(availability.Who==task.Who) & (availability.Date>=task.StartDate)]  \n",
    "    currentOccupation = 0\n",
    "    endDate=None    \n",
    "    for index,item in availWho.iterrows():\n",
    "        currentOccupation=currentOccupation+item.Available\n",
    "        #print 'Task %s with workload %s at Date %s & occupation %s' %(task.TaskId,task.WorkLoad, item.Date, currentOccupation)\n",
    "        if(float(currentOccupation)>=float(task.WorkLoad)):\n",
    "            endDate=item.Date\n",
    "            break;\n",
    "    if(endDate==None):\n",
    "        raise Exception('Task cannot be ended',task)\n",
    "    return endDate\n",
    "        "
   ]
  },
  {
   "cell_type": "code",
   "execution_count": 9,
   "metadata": {
    "collapsed": true
   },
   "outputs": [],
   "source": [
    "def SetOccupiedBy(occupation,task):\n",
    "    occupation.loc[task.StartDate:task.EndDate,task.Who]=task.TaskId"
   ]
  },
  {
   "cell_type": "code",
   "execution_count": 10,
   "metadata": {
    "collapsed": false
   },
   "outputs": [],
   "source": [
    "def OrderTasksByPriorityAndPredecessor(tasks):\n",
    "    tasks = OrderTaskByPriority(tasks)\n",
    "    indexTasks = tasks.TaskId.tolist()\n",
    "    #print indexTasks\n",
    "    '''\n",
    "        While on the number of element\n",
    "            If has predecessor\n",
    "                Get its location \n",
    "                If bigger > cursor --> move after  (check if last item)          \n",
    "            If moved : do not move cursor\n",
    "            Else : next item\n",
    "        '''\n",
    "    lItems = len(indexTasks)\n",
    "    cursor = 0\n",
    "    moved = False \n",
    "    listOfMoved = []\n",
    "    while (cursor<lItems):  \n",
    "        taskI = tasks.loc[indexTasks[cursor]]\n",
    "        moved=False\n",
    "        #print '  Current task %s at position %s has predecessor %s'%(taskI.TaskId,cursor,taskI.PredecessorTaskId)\n",
    "        if (pd.isnull(taskI.PredecessorTaskId)==False) :\n",
    "            predecIdx = indexTasks.index(int(taskI.PredecessorTaskId))    \n",
    "            #print '  Predecessor %s is at position %s' %(taskI.PredecessorTaskId,predecIdx)\n",
    "            if(predecIdx>cursor):\n",
    "                #print '  Task %s with position %s must be moved after task %s at position %s' \\\n",
    "                #    %(taskI.TaskId,cursor,taskI.PredecessorTaskId,predecIdx)\n",
    "                #Check if this task has already been moved, if yes we have a cycle\n",
    "                if(taskI.TaskId in listOfMoved):\n",
    "                    raise Exception('There is a cycle between tasks found on ',taskI.TaskId)\n",
    "                listOfMoved.append(taskI.TaskId)\n",
    "                indexTasks.pop(cursor)\n",
    "                #print '  Popped %s' %(indexTasks)\n",
    "                Moved=True\n",
    "                cursor -=1\n",
    "                if(predecIdx==lItems-1):\n",
    "                    indexTasks.append(taskI.TaskId)\n",
    "                else:\n",
    "                    indexTasks.insert(predecIdx,taskI.TaskId)\n",
    "        if moved==False:\n",
    "                cursor +=1\n",
    "        #print '  %s' %(indexTasks)\n",
    "    return tasks.loc[indexTasks]"
   ]
  },
  {
   "cell_type": "code",
   "execution_count": 11,
   "metadata": {
    "collapsed": false
   },
   "outputs": [],
   "source": [
    "def ComputeOccupation(avail,tasks):\n",
    "    '''\n",
    "    Computer the tasks start and end date based on \n",
    "    \n",
    "    1. Order of computation is based on the priority and PredecessorTaskId\n",
    "        First the algorithm order by priority then check the predecessors \n",
    "    and moves each row just after its predecessor if it is before\n",
    "        The algorithm will however detect incorrect cases :\n",
    "    When it parcours the tasks, it checks if the PredecessorTaskId task has a end date. \n",
    "            If not, sends an error. \n",
    "            If yes uses the maximum between the previous task of the person and the predecessor\n",
    "    2. By personn iterate over its tasks and compute the dates \n",
    "        2.1 If first task : prevStartDate=_projectStartDate\n",
    "            else prevStartDate=previous.EndDate+1 (we cheat and say one task per day!)\n",
    "        2.2 Check the predecessor end date : \n",
    "            If predecessor.EndDate = NaT --> exception (cycle)\n",
    "        2.3 Take the max between both\n",
    "        2.4 Compute the end date, set it and the occupation matrix\n",
    "    '''\n",
    "    \n",
    "    lastEndDates = pd.Series(data=np.empty(len(_avail.Who.unique())),index=_avail.Who.unique())\n",
    "    lastEndDates[:]=_ProjectStartDate\n",
    "    orderedTasks = OrderTasksByPriorityAndPredecessor(tasks)\n",
    "    for currtask in orderedTasks.itertuples():\n",
    "        #print 'The current task is : %s' %(currtask.Index)        \n",
    "        previousEndDate=_ProjectStartDate-_1DayTimeDelta\n",
    "        predecessorTaskEndDate=_ProjectStartDate-_1DayTimeDelta\n",
    "        \n",
    "        #When did the last task finished\n",
    "        previousTasks = FindPreviousTaskOfSomeone(tasks, currtask)  \n",
    "        if(type(previousTasks)=='pandas.core.series.Series'):\n",
    "            previousEndDate=previousTasks.EndDate\n",
    "            if pd.isnull(previousEndDate):\n",
    "                raise Exception('Couldn''t find the end date of the previous task',currtask.TaskId)\n",
    "\n",
    "        #When did the predecessor finished if there is one\n",
    "        if(pd.isnull(currtask.PredecessorTaskId)==False):            \n",
    "            predecessorTask = FindTaskById(orderedTasks, currtask.PredecessorTaskId)\n",
    "            #print '   %s %s' %(predecessorTask.TaskId, predecessorTask.EndDate)\n",
    "            predecessorTaskEndDate=predecessorTask.EndDate\n",
    "            if pd.isnull(predecessorTaskEndDate):\n",
    "                raise Exception('Couldn''t find the end date of the predecessor task',currtask.TaskId)\n",
    "        latestDate = max(predecessorTaskEndDate,previousEndDate,lastEndDates[currtask.Who])\n",
    "        \n",
    "        #The task start the next day of the previous\n",
    "        orderedTasks.loc[currtask.Index,'StartDate']=latestDate+_1DayTimeDelta\n",
    "        foundEndDate=ComputeEndDate(avail,orderedTasks.loc[currtask.Index])\n",
    "        orderedTasks.loc[currtask.Index,'EndDate'] = foundEndDate\n",
    "        lastEndDates[currtask.Who]=foundEndDate\n",
    "        '''print 'Dates from %s to %s '%(orderedTasks.loc[currtask.Index,'StartDate'],\\\n",
    "                                      orderedTasks.loc[currtask.Index,'EndDate'])'''\n",
    "    return orderedTasks\n",
    "        \n",
    "\n",
    "    "
   ]
  },
  {
   "cell_type": "code",
   "execution_count": 12,
   "metadata": {
    "collapsed": false
   },
   "outputs": [],
   "source": [
    "def FillAllOccupationFromTasks(tasks):\n",
    "    occupation = InitEmptyOccupation(_avail,_ProjectStartDate,_ProjectStartDate+dt.timedelta(365))\n",
    "    for task in tasks.itertuples():\n",
    "        SetOccupiedBy(occupation,task)\n",
    "    return occupation"
   ]
  },
  {
   "cell_type": "markdown",
   "metadata": {},
   "source": [
    "#### Presentation"
   ]
  },
  {
   "cell_type": "code",
   "execution_count": 13,
   "metadata": {
    "collapsed": false
   },
   "outputs": [],
   "source": [
    "def DrawGant(tasks,idHtml,GroupByPerson=True):\n",
    "    '''\n",
    "    Send the javascript necessary to draw the chart\n",
    "    GroupByPersonn = true display the gant for by person, otherwise by subject\n",
    "    '''\n",
    "    if GroupByPerson:\n",
    "        tableCreation = \"\"\"var dataTable = new google.visualization.DataTable();\n",
    "\n",
    "        dataTable.addColumn({ type: 'string', id: 'Subject' });\n",
    "        dataTable.addColumn({ type: 'string', id: 'Name' });\n",
    "        dataTable.addColumn({'type': 'string', 'role': 'tooltip', 'p': {'html': true}})\n",
    "        dataTable.addColumn({ type: 'date', id: 'Start' });\n",
    "        dataTable.addColumn({ type: 'date', id: 'End' });        \n",
    "        \"\"\"\n",
    "    else: \n",
    "        tableCreation = \"\"\"var dataTable = new google.visualization.DataTable();\n",
    "\n",
    "        dataTable.addColumn({ type: 'string', id: 'Subject' });\n",
    "        dataTable.addColumn({ type: 'string', id: 'Name' });\n",
    "        dataTable.addColumn({'type': 'string', 'role': 'tooltip', 'p': {'html': true}})\n",
    "        dataTable.addColumn({ type: 'date', id: 'Start' });\n",
    "        dataTable.addColumn({ type: 'date', id: 'End' });\n",
    "        \"\"\"\n",
    "    def PrintToolTipHtml(task):\n",
    "        return '''createCustomHTMLContent('%s','%s','%s','%s','%s','%s','%s','%s')'''%(task.TaskId,task.Subject.replace(\"'\", \"\\\\'\"),\\\n",
    "                                                                              task.Name.replace(\"'\", \"\\\\'\"),\\\n",
    "                                                              task.StartDate.date(),task.EndDate.date(),task.WorkLoad,\\\n",
    "                                                              task.Who,task.PredecessorTaskId)\n",
    "    def PrintDate(date):\n",
    "        return 'new Date(%s,%s,%s)'%(date.year,date.month-1,date.day)\n",
    "    table=''\n",
    "    for gt in tasks.itertuples():\n",
    "        if GroupByPerson:\n",
    "            table = table + \"\"\"['{}','{}',{},{},{}],\n",
    "        \"\"\".format(gt.Who.replace(\"'\", \"\\\\'\"),gt.Name.replace(\"'\", \"\\\\'\"),\\\n",
    "                   PrintToolTipHtml(gt),\\\n",
    "                   #'test',\n",
    "                   PrintDate(gt.StartDate),PrintDate(gt.EndDate+_1DayTimeDelta)) \n",
    "        else:\n",
    "            table = table + \"\"\"['{}','{}',{},{},{}],\n",
    "        \"\"\".format(gt.Subject.replace(\"'\", \"\\\\'\"),\\\n",
    "                   gt.Name.replace(\"'\", \"\\\\'\"),\\\n",
    "                   PrintToolTipHtml(gt),\\\n",
    "                   #'test',\n",
    "                   PrintDate(gt.StartDate),PrintDate(gt.EndDate+_1DayTimeDelta)) \n",
    "        #The end date is one day later otherwise it stops at 0:00 leaving a day gap\n",
    "    #print 'google.visualization.arrayToDataTable([{}])'.format(table)\n",
    "    js = \"\"\"google.charts.load(\"current\", {{packages:[\"timeline\"]}});\n",
    "        google.charts.setOnLoadCallback(drawChart);\n",
    "         function drawChart() {{\n",
    "            var container = document.getElementById('{}');\n",
    "            var chart = new google.visualization.Timeline(container);\n",
    "            {}\n",
    "            dataTable.addRows([{}]);\n",
    "            var options = {{\n",
    "              timeline: {{ }},\n",
    "              tooltip: {{isHtml: true}},\n",
    "         }};\n",
    "\n",
    "         chart.draw(dataTable, options);\n",
    "         }}\n",
    "         \n",
    "         function createCustomHTMLContent(taskid,subject,name,start,end, workload, who, predecessor) {{\n",
    "             return '<div style=\"padding:5px 5px 5px 5px;\">'+\n",
    "             '<h3>'+subject+'<h3/>'+\n",
    "             '<h4>'+name+'</h4>'+             \n",
    "             '<ul><li>'+who+'</li>'+\n",
    "             '<li><strong>TaskId</strong> '+taskid+'</li>'+\n",
    "             '<li><strong>From</strong> '+start+' <strong>To</strong> '+end+'</li>'+\n",
    "             '<li><strong>WorkLoad</strong> '+workload+'</li>'+\n",
    "             '<li><strong>Predecessor</strong> '+predecessor+''+\n",
    "             '</ul>'+\n",
    "             '</div>'\n",
    "              }}\n",
    "        \n",
    "        \"\"\".format(idHtml,tableCreation,table)\n",
    "    #print js\n",
    "    return js"
   ]
  },
  {
   "cell_type": "code",
   "execution_count": 14,
   "metadata": {
    "collapsed": true
   },
   "outputs": [],
   "source": [
    "def SaveGantToHtml(javascript,path):\n",
    "    html =\"\"\"<!DOCTYPE html>\n",
    "<html lang=\"en\">\n",
    "  <head>\n",
    "    <meta charset=\"utf-8\">\n",
    "    <title>Gant Chart</title>\n",
    "    <link rel=\"stylesheet\" href=\"style.css\">\n",
    "    <script type=\"text/javascript\" src=\"https://www.gstatic.com/charts/loader.js\"></script>\n",
    "  </head>\n",
    "  <body>\n",
    "           <div id=\"timeline\" style=\"height: 650px;width: 7000px\"></div>\n",
    "           <script type=\"text/javascript\">{}</script>\n",
    "  </body>\n",
    "</html>\"\"\".format(javascript)\n",
    "    text_file = open(path, \"w\")\n",
    "    text_file.write(html)\n",
    "    text_file.close()"
   ]
  },
  {
   "cell_type": "code",
   "execution_count": 37,
   "metadata": {
    "collapsed": false
   },
   "outputs": [],
   "source": [
    "def ExportTasks(path, tasks):\n",
    "    tasks[['Subject','Name','Who','StartDate','EndDate']].to_csv(path_or_buf=path, sep=';',index=False)"
   ]
  },
  {
   "cell_type": "markdown",
   "metadata": {},
   "source": [
    "## Actions"
   ]
  },
  {
   "cell_type": "code",
   "execution_count": 39,
   "metadata": {
    "collapsed": false
   },
   "outputs": [],
   "source": [
    "_tasks = LoadTask(_pathTasks)\n",
    "_avail = LoadAvailability(_pathAvail)\n",
    "_tasks = ComputeOccupation(_avail,_tasks)"
   ]
  },
  {
   "cell_type": "code",
   "execution_count": 16,
   "metadata": {
    "collapsed": false
   },
   "outputs": [
    {
     "data": {
      "text/html": [
       "<script type=\"text/javascript\" src=\"https://www.gstatic.com/charts/loader.js\"></script>"
      ],
      "text/plain": [
       "<IPython.core.display.HTML object>"
      ]
     },
     "metadata": {},
     "output_type": "display_data"
    }
   ],
   "source": [
    "%%html\n",
    "<script type=\"text/javascript\" src=\"https://www.gstatic.com/charts/loader.js\"></script>"
   ]
  },
  {
   "cell_type": "code",
   "execution_count": 17,
   "metadata": {
    "collapsed": false,
    "scrolled": false
   },
   "outputs": [
    {
     "data": {
      "text/html": [
       "\n",
       "       <div id=\"timeline\" style=\"height: 750px;width: 7000px\"></div>\n",
       "   "
      ],
      "text/plain": [
       "<IPython.core.display.HTML object>"
      ]
     },
     "metadata": {},
     "output_type": "display_data"
    }
   ],
   "source": [
    "%%html\n",
    "\n",
    "       <div id=\"timeline\" style=\"height: 750px;width: 7000px\"></div>\n",
    "   "
   ]
  },
  {
   "cell_type": "code",
   "execution_count": 40,
   "metadata": {
    "collapsed": false,
    "scrolled": false
   },
   "outputs": [
    {
     "data": {
      "application/javascript": [
       "google.charts.load(\"current\", {packages:[\"timeline\"]});\n",
       "        google.charts.setOnLoadCallback(drawChart);\n",
       "         function drawChart() {\n",
       "            var container = document.getElementById('timeline');\n",
       "            var chart = new google.visualization.Timeline(container);\n",
       "            var dataTable = new google.visualization.DataTable();\n",
       "\n",
       "        dataTable.addColumn({ type: 'string', id: 'Subject' });\n",
       "        dataTable.addColumn({ type: 'string', id: 'Name' });\n",
       "        dataTable.addColumn({'type': 'string', 'role': 'tooltip', 'p': {'html': true}})\n",
       "        dataTable.addColumn({ type: 'date', id: 'Start' });\n",
       "        dataTable.addColumn({ type: 'date', id: 'End' });\n",
       "        \n",
       "            dataTable.addRows([['Autres Sujets','Telnet Dev + UAT',createCustomHTMLContent('12','Autres Sujets','Telnet Dev + UAT','2016-11-22','2016-11-25','3.0','ACH','nan'),new Date(2016,10,22),new Date(2016,10,26)],\n",
       "        ['Lot Reserves','RC - Injecter les donnees en DEV',createCustomHTMLContent('4','Lot Reserves','RC - Injecter les donnees en DEV','2016-11-22','2016-11-22','1.0','PTI','nan'),new Date(2016,10,22),new Date(2016,10,23)],\n",
       "        ['Chargements initiaux','Agresso',createCustomHTMLContent('14','Chargements initiaux','Agresso','2016-11-22','2016-12-02','3.0','QPI','nan'),new Date(2016,10,22),new Date(2016,11,3)],\n",
       "        ['BAU','Injection de la cloture',createCustomHTMLContent('31','BAU','Injection de la cloture','2016-11-23','2016-11-23','1.0','PTI','nan'),new Date(2016,10,23),new Date(2016,10,24)],\n",
       "        ['Chargements initiaux','Vie',createCustomHTMLContent('15','Chargements initiaux','Vie','2016-11-24','2016-12-14','15.0','PTI','nan'),new Date(2016,10,24),new Date(2016,11,15)],\n",
       "        ['Lot Reserves','RC - Developper les flux datamarts',createCustomHTMLContent('5','Lot Reserves','RC - Developper les flux datamarts','2016-11-23','2016-11-23','1.0','DEL','4'),new Date(2016,10,23),new Date(2016,10,24)],\n",
       "        ['Scoring','Preparation et Deploiement en UAT',createCustomHTMLContent('39','Scoring','Preparation et Deploiement en UAT','2016-11-22','2016-11-24','2.0','CGA','nan'),new Date(2016,10,22),new Date(2016,10,25)],\n",
       "        ['Scoring','Chargement datamart en UAT',createCustomHTMLContent('40','Scoring','Chargement datamart en UAT','2016-11-25','2016-11-29','2.0','CGA','39'),new Date(2016,10,25),new Date(2016,10,30)],\n",
       "        ['Scoring','Creation univers scoring',createCustomHTMLContent('41','Scoring','Creation univers scoring','2016-11-22','2016-11-22','1.0','EGA','nan'),new Date(2016,10,22),new Date(2016,10,23)],\n",
       "        ['Scoring','Creation rapports scoring',createCustomHTMLContent('42','Scoring','Creation rapports scoring','2016-11-23','2016-11-25','2.0','MWA','41'),new Date(2016,10,23),new Date(2016,10,26)],\n",
       "        ['Scoring','Validation rapports scoring',createCustomHTMLContent('43','Scoring','Validation rapports scoring','2016-11-30','2016-12-02','2.0','MWA','40'),new Date(2016,10,30),new Date(2016,11,3)],\n",
       "        ['Scoring','Analyse des erreurs',createCustomHTMLContent('44','Scoring','Analyse des erreurs','2016-12-03','2016-12-09','2.0','QPI','43'),new Date(2016,11,3),new Date(2016,11,10)],\n",
       "        ['Scoring','Preparation et deploiement en production univers et rapports',createCustomHTMLContent('45','Scoring','Preparation et deploiement en production univers et rapports','2016-12-10','2016-12-12','1.0','QPI','44'),new Date(2016,11,10),new Date(2016,11,13)],\n",
       "        ['PM','PM',createCustomHTMLContent('1','PM','PM','2016-11-22','2018-02-28','110.0','PM','nan'),new Date(2016,10,22),new Date(2018,2,1)],\n",
       "        ['Sprint','Preparation de l\\'environnement',createCustomHTMLContent('13','Sprint','Preparation de l\\'environnement','2016-11-26','2016-11-29','2.0','ACH','nan'),new Date(2016,10,26),new Date(2016,10,30)],\n",
       "        ['Lot Reserves','DMG - Developpement des adaptations',createCustomHTMLContent('2','Lot Reserves','DMG - Developpement des adaptations','2016-11-24','2016-11-25','2.0','DEL','4'),new Date(2016,10,24),new Date(2016,10,26)],\n",
       "        ['Lot Reserves','RA - Developpement des adaptations',createCustomHTMLContent('3','Lot Reserves','RA - Developpement des adaptations','2016-11-26','2016-11-29','2.0','DEL','4'),new Date(2016,10,26),new Date(2016,10,30)],\n",
       "        ['Sprint','Preparation deploiement en UAT',createCustomHTMLContent('7','Sprint','Preparation deploiement en UAT','2016-11-30','2016-12-02','2.0','ACH','5'),new Date(2016,10,30),new Date(2016,11,3)],\n",
       "        ['Sprint','Deployer en UAT et injecter les donnees',createCustomHTMLContent('8','Sprint','Deployer en UAT et injecter les donnees','2016-12-03','2016-12-08','3.0','ACH','7'),new Date(2016,11,3),new Date(2016,11,9)],\n",
       "        ['Sprint','Support UAT',createCustomHTMLContent('9','Sprint','Support UAT','2016-12-09','2016-12-13','3.0','ACH','8'),new Date(2016,11,9),new Date(2016,11,14)],\n",
       "        ['Lot Reserves','RC - Adapter l\\'univers',createCustomHTMLContent('6','Lot Reserves','RC - Adapter l\\'univers','2016-11-24','2016-11-24','1.0','EGA','5'),new Date(2016,10,24),new Date(2016,10,25)],\n",
       "        ['Lot Reserves','RC - Tester et valider',createCustomHTMLContent('10','Lot Reserves','RC - Tester et valider','2016-11-24','2016-12-02','4.0','LZI','5'),new Date(2016,10,24),new Date(2016,11,3)],\n",
       "        ['Lot Reserves','RA - Adaptation univers',createCustomHTMLContent('25','Lot Reserves','RA - Adaptation univers','2016-11-30','2016-12-01','2.0','EGA','3'),new Date(2016,10,30),new Date(2016,11,2)],\n",
       "        ['Lot Reserves','RA - Tester et valider Corporate',createCustomHTMLContent('22','Lot Reserves','RA - Tester et valider Corporate','2016-11-30','2016-12-05','3.0','SLA','3'),new Date(2016,10,30),new Date(2016,11,6)],\n",
       "        ['Lot Reserves','RA - Tester et valider Invest',createCustomHTMLContent('23','Lot Reserves','RA - Tester et valider Invest','2016-11-30','2016-12-05','3.0','AHI','3'),new Date(2016,10,30),new Date(2016,11,6)],\n",
       "        ['Lot Reserves','RA - Tester et valider Classique',createCustomHTMLContent('24','Lot Reserves','RA - Tester et valider Classique','2016-11-30','2016-12-05','3.0','OGO','3'),new Date(2016,10,30),new Date(2016,11,6)],\n",
       "        ['Lot Reserves','DMG - Creation univers',createCustomHTMLContent('21','Lot Reserves','DMG - Creation univers','2016-12-02','2016-12-08','5.0','EGA','2'),new Date(2016,11,2),new Date(2016,11,9)],\n",
       "        ['BAU','Issue comptabilite',createCustomHTMLContent('49','BAU','Issue comptabilite','2016-12-15','2017-01-23','10.0','PTI','nan'),new Date(2016,11,15),new Date(2017,0,24)],\n",
       "        ['BAU','BAU',createCustomHTMLContent('16','BAU','BAU','2016-11-22','2017-11-02','175.0','BAU','nan'),new Date(2016,10,22),new Date(2017,10,3)],\n",
       "        ['EDB','Gouvernance et fonctionnement en 2017',createCustomHTMLContent('33','EDB','Gouvernance et fonctionnement en 2017','2016-11-22','2016-11-22','1.0','OVA','nan'),new Date(2016,10,22),new Date(2016,10,23)],\n",
       "        ['Sprint','Deployer en production',createCustomHTMLContent('11','Sprint','Deployer en production','2017-01-24','2017-01-26','1.0','PTI','10'),new Date(2017,0,24),new Date(2017,0,27)],\n",
       "        ['Utilisation','DA - Contenu fichier mapping compte',createCustomHTMLContent('27','Utilisation','DA - Contenu fichier mapping compte','2016-12-09','2016-12-12','2.0','EGA','nan'),new Date(2016,11,9),new Date(2016,11,13)],\n",
       "        ['CR','Adaptation framework data quality - besoins (a analyser)',createCustomHTMLContent('34','CR','Adaptation framework data quality - besoins (a analyser)','2016-12-13','2016-12-14','2.0','EGA','nan'),new Date(2016,11,13),new Date(2016,11,15)],\n",
       "        ['CR','Adaptation framework data quality - technique (a analyser)',createCustomHTMLContent('58','CR','Adaptation framework data quality - technique (a analyser)','2016-12-15','2017-03-27','20.0','ACH','34'),new Date(2016,11,15),new Date(2017,2,28)],\n",
       "        ['CR','Adaptation framework data quality - tests (a analyser)',createCustomHTMLContent('60','CR','Adaptation framework data quality - tests (a analyser)','2017-03-28','2017-03-29','2.0','EGA','58'),new Date(2017,2,28),new Date(2017,2,30)],\n",
       "        ['CR','Mise a jour des fichiers referentiels (a analyser)',createCustomHTMLContent('37','CR','Mise a jour des fichiers referentiels (a analyser)','2017-03-30','2017-04-05','5.0','EGA','nan'),new Date(2017,2,30),new Date(2017,3,6)],\n",
       "        ['CR','Injection des nouveaux referentiels',createCustomHTMLContent('59','CR','Injection des nouveaux referentiels','2017-04-06','2017-04-14','1.0','CGA','37'),new Date(2017,3,6),new Date(2017,3,15)],\n",
       "        ['BAU','Operationnalisation dqi, kpi etc',createCustomHTMLContent('29','BAU','Operationnalisation dqi, kpi etc','2017-03-28','2017-05-09','10.0','ACH','11'),new Date(2017,2,28),new Date(2017,4,10)],\n",
       "        ['Utilisation','RI - Developpement des rapports initiaux',createCustomHTMLContent('50','Utilisation','RI - Developpement des rapports initiaux','2016-12-03','2016-12-12','5.0','MWA','nan'),new Date(2016,11,3),new Date(2016,11,13)],\n",
       "        ['Utilisation','RI - Extractions de comparaison',createCustomHTMLContent('51','Utilisation','RI - Extractions de comparaison','2017-01-27','2017-02-14','5.0','PTI','nan'),new Date(2017,0,27),new Date(2017,1,15)],\n",
       "        ['Utilisation','RI - Analyse des erreurs',createCustomHTMLContent('52','Utilisation','RI - Analyse des erreurs','2017-02-15','2017-03-03','5.0','PTI','51'),new Date(2017,1,15),new Date(2017,2,4)],\n",
       "        ['Utilisation','RI - Corrections',createCustomHTMLContent('53','Utilisation','RI - Corrections','2017-03-04','2017-04-26','15.0','PTI','52'),new Date(2017,2,4),new Date(2017,3,27)],\n",
       "        ['Utilisation','RI - Preparation et deploiement UAT',createCustomHTMLContent('54','Utilisation','RI - Preparation et deploiement UAT','2017-04-27','2017-05-11','4.0','PTI','53'),new Date(2017,3,27),new Date(2017,4,12)],\n",
       "        ['Utilisation','RI - Support UAT',createCustomHTMLContent('55','Utilisation','RI - Support UAT','2017-05-12','2017-05-30','5.0','PTI','54'),new Date(2017,4,12),new Date(2017,4,31)],\n",
       "        ['Utilisation','RI - Deploiement production',createCustomHTMLContent('56','Utilisation','RI - Deploiement production','2017-05-31','2017-06-02','1.0','PTI','55'),new Date(2017,4,31),new Date(2017,5,3)],\n",
       "        ['BAU','Gestion des droits d\\'acces',createCustomHTMLContent('32','BAU','Gestion des droits d\\'acces','2017-04-15','2017-05-15','3.0','CGA','nan'),new Date(2017,3,15),new Date(2017,4,16)],\n",
       "        ['CR','Prestations hors systeme sources (a analyser)',createCustomHTMLContent('36','CR','Prestations hors systeme sources (a analyser)','2017-06-03','2017-07-26','15.0','PTI','nan'),new Date(2017,5,3),new Date(2017,6,27)],\n",
       "        ['CR','Reprise historique (version d\\'un record)',createCustomHTMLContent('35','CR','Reprise historique (version d\\'un record)','2017-07-27','2017-11-09','30.0','PTI','nan'),new Date(2017,6,27),new Date(2017,10,10)],\n",
       "        ['BAU','Primes techniques (inventaires, commerciales...) erronees',createCustomHTMLContent('48','BAU','Primes techniques (inventaires, commerciales...) erronees','2017-05-10','2017-06-22','10.0','ACH','nan'),new Date(2017,4,10),new Date(2017,5,23)],\n",
       "        ['CR','DQI',createCustomHTMLContent('28','CR','DQI','2017-11-10','2018-06-18','62.5','PTI','nan'),new Date(2017,10,10),new Date(2018,5,19)],\n",
       "        ['BAU','Formation SAP BO administration',createCustomHTMLContent('19','BAU','Formation SAP BO administration','2017-05-16','2017-06-30','5.0','CGA','nan'),new Date(2017,4,16),new Date(2017,6,1)],\n",
       "        ['CR','Merge framework',createCustomHTMLContent('57','CR','Merge framework','2017-07-01','2017-10-03','10.0','CGA','nan'),new Date(2017,6,1),new Date(2017,9,4)],\n",
       "        ['CR','KPI AXA',createCustomHTMLContent('26','CR','KPI AXA','2017-06-23','2018-03-13','60.0','ACH','nan'),new Date(2017,5,23),new Date(2018,2,14)],\n",
       "        ['BAU','Validation fonctionnelle des chargements',createCustomHTMLContent('38','BAU','Validation fonctionnelle des chargements','2018-06-19','2018-08-09','15.0','PTI','nan'),new Date(2018,5,19),new Date(2018,7,10)],\n",
       "        ['BAU','Formalisation EX RM WIN AIX',createCustomHTMLContent('18','BAU','Formalisation EX RM WIN AIX','2018-03-14','2018-03-27','3.0','ACH','nan'),new Date(2018,2,14),new Date(2018,2,28)],\n",
       "        ['BAU','automatisation de l\\'injection des clotures',createCustomHTMLContent('30','BAU','automatisation de l\\'injection des clotures','2018-03-28','2018-06-01','15.0','ACH','18'),new Date(2018,2,28),new Date(2018,5,2)],\n",
       "        ]);\n",
       "            var options = {\n",
       "              timeline: { },\n",
       "              tooltip: {isHtml: true},\n",
       "         };\n",
       "\n",
       "         chart.draw(dataTable, options);\n",
       "         }\n",
       "         \n",
       "         function createCustomHTMLContent(taskid,subject,name,start,end, workload, who, predecessor) {\n",
       "             return '<div style=\"padding:5px 5px 5px 5px;\">'+\n",
       "             '<h3>'+subject+'<h3/>'+\n",
       "             '<h4>'+name+'</h4>'+             \n",
       "             '<ul><li>'+who+'</li>'+\n",
       "             '<li><strong>TaskId</strong> '+taskid+'</li>'+\n",
       "             '<li><strong>From</strong> '+start+' <strong>To</strong> '+end+'</li>'+\n",
       "             '<li><strong>WorkLoad</strong> '+workload+'</li>'+\n",
       "             '<li><strong>Predecessor</strong> '+predecessor+''+\n",
       "             '</ul>'+\n",
       "             '</div>'\n",
       "              }\n",
       "        \n",
       "        "
      ],
      "text/plain": [
       "<IPython.core.display.Javascript object>"
      ]
     },
     "execution_count": 40,
     "metadata": {},
     "output_type": "execute_result"
    }
   ],
   "source": [
    "dis.Javascript(DrawGant(_tasks,'timeline',False))"
   ]
  },
  {
   "cell_type": "code",
   "execution_count": 19,
   "metadata": {
    "collapsed": false
   },
   "outputs": [
    {
     "data": {
      "text/html": [
       "\n",
       "       <div id=\"timeline2\" style=\"height: 650px;width: 5000px\"></div>"
      ],
      "text/plain": [
       "<IPython.core.display.HTML object>"
      ]
     },
     "metadata": {},
     "output_type": "display_data"
    }
   ],
   "source": [
    "%%html\n",
    "\n",
    "       <div id=\"timeline2\" style=\"height: 650px;width: 5000px\"></div>"
   ]
  },
  {
   "cell_type": "code",
   "execution_count": 20,
   "metadata": {
    "collapsed": false
   },
   "outputs": [
    {
     "data": {
      "application/javascript": [
       "google.charts.load(\"current\", {packages:[\"timeline\"]});\n",
       "        google.charts.setOnLoadCallback(drawChart);\n",
       "         function drawChart() {\n",
       "            var container = document.getElementById('timeline2');\n",
       "            var chart = new google.visualization.Timeline(container);\n",
       "            var dataTable = new google.visualization.DataTable();\n",
       "\n",
       "        dataTable.addColumn({ type: 'string', id: 'Subject' });\n",
       "        dataTable.addColumn({ type: 'string', id: 'Name' });\n",
       "        dataTable.addColumn({'type': 'string', 'role': 'tooltip', 'p': {'html': true}})\n",
       "        dataTable.addColumn({ type: 'date', id: 'Start' });\n",
       "        dataTable.addColumn({ type: 'date', id: 'End' });        \n",
       "        \n",
       "            dataTable.addRows([['ACH','Telnet Dev + UAT',createCustomHTMLContent('12','Autres Sujets','Telnet Dev + UAT','2016-11-22','2016-11-25','3.0','ACH','nan'),new Date(2016,10,22),new Date(2016,10,26)],\n",
       "        ['PTI','RC - Injecter les donnees en DEV',createCustomHTMLContent('4','Lot Reserves','RC - Injecter les donnees en DEV','2016-11-22','2016-11-22','1.0','PTI','nan'),new Date(2016,10,22),new Date(2016,10,23)],\n",
       "        ['QPI','Agresso',createCustomHTMLContent('14','Chargements initiaux','Agresso','2016-11-22','2016-12-02','3.0','QPI','nan'),new Date(2016,10,22),new Date(2016,11,3)],\n",
       "        ['PTI','Injection de la cloture',createCustomHTMLContent('31','BAU','Injection de la cloture','2016-11-23','2016-11-23','1.0','PTI','nan'),new Date(2016,10,23),new Date(2016,10,24)],\n",
       "        ['PTI','Vie',createCustomHTMLContent('15','Chargements initiaux','Vie','2016-11-24','2016-12-14','15.0','PTI','nan'),new Date(2016,10,24),new Date(2016,11,15)],\n",
       "        ['DEL','RC - Developper les flux datamarts',createCustomHTMLContent('5','Lot Reserves','RC - Developper les flux datamarts','2016-11-23','2016-11-23','1.0','DEL','4'),new Date(2016,10,23),new Date(2016,10,24)],\n",
       "        ['CGA','Preparation et Deploiement en UAT',createCustomHTMLContent('39','Scoring','Preparation et Deploiement en UAT','2016-11-22','2016-11-24','2.0','CGA','nan'),new Date(2016,10,22),new Date(2016,10,25)],\n",
       "        ['CGA','Chargement datamart en UAT',createCustomHTMLContent('40','Scoring','Chargement datamart en UAT','2016-11-25','2016-11-29','2.0','CGA','39'),new Date(2016,10,25),new Date(2016,10,30)],\n",
       "        ['EGA','Creation univers scoring',createCustomHTMLContent('41','Scoring','Creation univers scoring','2016-11-22','2016-11-22','1.0','EGA','nan'),new Date(2016,10,22),new Date(2016,10,23)],\n",
       "        ['MWA','Creation rapports scoring',createCustomHTMLContent('42','Scoring','Creation rapports scoring','2016-11-23','2016-11-25','2.0','MWA','41'),new Date(2016,10,23),new Date(2016,10,26)],\n",
       "        ['MWA','Validation rapports scoring',createCustomHTMLContent('43','Scoring','Validation rapports scoring','2016-11-30','2016-12-02','2.0','MWA','40'),new Date(2016,10,30),new Date(2016,11,3)],\n",
       "        ['QPI','Analyse des erreurs',createCustomHTMLContent('44','Scoring','Analyse des erreurs','2016-12-03','2016-12-09','2.0','QPI','43'),new Date(2016,11,3),new Date(2016,11,10)],\n",
       "        ['QPI','Preparation et deploiement en production univers et rapports',createCustomHTMLContent('45','Scoring','Preparation et deploiement en production univers et rapports','2016-12-10','2016-12-12','1.0','QPI','44'),new Date(2016,11,10),new Date(2016,11,13)],\n",
       "        ['PM','PM',createCustomHTMLContent('1','PM','PM','2016-11-22','2018-02-28','110.0','PM','nan'),new Date(2016,10,22),new Date(2018,2,1)],\n",
       "        ['ACH','Preparation de l\\'environnement',createCustomHTMLContent('13','Sprint','Preparation de l\\'environnement','2016-11-26','2016-11-29','2.0','ACH','nan'),new Date(2016,10,26),new Date(2016,10,30)],\n",
       "        ['DEL','DMG - Developpement des adaptations',createCustomHTMLContent('2','Lot Reserves','DMG - Developpement des adaptations','2016-11-24','2016-11-25','2.0','DEL','4'),new Date(2016,10,24),new Date(2016,10,26)],\n",
       "        ['DEL','RA - Developpement des adaptations',createCustomHTMLContent('3','Lot Reserves','RA - Developpement des adaptations','2016-11-26','2016-11-29','2.0','DEL','4'),new Date(2016,10,26),new Date(2016,10,30)],\n",
       "        ['ACH','Preparation deploiement en UAT',createCustomHTMLContent('7','Sprint','Preparation deploiement en UAT','2016-11-30','2016-12-02','2.0','ACH','5'),new Date(2016,10,30),new Date(2016,11,3)],\n",
       "        ['ACH','Deployer en UAT et injecter les donnees',createCustomHTMLContent('8','Sprint','Deployer en UAT et injecter les donnees','2016-12-03','2016-12-08','3.0','ACH','7'),new Date(2016,11,3),new Date(2016,11,9)],\n",
       "        ['ACH','Support UAT',createCustomHTMLContent('9','Sprint','Support UAT','2016-12-09','2016-12-13','3.0','ACH','8'),new Date(2016,11,9),new Date(2016,11,14)],\n",
       "        ['EGA','RC - Adapter l\\'univers',createCustomHTMLContent('6','Lot Reserves','RC - Adapter l\\'univers','2016-11-24','2016-11-24','1.0','EGA','5'),new Date(2016,10,24),new Date(2016,10,25)],\n",
       "        ['LZI','RC - Tester et valider',createCustomHTMLContent('10','Lot Reserves','RC - Tester et valider','2016-11-24','2016-12-02','4.0','LZI','5'),new Date(2016,10,24),new Date(2016,11,3)],\n",
       "        ['EGA','RA - Adaptation univers',createCustomHTMLContent('25','Lot Reserves','RA - Adaptation univers','2016-11-30','2016-12-01','2.0','EGA','3'),new Date(2016,10,30),new Date(2016,11,2)],\n",
       "        ['SLA','RA - Tester et valider Corporate',createCustomHTMLContent('22','Lot Reserves','RA - Tester et valider Corporate','2016-11-30','2016-12-05','3.0','SLA','3'),new Date(2016,10,30),new Date(2016,11,6)],\n",
       "        ['AHI','RA - Tester et valider Invest',createCustomHTMLContent('23','Lot Reserves','RA - Tester et valider Invest','2016-11-30','2016-12-05','3.0','AHI','3'),new Date(2016,10,30),new Date(2016,11,6)],\n",
       "        ['OGO','RA - Tester et valider Classique',createCustomHTMLContent('24','Lot Reserves','RA - Tester et valider Classique','2016-11-30','2016-12-05','3.0','OGO','3'),new Date(2016,10,30),new Date(2016,11,6)],\n",
       "        ['EGA','DMG - Creation univers',createCustomHTMLContent('21','Lot Reserves','DMG - Creation univers','2016-12-02','2016-12-08','5.0','EGA','2'),new Date(2016,11,2),new Date(2016,11,9)],\n",
       "        ['SLA','DMG - Tester et valider (definir methode)',createCustomHTMLContent('20','Lot Reserves','DMG - Tester et valider (definir methode)','2016-12-06','2017-02-02','10.0','SLA','2'),new Date(2016,11,6),new Date(2017,1,3)],\n",
       "        ['PTI','Issue comptabilite',createCustomHTMLContent('49','BAU','Issue comptabilite','2016-12-15','2017-01-23','10.0','PTI','nan'),new Date(2016,11,15),new Date(2017,0,24)],\n",
       "        ['BAU','BAU',createCustomHTMLContent('16','BAU','BAU','2016-11-22','2017-11-02','175.0','BAU','nan'),new Date(2016,10,22),new Date(2017,10,3)],\n",
       "        ['OVA','Gouvernance et fonctionnement en 2017',createCustomHTMLContent('33','EDB','Gouvernance et fonctionnement en 2017','2016-11-22','2016-11-22','1.0','OVA','nan'),new Date(2016,10,22),new Date(2016,10,23)],\n",
       "        ['PTI','Deployer en production',createCustomHTMLContent('11','Sprint','Deployer en production','2017-01-24','2017-01-26','1.0','PTI','10'),new Date(2017,0,24),new Date(2017,0,27)],\n",
       "        ['EGA','DA - Contenu fichier mapping compte',createCustomHTMLContent('27','Utilisation','DA - Contenu fichier mapping compte','2016-12-09','2016-12-12','2.0','EGA','nan'),new Date(2016,11,9),new Date(2016,11,13)],\n",
       "        ['EGA','Adaptation framework data quality - besoins (a analyser)',createCustomHTMLContent('34','CR','Adaptation framework data quality - besoins (a analyser)','2016-12-13','2016-12-14','2.0','EGA','nan'),new Date(2016,11,13),new Date(2016,11,15)],\n",
       "        ['ACH','Adaptation framework data quality - technique (a analyser)',createCustomHTMLContent('58','CR','Adaptation framework data quality - technique (a analyser)','2016-12-15','2017-03-27','20.0','ACH','34'),new Date(2016,11,15),new Date(2017,2,28)],\n",
       "        ['EGA','Adaptation framework data quality - tests (a analyser)',createCustomHTMLContent('60','CR','Adaptation framework data quality - tests (a analyser)','2017-03-28','2017-03-29','2.0','EGA','58'),new Date(2017,2,28),new Date(2017,2,30)],\n",
       "        ['EGA','Mise a jour des fichiers referentiels (a analyser)',createCustomHTMLContent('37','CR','Mise a jour des fichiers referentiels (a analyser)','2017-03-30','2017-04-05','5.0','EGA','nan'),new Date(2017,2,30),new Date(2017,3,6)],\n",
       "        ['CGA','Injection des nouveaux referentiels',createCustomHTMLContent('59','CR','Injection des nouveaux referentiels','2017-04-06','2017-04-14','1.0','CGA','37'),new Date(2017,3,6),new Date(2017,3,15)],\n",
       "        ['ACH','Operationnalisation dqi, kpi etc',createCustomHTMLContent('29','BAU','Operationnalisation dqi, kpi etc','2017-03-28','2017-05-09','10.0','ACH','11'),new Date(2017,2,28),new Date(2017,4,10)],\n",
       "        ['MWA','RI - Developpement des rapports initiaux',createCustomHTMLContent('50','Utilisation','RI - Developpement des rapports initiaux','2016-12-03','2016-12-12','5.0','MWA','nan'),new Date(2016,11,3),new Date(2016,11,13)],\n",
       "        ['PTI','RI - Extractions de comparaison',createCustomHTMLContent('51','Utilisation','RI - Extractions de comparaison','2017-01-27','2017-02-14','5.0','PTI','nan'),new Date(2017,0,27),new Date(2017,1,15)],\n",
       "        ['PTI','RI - Analyse des erreurs',createCustomHTMLContent('52','Utilisation','RI - Analyse des erreurs','2017-02-15','2017-03-03','5.0','PTI','51'),new Date(2017,1,15),new Date(2017,2,4)],\n",
       "        ['PTI','RI - Corrections',createCustomHTMLContent('53','Utilisation','RI - Corrections','2017-03-04','2017-04-26','15.0','PTI','52'),new Date(2017,2,4),new Date(2017,3,27)],\n",
       "        ['PTI','RI - Preparation et deploiement UAT',createCustomHTMLContent('54','Utilisation','RI - Preparation et deploiement UAT','2017-04-27','2017-05-11','4.0','PTI','53'),new Date(2017,3,27),new Date(2017,4,12)],\n",
       "        ['PTI','RI - Support UAT',createCustomHTMLContent('55','Utilisation','RI - Support UAT','2017-05-12','2017-05-30','5.0','PTI','54'),new Date(2017,4,12),new Date(2017,4,31)],\n",
       "        ['PTI','RI - Deploiement production',createCustomHTMLContent('56','Utilisation','RI - Deploiement production','2017-05-31','2017-06-02','1.0','PTI','55'),new Date(2017,4,31),new Date(2017,5,3)],\n",
       "        ['CGA','Gestion des droits d\\'acces',createCustomHTMLContent('32','BAU','Gestion des droits d\\'acces','2017-04-15','2017-05-15','3.0','CGA','nan'),new Date(2017,3,15),new Date(2017,4,16)],\n",
       "        ['PTI','Prestations hors systeme sources (a analyser)',createCustomHTMLContent('36','CR','Prestations hors systeme sources (a analyser)','2017-06-03','2017-07-26','15.0','PTI','nan'),new Date(2017,5,3),new Date(2017,6,27)],\n",
       "        ['PTI','Reprise historique (version d\\'un record)',createCustomHTMLContent('35','CR','Reprise historique (version d\\'un record)','2017-07-27','2017-11-09','30.0','PTI','nan'),new Date(2017,6,27),new Date(2017,10,10)],\n",
       "        ['ACH','Primes techniques (inventaires, commerciales...) erronees',createCustomHTMLContent('48','BAU','Primes techniques (inventaires, commerciales...) erronees','2017-05-10','2017-06-22','10.0','ACH','nan'),new Date(2017,4,10),new Date(2017,5,23)],\n",
       "        ['PTI','DQI',createCustomHTMLContent('28','CR','DQI','2017-11-10','2018-06-18','62.5','PTI','nan'),new Date(2017,10,10),new Date(2018,5,19)],\n",
       "        ['CGA','Formation SAP BO administration',createCustomHTMLContent('19','BAU','Formation SAP BO administration','2017-05-16','2017-06-30','5.0','CGA','nan'),new Date(2017,4,16),new Date(2017,6,1)],\n",
       "        ['CGA','Merge framework',createCustomHTMLContent('57','CR','Merge framework','2017-07-01','2017-10-03','10.0','CGA','nan'),new Date(2017,6,1),new Date(2017,9,4)],\n",
       "        ['ACH','KPI AXA',createCustomHTMLContent('26','CR','KPI AXA','2017-06-23','2018-03-13','60.0','ACH','nan'),new Date(2017,5,23),new Date(2018,2,14)],\n",
       "        ['PTI','Validation fonctionnelle des chargements',createCustomHTMLContent('38','BAU','Validation fonctionnelle des chargements','2018-06-19','2018-08-09','15.0','PTI','nan'),new Date(2018,5,19),new Date(2018,7,10)],\n",
       "        ['ACH','Formalisation EX RM WIN AIX',createCustomHTMLContent('18','BAU','Formalisation EX RM WIN AIX','2018-03-14','2018-03-27','3.0','ACH','nan'),new Date(2018,2,14),new Date(2018,2,28)],\n",
       "        ['ACH','automatisation de l\\'injection des clotures',createCustomHTMLContent('30','BAU','automatisation de l\\'injection des clotures','2018-03-28','2018-06-01','15.0','ACH','18'),new Date(2018,2,28),new Date(2018,5,2)],\n",
       "        ]);\n",
       "            var options = {\n",
       "              timeline: { },\n",
       "              tooltip: {isHtml: true},\n",
       "         };\n",
       "\n",
       "         chart.draw(dataTable, options);\n",
       "         }\n",
       "         \n",
       "         function createCustomHTMLContent(taskid,subject,name,start,end, workload, who, predecessor) {\n",
       "             return '<div style=\"padding:5px 5px 5px 5px;\">'+\n",
       "             '<h3>'+subject+'<h3/>'+\n",
       "             '<h4>'+name+'</h4>'+             \n",
       "             '<ul><li>'+who+'</li>'+\n",
       "             '<li><strong>TaskId</strong> '+taskid+'</li>'+\n",
       "             '<li><strong>From</strong> '+start+' <strong>To</strong> '+end+'</li>'+\n",
       "             '<li><strong>WorkLoad</strong> '+workload+'</li>'+\n",
       "             '<li><strong>Predecessor</strong> '+predecessor+''+\n",
       "             '</ul>'+\n",
       "             '</div>'\n",
       "              }\n",
       "        \n",
       "        "
      ],
      "text/plain": [
       "<IPython.core.display.Javascript object>"
      ]
     },
     "execution_count": 20,
     "metadata": {},
     "output_type": "execute_result"
    }
   ],
   "source": [
    "dis.Javascript(DrawGant(_tasks,'timeline2',True))"
   ]
  },
  {
   "cell_type": "code",
   "execution_count": 44,
   "metadata": {
    "collapsed": true
   },
   "outputs": [],
   "source": [
    "SaveGantToHtml(DrawGant(_tasks,'timeline',False),'./TimelineBySubject.html')\n",
    "SaveGantToHtml(DrawGant(_tasks,'timeline',True),'./TimelineByPerson.html')"
   ]
  },
  {
   "cell_type": "code",
   "execution_count": 43,
   "metadata": {
    "collapsed": false,
    "scrolled": false
   },
   "outputs": [],
   "source": [
    "ExportTasks('./Detailed Planning.csv',_tasks)"
   ]
  },
  {
   "cell_type": "code",
   "execution_count": 218,
   "metadata": {
    "collapsed": false,
    "scrolled": true
   },
   "outputs": [
    {
     "data": {
      "text/html": [
       "<div>\n",
       "<table border=\"1\" class=\"dataframe\">\n",
       "  <thead>\n",
       "    <tr style=\"text-align: right;\">\n",
       "      <th></th>\n",
       "      <th>Who</th>\n",
       "      <th>Date</th>\n",
       "      <th>Available</th>\n",
       "    </tr>\n",
       "  </thead>\n",
       "  <tbody>\n",
       "    <tr>\n",
       "      <th>0</th>\n",
       "      <td>ACH</td>\n",
       "      <td>2016-11-21</td>\n",
       "      <td>1.0</td>\n",
       "    </tr>\n",
       "    <tr>\n",
       "      <th>2020</th>\n",
       "      <td>SLA</td>\n",
       "      <td>2016-11-21</td>\n",
       "      <td>1.0</td>\n",
       "    </tr>\n",
       "    <tr>\n",
       "      <th>3636</th>\n",
       "      <td>PM</td>\n",
       "      <td>2016-11-21</td>\n",
       "      <td>0.0</td>\n",
       "    </tr>\n",
       "    <tr>\n",
       "      <th>1616</th>\n",
       "      <td>MWA</td>\n",
       "      <td>2016-11-21</td>\n",
       "      <td>1.0</td>\n",
       "    </tr>\n",
       "    <tr>\n",
       "      <th>4040</th>\n",
       "      <td>BAU</td>\n",
       "      <td>2016-11-21</td>\n",
       "      <td>1.0</td>\n",
       "    </tr>\n",
       "  </tbody>\n",
       "</table>\n",
       "</div>"
      ],
      "text/plain": [
       "      Who       Date  Available\n",
       "0     ACH 2016-11-21        1.0\n",
       "2020  SLA 2016-11-21        1.0\n",
       "3636   PM 2016-11-21        0.0\n",
       "1616  MWA 2016-11-21        1.0\n",
       "4040  BAU 2016-11-21        1.0"
      ]
     },
     "execution_count": 218,
     "metadata": {},
     "output_type": "execute_result"
    }
   ],
   "source": [
    "_avail.head(5)"
   ]
  },
  {
   "cell_type": "code",
   "execution_count": 203,
   "metadata": {
    "collapsed": false,
    "scrolled": true
   },
   "outputs": [
    {
     "data": {
      "text/html": [
       "<div>\n",
       "<table border=\"1\" class=\"dataframe\">\n",
       "  <thead>\n",
       "    <tr style=\"text-align: right;\">\n",
       "      <th></th>\n",
       "      <th>TaskId</th>\n",
       "      <th>Subject</th>\n",
       "      <th>Name</th>\n",
       "      <th>WorkLoad</th>\n",
       "      <th>Who</th>\n",
       "      <th>StartDate</th>\n",
       "      <th>EndDate</th>\n",
       "      <th>Priority</th>\n",
       "      <th>PredecessorTaskId</th>\n",
       "    </tr>\n",
       "    <tr>\n",
       "      <th>TaskId</th>\n",
       "      <th></th>\n",
       "      <th></th>\n",
       "      <th></th>\n",
       "      <th></th>\n",
       "      <th></th>\n",
       "      <th></th>\n",
       "      <th></th>\n",
       "      <th></th>\n",
       "      <th></th>\n",
       "    </tr>\n",
       "  </thead>\n",
       "  <tbody>\n",
       "    <tr>\n",
       "      <th>16</th>\n",
       "      <td>16</td>\n",
       "      <td>BAU</td>\n",
       "      <td>BAU</td>\n",
       "      <td>90.0</td>\n",
       "      <td>BAU</td>\n",
       "      <td>2016-11-22</td>\n",
       "      <td>2017-04-25</td>\n",
       "      <td>900</td>\n",
       "      <td>NaN</td>\n",
       "    </tr>\n",
       "    <tr>\n",
       "      <th>1</th>\n",
       "      <td>1</td>\n",
       "      <td>PM</td>\n",
       "      <td>PM</td>\n",
       "      <td>55.0</td>\n",
       "      <td>PM</td>\n",
       "      <td>2016-11-22</td>\n",
       "      <td>2017-04-20</td>\n",
       "      <td>999</td>\n",
       "      <td>NaN</td>\n",
       "    </tr>\n",
       "  </tbody>\n",
       "</table>\n",
       "</div>"
      ],
      "text/plain": [
       "        TaskId Subject Name  WorkLoad  Who  StartDate    EndDate  Priority  \\\n",
       "TaskId                                                                       \n",
       "16          16     BAU  BAU      90.0  BAU 2016-11-22 2017-04-25       900   \n",
       "1            1      PM   PM      55.0   PM 2016-11-22 2017-04-20       999   \n",
       "\n",
       "       PredecessorTaskId  \n",
       "TaskId                    \n",
       "16                   NaN  \n",
       "1                    NaN  "
      ]
     },
     "execution_count": 203,
     "metadata": {},
     "output_type": "execute_result"
    }
   ],
   "source": [
    "_tasks.loc[[16,1]]"
   ]
  }
 ],
 "metadata": {
  "anaconda-cloud": {},
  "kernelspec": {
   "display_name": "Python [Root]",
   "language": "python",
   "name": "Python [Root]"
  },
  "language_info": {
   "codemirror_mode": {
    "name": "ipython",
    "version": 2
   },
   "file_extension": ".py",
   "mimetype": "text/x-python",
   "name": "python",
   "nbconvert_exporter": "python",
   "pygments_lexer": "ipython2",
   "version": "2.7.12"
  }
 },
 "nbformat": 4,
 "nbformat_minor": 0
}
