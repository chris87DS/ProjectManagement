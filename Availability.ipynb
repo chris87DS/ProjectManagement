{
 "cells": [
  {
   "cell_type": "markdown",
   "metadata": {},
   "source": [
    "# Availability Management\n",
    "Format de fichier : Who, Date, Available"
   ]
  },
  {
   "cell_type": "markdown",
   "metadata": {},
   "source": [
    "## Internals"
   ]
  },
  {
   "cell_type": "code",
   "execution_count": null,
   "metadata": {
    "collapsed": true
   },
   "outputs": [],
   "source": [
    "_path=''"
   ]
  },
  {
   "cell_type": "code",
   "execution_count": 16,
   "metadata": {
    "collapsed": true
   },
   "outputs": [],
   "source": [
    "import pandas as pd\n",
    "import datetime as dt\n",
    "import numpy as np"
   ]
  },
  {
   "cell_type": "code",
   "execution_count": 23,
   "metadata": {
    "collapsed": true
   },
   "outputs": [],
   "source": [
    "def InitAvailability(start,end, who):\n",
    "    avail = np.zeros(shape=((end-start).days,len(who)))    \n",
    "    dateRange = np.arange(start,end, dtype='datetime64[D]')\n",
    "    return pd.DataFrame(data=avail, columns=who,index=dateRange)    "
   ]
  },
  {
   "cell_type": "code",
   "execution_count": 232,
   "metadata": {
    "collapsed": false
   },
   "outputs": [],
   "source": [
    "def SetAvailable(avail, weekdays, who, amount):\n",
    "    days = pd.DataFrame(avail.index.get_values(),columns=['date'])\n",
    "    days['selected']=days.applymap(lambda x:x.isoweekday() in weekdays)\n",
    "    #print days[days.selected].date\n",
    "    avail.loc[days[days.selected].date,who] =amount\n",
    "def SetAvailableByDate(avail,weekdays, dateFrom,dateTo, who, amount):\n",
    "    days = pd.DataFrame(avail.index.get_values(),columns=['date'])\n",
    "    days['selected']=days.applymap(lambda x:(x.isoweekday() in weekdays) & (x >= dateFrom) & (x<=dateTo))\n",
    "    #print days[days.selected].date\n",
    "    avail.loc[days[days.selected].date,who] =amount\n",
    "def SetNonWorkingDay(avail,weekdays,who):\n",
    "    days = pd.DataFrame(avail.index.get_values(),columns=['date'])\n",
    "    days['selected']=days.applymap(lambda x:x.isoweekday() in weekdays)\n",
    "    #print days[days.selected].date\n",
    "    avail.loc[days[days.selected].date,who] =0\n",
    "def SetOnHoliday(avail, dateFrom,dateTo,who):\n",
    "    avail.loc[dateFrom:dateTo,who]=0"
   ]
  },
  {
   "cell_type": "code",
   "execution_count": 145,
   "metadata": {
    "collapsed": false
   },
   "outputs": [],
   "source": [
    "def SaveToCsv(path, avail):\n",
    "    _temp=avail.copy()\n",
    "    _temp['Date']=_temp.index.get_values()\n",
    "    #print _temp\n",
    "    _result = pd.melt(_temp,id_vars=['Date'], var_name='Who',value_name='Available')[['Who','Date','Available']]\n",
    "    _result.to_csv(path_or_buf=path,index=False)"
   ]
  },
  {
   "cell_type": "markdown",
   "metadata": {},
   "source": [
    "## Actuals"
   ]
  },
  {
   "cell_type": "code",
   "execution_count": 211,
   "metadata": {
    "collapsed": true
   },
   "outputs": [],
   "source": [
    "WhoList=['ACH','CGA','PTI','QPI','MWA','SLA','OGO','AHI','LZI','PM','BAU','DEL','EGA','OVA']\n",
    "Actuariat = ['SLA','OGO','AHI']"
   ]
  },
  {
   "cell_type": "code",
   "execution_count": 233,
   "metadata": {
    "collapsed": false
   },
   "outputs": [],
   "source": [
    "_avail = InitAvailability(dt.datetime(2016,11,21), dt.datetime(2018,12,30),\\\n",
    "                          WhoList)\n",
    "SetAvailableByDate(_avail,[1,2,4,5],dt.datetime(2016,11,21),dt.datetime(2016,12,30),'ACH',1)\n",
    "SetAvailableByDate(_avail,[1,2,4,5],dt.datetime(2017,01,01),dt.datetime(2018,12,30),'ACH',0.4)\n",
    "SetAvailableByDate(_avail,[1,2,3,4,5],dt.datetime(2016,11,21),dt.datetime(2016,12,30),'PTI',1)\n",
    "SetAvailableByDate(_avail,[1,2,3,4,5],dt.datetime(2017,01,01),dt.datetime(2018,12,30),'PTI',0.4)\n",
    "SetAvailable(_avail,[1,2,3,4],'BAU',1)\n",
    "SetAvailable(_avail,[1,5],'QPI',1)\n",
    "SetAvailable(_avail,[1,2,4,5],'MWA',1)\n",
    "SetAvailable(_avail,[1,2,4,5],'SLA',1)\n",
    "SetAvailable(_avail,[1,2,4,5],'OGO',1)\n",
    "SetAvailable(_avail,[1,2,4,5],'AHI',1)\n",
    "SetAvailable(_avail,[1,2,5],'LZI',1)\n",
    "SetAvailable(_avail,[1,2,3,4,5],'DEL',1)\n",
    "SetAvailable(_avail,[1,2,3,4,5],'EGA',1)\n",
    "SetAvailable(_avail,[1,2,3,4,5],'OVA',1)\n",
    "SetAvailableByDate(_avail,[1,2,3,4,5],dt.datetime(2016,11,21),dt.datetime(2016,12,30),'CGA',0.75)\n",
    "SetAvailableByDate(_avail,[1,2,3,4,5],dt.datetime(2017,01,01),dt.datetime(2018,12,30),'CGA',0.15)\n",
    "SetAvailableByDate(_avail,[1,2,3,4,5],dt.datetime(2016,11,21),dt.datetime(2016,12,30),'PM',0.25)\n",
    "SetAvailableByDate(_avail,[1,2,3,4,5],dt.datetime(2017,01,01),dt.datetime(2018,12,30),'PM',0.35)\n",
    "\n",
    "#Always set the holidays last!\n",
    "SetOnHoliday(_avail,dt.datetime(2016,12,7),dt.datetime(2016,12,12),'CGA')\n",
    "SetOnHoliday(_avail,dt.datetime(2016,12,7),dt.datetime(2016,12,12),'PM')\n",
    "SetOnHoliday(_avail,dt.datetime(2016,12,21),dt.datetime(2017,01,2),'BAU')\n",
    "SetOnHoliday(_avail,dt.datetime(2016,12,21),dt.datetime(2017,01,15),'ACH')\n",
    "SetOnHoliday(_avail,dt.datetime(2016,12,21),dt.datetime(2017,01,2),'PTI')\n",
    "SetOnHoliday(_avail,dt.datetime(2016,12,21),dt.datetime(2018,12,31),'QPI')\n",
    "SetOnHoliday(_avail,dt.datetime(2016,11,20),dt.datetime(2016,12,20),'BAU')\n",
    "for who in WhoList:\n",
    "    SetOnHoliday(_avail,dt.datetime(2016,12,21),dt.datetime(2016,12,31),who)\n",
    "for who in Actuariat:\n",
    "    SetOnHoliday(_avail,dt.datetime(2017,01,01),dt.datetime(2017,01,31),who)"
   ]
  },
  {
   "cell_type": "code",
   "execution_count": 234,
   "metadata": {
    "collapsed": false,
    "scrolled": true
   },
   "outputs": [
    {
     "data": {
      "text/plain": [
       "ACH    18.0\n",
       "CGA    13.5\n",
       "PTI    22.0\n",
       "QPI     9.0\n",
       "MWA    18.0\n",
       "SLA    18.0\n",
       "OGO    18.0\n",
       "AHI    18.0\n",
       "LZI    14.0\n",
       "PM      4.5\n",
       "BAU     0.0\n",
       "DEL    22.0\n",
       "EGA    22.0\n",
       "OVA    22.0\n",
       "dtype: float64"
      ]
     },
     "execution_count": 234,
     "metadata": {},
     "output_type": "execute_result"
    }
   ],
   "source": [
    "_avail[dt.datetime(2016,11,21):dt.datetime(2016,12,30)].sum()"
   ]
  },
  {
   "cell_type": "code",
   "execution_count": 237,
   "metadata": {
    "collapsed": false
   },
   "outputs": [
    {
     "data": {
      "text/plain": [
       "2016-11-21    1.0\n",
       "2016-11-22    1.0\n",
       "2016-11-23    0.0\n",
       "2016-11-24    1.0\n",
       "2016-11-25    1.0\n",
       "2016-11-26    0.0\n",
       "2016-11-27    0.0\n",
       "2016-11-28    1.0\n",
       "2016-11-29    1.0\n",
       "2016-11-30    0.0\n",
       "2016-12-01    1.0\n",
       "2016-12-02    1.0\n",
       "2016-12-03    0.0\n",
       "2016-12-04    0.0\n",
       "2016-12-05    1.0\n",
       "2016-12-06    1.0\n",
       "2016-12-07    0.0\n",
       "2016-12-08    1.0\n",
       "2016-12-09    1.0\n",
       "2016-12-10    0.0\n",
       "2016-12-11    0.0\n",
       "2016-12-12    1.0\n",
       "2016-12-13    1.0\n",
       "2016-12-14    0.0\n",
       "2016-12-15    1.0\n",
       "2016-12-16    1.0\n",
       "2016-12-17    0.0\n",
       "2016-12-18    0.0\n",
       "2016-12-19    1.0\n",
       "2016-12-20    1.0\n",
       "2016-12-21    0.0\n",
       "2016-12-22    0.0\n",
       "2016-12-23    0.0\n",
       "2016-12-24    0.0\n",
       "2016-12-25    0.0\n",
       "2016-12-26    0.0\n",
       "2016-12-27    0.0\n",
       "2016-12-28    0.0\n",
       "2016-12-29    0.0\n",
       "2016-12-30    0.0\n",
       "Name: ACH, dtype: float64"
      ]
     },
     "execution_count": 237,
     "metadata": {},
     "output_type": "execute_result"
    }
   ],
   "source": [
    "_avail['ACH'].head(40)"
   ]
  },
  {
   "cell_type": "code",
   "execution_count": 236,
   "metadata": {
    "collapsed": false
   },
   "outputs": [],
   "source": [
    "SaveToCsv('availReel.csv',_avail)"
   ]
  }
 ],
 "metadata": {
  "anaconda-cloud": {},
  "kernelspec": {
   "display_name": "Python [Root]",
   "language": "python",
   "name": "Python [Root]"
  },
  "language_info": {
   "codemirror_mode": {
    "name": "ipython",
    "version": 2
   },
   "file_extension": ".py",
   "mimetype": "text/x-python",
   "name": "python",
   "nbconvert_exporter": "python",
   "pygments_lexer": "ipython2",
   "version": "2.7.12"
  }
 },
 "nbformat": 4,
 "nbformat_minor": 0
}
