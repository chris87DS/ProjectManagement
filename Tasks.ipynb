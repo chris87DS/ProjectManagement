{
 "cells": [
  {
   "cell_type": "markdown",
   "metadata": {},
   "source": [
    "# Task Management"
   ]
  },
  {
   "cell_type": "markdown",
   "metadata": {},
   "source": [
    "## Internals"
   ]
  },
  {
   "cell_type": "code",
   "execution_count": 2,
   "metadata": {
    "collapsed": true
   },
   "outputs": [],
   "source": [
    "import pandas as pd\n",
    "import datetime as dt"
   ]
  },
  {
   "cell_type": "code",
   "execution_count": 3,
   "metadata": {
    "collapsed": true
   },
   "outputs": [],
   "source": [
    "_pathTasks='tasksProjet.csv'"
   ]
  },
  {
   "cell_type": "code",
   "execution_count": 5,
   "metadata": {
    "collapsed": true
   },
   "outputs": [],
   "source": [
    "_TaskHeaders = ['TaskId','Subject','Name','WorkLoad','Who','StartDate','EndDate','Priority','PredecessorTaskId']\n",
    "def LoadTask(path):\n",
    "        data = pd.read_csv(path, header=0,names=_TaskHeaders, dtype={'PredecessorTaskId':object},delimiter=';',decimal=',')\n",
    "        data.StartDate = pd.to_datetime(data.StartDate)\n",
    "        data.EndDate = pd.to_datetime(data.EndDate)\n",
    "        data.index=data.TaskId\n",
    "        return data"
   ]
  },
  {
   "cell_type": "code",
   "execution_count": 22,
   "metadata": {
    "collapsed": true
   },
   "outputs": [],
   "source": [
    "def SetTaskToSomeone(tasks, TaskId,Who):\n",
    "    tasks.loc[TaskId,'Who']=Who"
   ]
  },
  {
   "cell_type": "code",
   "execution_count": 29,
   "metadata": {
    "collapsed": true
   },
   "outputs": [],
   "source": [
    "def SetWorkLoad(tasks, TaskId,Load):\n",
    "    tasks.loc[TaskId,'WorkLoad']=Load"
   ]
  },
  {
   "cell_type": "code",
   "execution_count": 26,
   "metadata": {
    "collapsed": true
   },
   "outputs": [],
   "source": [
    "def SaveToCSV(path,tasks):\n",
    "    tasks.to_csv(path,sep=';',decimal=',')    "
   ]
  },
  {
   "cell_type": "code",
   "execution_count": 42,
   "metadata": {
    "collapsed": true
   },
   "outputs": [],
   "source": [
    "def SetPredecessorTask(tasks, TaskId,PredecessorTaskId):\n",
    "    tasks.loc[TaskId,'PredecessorTaskId']=PredecessorTaskId"
   ]
  },
  {
   "cell_type": "markdown",
   "metadata": {},
   "source": [
    "## User"
   ]
  },
  {
   "cell_type": "code",
   "execution_count": 20,
   "metadata": {
    "collapsed": false
   },
   "outputs": [],
   "source": [
    "_tasks = LoadTask(_pathTasks)"
   ]
  },
  {
   "cell_type": "code",
   "execution_count": 17,
   "metadata": {
    "collapsed": false,
    "scrolled": true
   },
   "outputs": [
    {
     "data": {
      "text/html": [
       "<div>\n",
       "<table border=\"1\" class=\"dataframe\">\n",
       "  <thead>\n",
       "    <tr style=\"text-align: right;\">\n",
       "      <th></th>\n",
       "      <th>TaskId</th>\n",
       "      <th>Subject</th>\n",
       "      <th>Name</th>\n",
       "      <th>WorkLoad</th>\n",
       "      <th>Who</th>\n",
       "      <th>StartDate</th>\n",
       "      <th>EndDate</th>\n",
       "      <th>Priority</th>\n",
       "      <th>PredecessorTaskId</th>\n",
       "    </tr>\n",
       "    <tr>\n",
       "      <th>TaskId</th>\n",
       "      <th></th>\n",
       "      <th></th>\n",
       "      <th></th>\n",
       "      <th></th>\n",
       "      <th></th>\n",
       "      <th></th>\n",
       "      <th></th>\n",
       "      <th></th>\n",
       "      <th></th>\n",
       "    </tr>\n",
       "  </thead>\n",
       "  <tbody>\n",
       "    <tr>\n",
       "      <th>12</th>\n",
       "      <td>12</td>\n",
       "      <td>Telnet taux technique</td>\n",
       "      <td>Dev + UAT</td>\n",
       "      <td>3.0</td>\n",
       "      <td>ACH</td>\n",
       "      <td>NaT</td>\n",
       "      <td>NaT</td>\n",
       "      <td>1100</td>\n",
       "      <td>NaN</td>\n",
       "    </tr>\n",
       "    <tr>\n",
       "      <th>4</th>\n",
       "      <td>4</td>\n",
       "      <td>Reserves corporates</td>\n",
       "      <td>Injecter les donnees en DEV</td>\n",
       "      <td>1.0</td>\n",
       "      <td>PTI</td>\n",
       "      <td>NaT</td>\n",
       "      <td>NaT</td>\n",
       "      <td>1095</td>\n",
       "      <td>NaN</td>\n",
       "    </tr>\n",
       "    <tr>\n",
       "      <th>14</th>\n",
       "      <td>14</td>\n",
       "      <td>Chargements initiaux</td>\n",
       "      <td>Agresso</td>\n",
       "      <td>3.0</td>\n",
       "      <td>QPI</td>\n",
       "      <td>NaT</td>\n",
       "      <td>NaT</td>\n",
       "      <td>1090</td>\n",
       "      <td>NaN</td>\n",
       "    </tr>\n",
       "    <tr>\n",
       "      <th>31</th>\n",
       "      <td>31</td>\n",
       "      <td>BAU</td>\n",
       "      <td>Injection de la cloture</td>\n",
       "      <td>1.0</td>\n",
       "      <td>PTI</td>\n",
       "      <td>NaT</td>\n",
       "      <td>NaT</td>\n",
       "      <td>1087</td>\n",
       "      <td>NaN</td>\n",
       "    </tr>\n",
       "    <tr>\n",
       "      <th>15</th>\n",
       "      <td>15</td>\n",
       "      <td>Chargements initiaux</td>\n",
       "      <td>Vie</td>\n",
       "      <td>15.0</td>\n",
       "      <td>PTI</td>\n",
       "      <td>NaT</td>\n",
       "      <td>NaT</td>\n",
       "      <td>1085</td>\n",
       "      <td>NaN</td>\n",
       "    </tr>\n",
       "    <tr>\n",
       "      <th>5</th>\n",
       "      <td>5</td>\n",
       "      <td>Reserves corporates</td>\n",
       "      <td>Developper les flux datamarts</td>\n",
       "      <td>1.0</td>\n",
       "      <td>DEL</td>\n",
       "      <td>NaT</td>\n",
       "      <td>NaT</td>\n",
       "      <td>1075</td>\n",
       "      <td>4</td>\n",
       "    </tr>\n",
       "    <tr>\n",
       "      <th>39</th>\n",
       "      <td>39</td>\n",
       "      <td>Scoring</td>\n",
       "      <td>Preparation et Deploiement en UAT</td>\n",
       "      <td>2.0</td>\n",
       "      <td>CGA</td>\n",
       "      <td>NaT</td>\n",
       "      <td>NaT</td>\n",
       "      <td>1070</td>\n",
       "      <td>NaN</td>\n",
       "    </tr>\n",
       "    <tr>\n",
       "      <th>40</th>\n",
       "      <td>40</td>\n",
       "      <td>Scoring</td>\n",
       "      <td>Chargement datamart en UAT</td>\n",
       "      <td>2.0</td>\n",
       "      <td>CGA</td>\n",
       "      <td>NaT</td>\n",
       "      <td>NaT</td>\n",
       "      <td>1060</td>\n",
       "      <td>39</td>\n",
       "    </tr>\n",
       "    <tr>\n",
       "      <th>41</th>\n",
       "      <td>41</td>\n",
       "      <td>Scoring</td>\n",
       "      <td>Creation univers scoring</td>\n",
       "      <td>1.0</td>\n",
       "      <td>EGA</td>\n",
       "      <td>NaT</td>\n",
       "      <td>NaT</td>\n",
       "      <td>1050</td>\n",
       "      <td>NaN</td>\n",
       "    </tr>\n",
       "    <tr>\n",
       "      <th>42</th>\n",
       "      <td>42</td>\n",
       "      <td>Scoring</td>\n",
       "      <td>Creation rapports scoring</td>\n",
       "      <td>2.0</td>\n",
       "      <td>MWA</td>\n",
       "      <td>NaT</td>\n",
       "      <td>NaT</td>\n",
       "      <td>1040</td>\n",
       "      <td>41</td>\n",
       "    </tr>\n",
       "  </tbody>\n",
       "</table>\n",
       "</div>"
      ],
      "text/plain": [
       "        TaskId                Subject                               Name  \\\n",
       "TaskId                                                                     \n",
       "12          12  Telnet taux technique                          Dev + UAT   \n",
       "4            4    Reserves corporates        Injecter les donnees en DEV   \n",
       "14          14   Chargements initiaux                            Agresso   \n",
       "31          31                    BAU            Injection de la cloture   \n",
       "15          15   Chargements initiaux                                Vie   \n",
       "5            5    Reserves corporates      Developper les flux datamarts   \n",
       "39          39                Scoring  Preparation et Deploiement en UAT   \n",
       "40          40                Scoring         Chargement datamart en UAT   \n",
       "41          41                Scoring           Creation univers scoring   \n",
       "42          42                Scoring          Creation rapports scoring   \n",
       "\n",
       "        WorkLoad  Who StartDate EndDate  Priority PredecessorTaskId  \n",
       "TaskId                                                               \n",
       "12           3.0  ACH       NaT     NaT      1100               NaN  \n",
       "4            1.0  PTI       NaT     NaT      1095               NaN  \n",
       "14           3.0  QPI       NaT     NaT      1090               NaN  \n",
       "31           1.0  PTI       NaT     NaT      1087               NaN  \n",
       "15          15.0  PTI       NaT     NaT      1085               NaN  \n",
       "5            1.0  DEL       NaT     NaT      1075                 4  \n",
       "39           2.0  CGA       NaT     NaT      1070               NaN  \n",
       "40           2.0  CGA       NaT     NaT      1060                39  \n",
       "41           1.0  EGA       NaT     NaT      1050               NaN  \n",
       "42           2.0  MWA       NaT     NaT      1040                41  "
      ]
     },
     "execution_count": 17,
     "metadata": {},
     "output_type": "execute_result"
    }
   ],
   "source": [
    "_tasks.head(10)"
   ]
  },
  {
   "cell_type": "code",
   "execution_count": 23,
   "metadata": {
    "collapsed": true
   },
   "outputs": [],
   "source": [
    "SetTaskToSomeone(_tasks,28,'PTI')"
   ]
  },
  {
   "cell_type": "code",
   "execution_count": 24,
   "metadata": {
    "collapsed": false
   },
   "outputs": [
    {
     "data": {
      "text/plain": [
       "TaskId                 28\n",
       "Subject               DQI\n",
       "Name                  DQI\n",
       "WorkLoad             62.5\n",
       "Who                   PTI\n",
       "StartDate             NaT\n",
       "EndDate               NaT\n",
       "Priority              475\n",
       "PredecessorTaskId     NaN\n",
       "Name: 28, dtype: object"
      ]
     },
     "execution_count": 24,
     "metadata": {},
     "output_type": "execute_result"
    }
   ],
   "source": [
    "_tasks.loc[28]"
   ]
  },
  {
   "cell_type": "code",
   "execution_count": 40,
   "metadata": {
    "collapsed": true
   },
   "outputs": [],
   "source": [
    "SetWorkLoad(_tasks,16,175) #BAU\n",
    "SetWorkLoad(_tasks,1,110) #PM"
   ]
  },
  {
   "cell_type": "code",
   "execution_count": 43,
   "metadata": {
    "collapsed": true
   },
   "outputs": [],
   "source": [
    "SetPredecessorTask(_tasks,41,40)"
   ]
  },
  {
   "cell_type": "code",
   "execution_count": 44,
   "metadata": {
    "collapsed": false
   },
   "outputs": [],
   "source": [
    "SaveToCSV(_pathTasks,_tasks)"
   ]
  }
 ],
 "metadata": {
  "kernelspec": {
   "display_name": "Python [Root]",
   "language": "python",
   "name": "Python [Root]"
  },
  "language_info": {
   "codemirror_mode": {
    "name": "ipython",
    "version": 2
   },
   "file_extension": ".py",
   "mimetype": "text/x-python",
   "name": "python",
   "nbconvert_exporter": "python",
   "pygments_lexer": "ipython2",
   "version": "2.7.12"
  }
 },
 "nbformat": 4,
 "nbformat_minor": 0
}
